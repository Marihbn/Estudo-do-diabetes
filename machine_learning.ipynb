{
  "cells": [
    {
      "cell_type": "markdown",
      "metadata": {
        "id": "view-in-github",
        "colab_type": "text"
      },
      "source": [
        "<a href=\"https://colab.research.google.com/github/Marihbn/Estudo-do-diabetes/blob/main/machine_learning.ipynb\" target=\"_parent\"><img src=\"https://colab.research.google.com/assets/colab-badge.svg\" alt=\"Open In Colab\"/></a>"
      ]
    },
    {
      "cell_type": "markdown",
      "source": [
        "## **Estudo da saúde populacional dos países mais influentes da América do Sul direcionado a diabetes**\n",
        "### Barbara da Paixão Perez Rodrigues, Sarah de Peixoto Rodrigues Freire, Vitória Yumi Uetuki Nicoleti e Marina Barim do Nascimento.\n",
        "### Ilum, Escola de Ciência - CNPEM,  Campinas - Brasil\n",
        "\n",
        "![Mapa mercosul](https://1.bp.blogspot.com/-y1GsVkYiSWA/YDPPngt_ycI/AAAAAAAALAg/eFgXKs8Ptt0OzZkffhhlZumoHliTZFyVwCLcBGAsYHQ/s2048/3.jpg)\n",
        "<br>`Fonte: Ferreira, Wladimir Jansen. \"Professor Wladimir - Geografia\". Disponível em: https://profwladimir.blogspot.com/. Acesso em: 20 de agosto de 2022.` \n",
        "\n",
        "\n",
        "<br> Este repositório tem como objetivo registrar os estudos feitos por alunas da `Ilum Escola de Ciência - CNPEM` no segundo semestre de graduação no ano de 2022 na matéria `\"Aprendizado de máquina\"` ministrada pelos professores Daniel Cassar e James Almeida.\n",
        "<br>\n",
        "<br> Será feito um estudo sobre o comportamento populacional do Brasil, Chile e da Argentina relacionando-os com o percentual de diabéticos prováveis nesses países. Assim, tendo em vista que eles são os maiores integrantes do Mercosul, será possível entender como essa doença apresenta-se nesses lugares e uma crítica as medidas públicas do bloco economico poderá, então, ser feita, visto que estas nações possuem grande influência nos hábitos de todo continente.\n",
        "<br> \n"
      ],
      "metadata": {
        "id": "gL02uwL1BHwo"
      }
    },
    {
      "cell_type": "markdown",
      "source": [
        "#### **Passos iniciais**"
      ],
      "metadata": {
        "id": "w8LMHclFCI2g"
      }
    },
    {
      "cell_type": "code",
      "execution_count": null,
      "metadata": {
        "id": "NOv82S-GQtjh"
      },
      "outputs": [],
      "source": [
        "# importando bibliotecas principais\n",
        "import pandas as pd \n",
        "import matplotlib.pyplot as plt\n",
        "import seaborn as sns\n",
        "import numpy as np"
      ]
    },
    {
      "cell_type": "code",
      "execution_count": null,
      "metadata": {
        "id": "GMJ7YISJxilp"
      },
      "outputs": [],
      "source": [
        "url = \"https://github.com/barbaraperez/Estudo-do-diabetes/blob/main/datateste_diabetes1.5.xlsx?raw=true\" # salva o link da nossa tabela de dados armazenados em arquivo xlsx no github em uma variável\n",
        "df = pd.read_excel(url, header=0) #pede para o pandas criar um dataframe com esses dados"
      ]
    },
    {
      "cell_type": "code",
      "execution_count": null,
      "metadata": {
        "colab": {
          "base_uri": "https://localhost:8080/"
        },
        "id": "jXVSBNXH4GeP",
        "outputId": "5a84db88-e57f-492a-ae30-2d580630d132"
      },
      "outputs": [
        {
          "output_type": "stream",
          "name": "stdout",
          "text": [
            "(66, 7)\n"
          ]
        }
      ],
      "source": [
        "print(df.shape) ## número de linhas e colunas dos nossos dados"
      ]
    },
    {
      "cell_type": "code",
      "execution_count": null,
      "metadata": {
        "colab": {
          "base_uri": "https://localhost:8080/"
        },
        "id": "H_3Ebz8c4HA5",
        "outputId": "9d9686b7-7361-42dc-f905-96ad4be977df"
      },
      "outputs": [
        {
          "output_type": "stream",
          "name": "stdout",
          "text": [
            "ano                        int64\n",
            "pais                      object\n",
            "idh                      float64\n",
            "populacao_geral            int64\n",
            "per_crian_cinc_soprep    float64\n",
            "kcal_medio                 int64\n",
            "diabeticos               float64\n",
            "dtype: object\n"
          ]
        }
      ],
      "source": [
        "print(df.dtypes) ## tipo dos dados de cada coluna"
      ]
    },
    {
      "cell_type": "code",
      "execution_count": null,
      "metadata": {
        "colab": {
          "base_uri": "https://localhost:8080/"
        },
        "id": "JgatCJbF16YZ",
        "outputId": "a0a1aed7-2d06-40e9-fd8e-ccfffd5c481f"
      },
      "outputs": [
        {
          "output_type": "stream",
          "name": "stdout",
          "text": [
            "               ano        idh  populacao_geral  per_crian_cinc_soprep  \\\n",
            "count    66.000000  60.000000     6.600000e+01              63.000000   \n",
            "mean   2010.500000   0.784750     8.477532e+07               9.909524   \n",
            "std       6.392905   0.050022     8.009502e+07               2.392037   \n",
            "min    2000.000000   0.685000     1.534235e+07               6.200000   \n",
            "25%    2005.000000   0.756000     1.827441e+07               7.100000   \n",
            "50%    2010.500000   0.787500     4.102497e+07              10.600000   \n",
            "75%    2016.000000   0.830250     1.855970e+08              12.050000   \n",
            "max    2021.000000   0.851000     2.139934e+08              12.900000   \n",
            "\n",
            "        kcal_medio    diabeticos  \n",
            "count    66.000000     66.000000  \n",
            "mean   2415.045455   4531.775606  \n",
            "std      21.913418   5240.595637  \n",
            "min    2367.000000    131.100000  \n",
            "25%    2398.750000   1176.600000  \n",
            "50%    2414.000000   1638.750000  \n",
            "75%    2433.000000   7955.975000  \n",
            "max    2448.000000  15733.600000  \n"
          ]
        }
      ],
      "source": [
        "print(df.describe()) ## estatísticas descritivas dos dados"
      ]
    },
    {
      "cell_type": "code",
      "execution_count": null,
      "metadata": {
        "colab": {
          "base_uri": "https://localhost:8080/"
        },
        "id": "JsJSytO-7MQ2",
        "outputId": "8d22fe74-d740-46d7-82bc-6ef0633331c8"
      },
      "outputs": [
        {
          "output_type": "execute_result",
          "data": {
            "text/plain": [
              "<bound method NDFrame.head of      ano    pais    idh  populacao_geral  per_crian_cinc_soprep  kcal_medio  \\\n",
              "0   2021  Brasil    NaN        213993441                    NaN        2447   \n",
              "1   2020  Brasil    NaN        212559409                    7.3        2448   \n",
              "2   2019  Brasil  0.765        211049519                    7.2        2447   \n",
              "3   2018  Brasil  0.762        209469320                    7.2        2447   \n",
              "4   2017  Brasil  0.761        207833825                    7.1        2446   \n",
              "..   ...     ...    ...              ...                    ...         ...   \n",
              "61  2004   Chile  0.785         16014972                   11.4        2403   \n",
              "62  2003   Chile  0.776         15849649                   11.5        2397   \n",
              "63  2002   Chile  0.769         15684413                   11.5        2391   \n",
              "64  2001   Chile  0.767         15516112                   11.4        2386   \n",
              "65  2000   Chile  0.756         15342350                   11.3        2378   \n",
              "\n",
              "    diabeticos  \n",
              "0     15733.60  \n",
              "1     15619.00  \n",
              "2     15456.00  \n",
              "3     15246.00  \n",
              "4     14988.00  \n",
              "..         ...  \n",
              "61      570.29  \n",
              "62      466.29  \n",
              "63      358.42  \n",
              "64      246.69  \n",
              "65      131.10  \n",
              "\n",
              "[66 rows x 7 columns]>"
            ]
          },
          "metadata": {},
          "execution_count": 7
        }
      ],
      "source": [
        "df.head ## 5 primeiras linhas e 5 últimas linhas"
      ]
    },
    {
      "cell_type": "code",
      "execution_count": null,
      "metadata": {
        "colab": {
          "base_uri": "https://localhost:8080/"
        },
        "id": "B12graRtSt94",
        "outputId": "4227680f-49dd-4d5b-926c-e6dd1ed7b331"
      },
      "outputs": [
        {
          "output_type": "stream",
          "name": "stdout",
          "text": [
            "RangeIndex(start=0, stop=66, step=1)\n",
            "\n",
            "Index(['ano', 'pais', 'idh', 'populacao_geral', 'per_crian_cinc_soprep',\n",
            "       'kcal_medio', 'diabeticos'],\n",
            "      dtype='object')\n"
          ]
        }
      ],
      "source": [
        "print(df.index) \n",
        "print()\n",
        "print(df.columns)"
      ]
    },
    {
      "cell_type": "markdown",
      "metadata": {
        "id": "HM37zpl9PCST"
      },
      "source": [
        "Como vemos acima, as linhas são identificadas por números inteiros de 0 até 66 e as colunas são identificadas por strings, sendo elas:\n",
        "\n",
        "-   `ano`: ano relativo aqueles dados;\n",
        "-   `pais`: país de origem daqueles dados;\n",
        "-   `idh`: Índice de Desenvolvimento Humano daquele país naquele determinado ano;\n",
        "-   `populacao_geral`: número absoluto de pessoas\n",
        "-   `per_crian_cinc_soprep`: porcentagem de crianças com 5 anos ou menos que estão com sobrepeso em determinado país em determinado ano\n",
        "-   `kcal_medio`: necessidade calóriga média em kcal ingerida por dia por pessoas de determinado país em determinado ano\n",
        "-   `´diabeticos`: número de indivíduos diabéticos em milhar de determinado país a cada ano."
      ]
    },
    {
      "cell_type": "code",
      "execution_count": null,
      "metadata": {
        "colab": {
          "base_uri": "https://localhost:8080/"
        },
        "id": "fMYm8PYXTYJL",
        "outputId": "3da71c88-d11f-47a2-d14d-595a326702ab"
      },
      "outputs": [
        {
          "output_type": "stream",
          "name": "stdout",
          "text": [
            "ano                           2001\n",
            "pais                        Brasil\n",
            "idh                          0.691\n",
            "populacao_geral          177196051\n",
            "per_crian_cinc_soprep          6.2\n",
            "kcal_medio                    2371\n",
            "diabeticos                  4378.7\n",
            "Name: 20, dtype: object\n"
          ]
        }
      ],
      "source": [
        "print(df.loc[20])"
      ]
    },
    {
      "cell_type": "code",
      "execution_count": null,
      "metadata": {
        "colab": {
          "base_uri": "https://localhost:8080/"
        },
        "id": "fb4_YP_avinq",
        "outputId": "18da2a3c-c39b-4513-b7bf-b4b71768a094"
      },
      "outputs": [
        {
          "output_type": "stream",
          "name": "stdout",
          "text": [
            "     ano       pais    idh  populacao_geral  per_crian_cinc_soprep  \\\n",
            "2   2019     Brasil  0.765        211049519                    7.2   \n",
            "3   2018     Brasil  0.762        209469320                    7.2   \n",
            "4   2017     Brasil  0.761        207833825                    7.1   \n",
            "5   2016     Brasil  0.758        206163056                    7.1   \n",
            "6   2015     Brasil  0.756        204471759                    7.1   \n",
            "7   2014     Brasil  0.756        202763744                    7.0   \n",
            "8   2013     Brasil  0.753        201035904                    6.9   \n",
            "9   2012     Brasil  0.735        199287292                    6.9   \n",
            "10  2011     Brasil  0.731        197514541                    6.8   \n",
            "11  2010     Brasil  0.727        195713637                    6.8   \n",
            "12  2009     Brasil  0.719        193886505                    6.7   \n",
            "13  2008     Brasil  0.717        192030362                    6.6   \n",
            "14  2007     Brasil  0.706        190130445                    6.6   \n",
            "15  2006     Brasil  0.702        188167353                    6.5   \n",
            "16  2005     Brasil  0.700        186127108                    6.5   \n",
            "17  2004     Brasil  0.698        184006479                    6.4   \n",
            "18  2003     Brasil  0.695        181809244                    6.4   \n",
            "19  2002     Brasil  0.699        179537523                    6.3   \n",
            "20  2001     Brasil  0.691        177196051                    6.2   \n",
            "21  2000     Brasil  0.685        174790339                    6.2   \n",
            "24  2019  Argentina  0.845         44938712                   12.9   \n",
            "25  2018  Argentina  0.842         44494502                   12.8   \n",
            "26  2017  Argentina  0.843         44044811                   12.7   \n",
            "27  2016  Argentina  0.839         43590368                   12.6   \n",
            "28  2015  Argentina  0.840         43131966                   12.5   \n",
            "29  2014  Argentina  0.836         42669500                   12.4   \n",
            "30  2013  Argentina  0.835         42202935                   12.4   \n",
            "31  2012  Argentina  0.834         41733271                   12.4   \n",
            "32  2011  Argentina  0.835         41261490                   12.4   \n",
            "33  2010  Argentina  0.829         40788453                   12.3   \n",
            "34  2009  Argentina  0.821         40482786                   12.3   \n",
            "35  2008  Argentina  0.821         40080159                   12.2   \n",
            "36  2007  Argentina  0.817         39684303                   12.2   \n",
            "37  2006  Argentina  0.812         39289876                   12.2   \n",
            "38  2005  Argentina  0.788         38892924                   12.1   \n",
            "39  2004  Argentina  0.787         38491970                   12.0   \n",
            "40  2003  Argentina  0.786         38087866                   11.9   \n",
            "41  2002  Argentina  0.781         37681743                   11.9   \n",
            "42  2001  Argentina  0.786         37275644                   11.8   \n",
            "43  2000  Argentina  0.781         36870796                   11.6   \n",
            "46  2019      Chile  0.851         18952035                    9.9   \n",
            "47  2018      Chile  0.849         18729166                    9.9   \n",
            "48  2017      Chile  0.847         18470435                   10.0   \n",
            "49  2016      Chile  0.845         18209072                   10.0   \n",
            "50  2015      Chile  0.842         17969356                   10.1   \n",
            "51  2014      Chile  0.837         17758969                   10.1   \n",
            "52  2013      Chile  0.826         17571511                   10.3   \n",
            "53  2012      Chile  0.821         17400359                   10.4   \n",
            "54  2011      Chile  0.815         17233584                   10.5   \n",
            "55  2010      Chile  0.803         17062531                   10.6   \n",
            "56  2009      Chile  0.822         16886184                   10.8   \n",
            "57  2008      Chile  0.814         16708255                   10.9   \n",
            "58  2007      Chile  0.804         16530201                   11.1   \n",
            "59  2006      Chile  0.791         16354507                   11.2   \n",
            "60  2005      Chile  0.791         16182713                   11.3   \n",
            "61  2004      Chile  0.785         16014972                   11.4   \n",
            "62  2003      Chile  0.776         15849649                   11.5   \n",
            "63  2002      Chile  0.769         15684413                   11.5   \n",
            "64  2001      Chile  0.767         15516112                   11.4   \n",
            "65  2000      Chile  0.756         15342350                   11.3   \n",
            "\n",
            "    kcal_medio  diabeticos  \n",
            "2         2447    15456.00  \n",
            "3         2447    15246.00  \n",
            "4         2446    14988.00  \n",
            "5         2446    14683.00  \n",
            "6         2445    14330.00  \n",
            "7         2443    13929.00  \n",
            "8         2442    13480.00  \n",
            "9         2439    12984.00  \n",
            "10        2436    12440.00  \n",
            "11        2433    11848.00  \n",
            "12        2429    11209.00  \n",
            "13        2424    10522.00  \n",
            "14        2417     9787.60  \n",
            "15        2409     9005.30  \n",
            "16        2401     8175.40  \n",
            "17        2393     7297.70  \n",
            "18        2385     6372.40  \n",
            "19        2376     3299.40  \n",
            "20        2371     4378.70  \n",
            "21        2367     3310.40  \n",
            "24        2414     1784.20  \n",
            "25        2412     1766.90  \n",
            "26        2412     1745.50  \n",
            "27        2411     1720.00  \n",
            "28        2410     1690.50  \n",
            "29        2409     1656.90  \n",
            "30        2408     1619.20  \n",
            "31        2407     1577.50  \n",
            "32        2406     1531.80  \n",
            "33        2405     1482.00  \n",
            "34        2403     1428.10  \n",
            "35        2401     1370.20  \n",
            "36        2398     1308.20  \n",
            "37        2396     1242.20  \n",
            "38        2395     1172.10  \n",
            "39        2392     1098.00  \n",
            "40        2390     1019.80  \n",
            "41        2388      937.56  \n",
            "42        2385      851.26  \n",
            "43        2381      760.90  \n",
            "46        2440     1666.60  \n",
            "47        2438     1620.60  \n",
            "48        2435     1570.70  \n",
            "49        2433     1516.90  \n",
            "50        2431     1459.30  \n",
            "51        2430     1397.80  \n",
            "52        2429     1332.40  \n",
            "53        2429     1263.20  \n",
            "54        2428     1190.10  \n",
            "55        2427     1113.10  \n",
            "56        2424     1032.30  \n",
            "57        2421      947.65  \n",
            "58        2418      859.11  \n",
            "59        2414      766.70  \n",
            "60        2409      670.42  \n",
            "61        2403      570.29  \n",
            "62        2397      466.29  \n",
            "63        2391      358.42  \n",
            "64        2386      246.69  \n",
            "65        2378      131.10  \n"
          ]
        }
      ],
      "source": [
        "#Removendo as linhas correspondentes aos anos de 2021 e 2020\n",
        "df_atualizado = df.drop([0, 1, 22, 23, 44, 45], axis=0)\n",
        "print(df_atualizado)"
      ]
    },
    {
      "cell_type": "markdown",
      "metadata": {
        "id": "9w_ify-os92k"
      },
      "source": [
        "Essas linhas referentes a 2020 e 2021 serão removidas porque, durante esses anos, enfrentou-se uma pandemia mundial de COVID-19, assim, os números e condições se diferem muito da realidade analisada em outros anos, logo, é preciso eliminá-las para que o modelo não seja mau influenciado."
      ]
    },
    {
      "cell_type": "code",
      "execution_count": null,
      "metadata": {
        "colab": {
          "base_uri": "https://localhost:8080/",
          "height": 785
        },
        "id": "5xf6dvej07ab",
        "outputId": "adbe20d4-305c-4c65-e1e4-e9af11643dd0"
      },
      "outputs": [
        {
          "output_type": "stream",
          "name": "stdout",
          "text": [
            "Matriz de covariância: \n"
          ]
        },
        {
          "output_type": "display_data",
          "data": {
            "text/plain": [
              "                                ano           idh  populacao_geral  \\\n",
              "ano                    4.086923e+01  1.516017e-01     3.354752e+07   \n",
              "idh                    1.516017e-01  2.502225e-03    -3.145896e+06   \n",
              "populacao_geral        3.354752e+07 -3.145896e+06     6.415212e+15   \n",
              "per_crian_cinc_soprep  1.903226e-01  9.714364e-02    -1.694624e+08   \n",
              "kcal_medio             1.134385e+02  2.495593e-01     4.574278e+08   \n",
              "diabeticos             1.006065e+04 -1.469969e+02     3.877948e+11   \n",
              "\n",
              "                       per_crian_cinc_soprep    kcal_medio    diabeticos  \n",
              "ano                             1.903226e-01  1.134385e+02  1.006065e+04  \n",
              "idh                             9.714364e-02  2.495593e-01 -1.469969e+02  \n",
              "populacao_geral                -1.694624e+08  4.574278e+08  3.877948e+11  \n",
              "per_crian_cinc_soprep           5.721843e+00 -1.535868e+01 -9.830960e+03  \n",
              "kcal_medio                     -1.535868e+01  4.801979e+02  6.384021e+04  \n",
              "diabeticos                     -9.830960e+03  6.384021e+04  2.746384e+07  "
            ],
            "text/html": [
              "\n",
              "  <div id=\"df-c6b41613-fec1-4a03-aaba-ed221155e051\">\n",
              "    <div class=\"colab-df-container\">\n",
              "      <div>\n",
              "<style scoped>\n",
              "    .dataframe tbody tr th:only-of-type {\n",
              "        vertical-align: middle;\n",
              "    }\n",
              "\n",
              "    .dataframe tbody tr th {\n",
              "        vertical-align: top;\n",
              "    }\n",
              "\n",
              "    .dataframe thead th {\n",
              "        text-align: right;\n",
              "    }\n",
              "</style>\n",
              "<table border=\"1\" class=\"dataframe\">\n",
              "  <thead>\n",
              "    <tr style=\"text-align: right;\">\n",
              "      <th></th>\n",
              "      <th>ano</th>\n",
              "      <th>idh</th>\n",
              "      <th>populacao_geral</th>\n",
              "      <th>per_crian_cinc_soprep</th>\n",
              "      <th>kcal_medio</th>\n",
              "      <th>diabeticos</th>\n",
              "    </tr>\n",
              "  </thead>\n",
              "  <tbody>\n",
              "    <tr>\n",
              "      <th>ano</th>\n",
              "      <td>4.086923e+01</td>\n",
              "      <td>1.516017e-01</td>\n",
              "      <td>3.354752e+07</td>\n",
              "      <td>1.903226e-01</td>\n",
              "      <td>1.134385e+02</td>\n",
              "      <td>1.006065e+04</td>\n",
              "    </tr>\n",
              "    <tr>\n",
              "      <th>idh</th>\n",
              "      <td>1.516017e-01</td>\n",
              "      <td>2.502225e-03</td>\n",
              "      <td>-3.145896e+06</td>\n",
              "      <td>9.714364e-02</td>\n",
              "      <td>2.495593e-01</td>\n",
              "      <td>-1.469969e+02</td>\n",
              "    </tr>\n",
              "    <tr>\n",
              "      <th>populacao_geral</th>\n",
              "      <td>3.354752e+07</td>\n",
              "      <td>-3.145896e+06</td>\n",
              "      <td>6.415212e+15</td>\n",
              "      <td>-1.694624e+08</td>\n",
              "      <td>4.574278e+08</td>\n",
              "      <td>3.877948e+11</td>\n",
              "    </tr>\n",
              "    <tr>\n",
              "      <th>per_crian_cinc_soprep</th>\n",
              "      <td>1.903226e-01</td>\n",
              "      <td>9.714364e-02</td>\n",
              "      <td>-1.694624e+08</td>\n",
              "      <td>5.721843e+00</td>\n",
              "      <td>-1.535868e+01</td>\n",
              "      <td>-9.830960e+03</td>\n",
              "    </tr>\n",
              "    <tr>\n",
              "      <th>kcal_medio</th>\n",
              "      <td>1.134385e+02</td>\n",
              "      <td>2.495593e-01</td>\n",
              "      <td>4.574278e+08</td>\n",
              "      <td>-1.535868e+01</td>\n",
              "      <td>4.801979e+02</td>\n",
              "      <td>6.384021e+04</td>\n",
              "    </tr>\n",
              "    <tr>\n",
              "      <th>diabeticos</th>\n",
              "      <td>1.006065e+04</td>\n",
              "      <td>-1.469969e+02</td>\n",
              "      <td>3.877948e+11</td>\n",
              "      <td>-9.830960e+03</td>\n",
              "      <td>6.384021e+04</td>\n",
              "      <td>2.746384e+07</td>\n",
              "    </tr>\n",
              "  </tbody>\n",
              "</table>\n",
              "</div>\n",
              "      <button class=\"colab-df-convert\" onclick=\"convertToInteractive('df-c6b41613-fec1-4a03-aaba-ed221155e051')\"\n",
              "              title=\"Convert this dataframe to an interactive table.\"\n",
              "              style=\"display:none;\">\n",
              "        \n",
              "  <svg xmlns=\"http://www.w3.org/2000/svg\" height=\"24px\"viewBox=\"0 0 24 24\"\n",
              "       width=\"24px\">\n",
              "    <path d=\"M0 0h24v24H0V0z\" fill=\"none\"/>\n",
              "    <path d=\"M18.56 5.44l.94 2.06.94-2.06 2.06-.94-2.06-.94-.94-2.06-.94 2.06-2.06.94zm-11 1L8.5 8.5l.94-2.06 2.06-.94-2.06-.94L8.5 2.5l-.94 2.06-2.06.94zm10 10l.94 2.06.94-2.06 2.06-.94-2.06-.94-.94-2.06-.94 2.06-2.06.94z\"/><path d=\"M17.41 7.96l-1.37-1.37c-.4-.4-.92-.59-1.43-.59-.52 0-1.04.2-1.43.59L10.3 9.45l-7.72 7.72c-.78.78-.78 2.05 0 2.83L4 21.41c.39.39.9.59 1.41.59.51 0 1.02-.2 1.41-.59l7.78-7.78 2.81-2.81c.8-.78.8-2.07 0-2.86zM5.41 20L4 18.59l7.72-7.72 1.47 1.35L5.41 20z\"/>\n",
              "  </svg>\n",
              "      </button>\n",
              "      \n",
              "  <style>\n",
              "    .colab-df-container {\n",
              "      display:flex;\n",
              "      flex-wrap:wrap;\n",
              "      gap: 12px;\n",
              "    }\n",
              "\n",
              "    .colab-df-convert {\n",
              "      background-color: #E8F0FE;\n",
              "      border: none;\n",
              "      border-radius: 50%;\n",
              "      cursor: pointer;\n",
              "      display: none;\n",
              "      fill: #1967D2;\n",
              "      height: 32px;\n",
              "      padding: 0 0 0 0;\n",
              "      width: 32px;\n",
              "    }\n",
              "\n",
              "    .colab-df-convert:hover {\n",
              "      background-color: #E2EBFA;\n",
              "      box-shadow: 0px 1px 2px rgba(60, 64, 67, 0.3), 0px 1px 3px 1px rgba(60, 64, 67, 0.15);\n",
              "      fill: #174EA6;\n",
              "    }\n",
              "\n",
              "    [theme=dark] .colab-df-convert {\n",
              "      background-color: #3B4455;\n",
              "      fill: #D2E3FC;\n",
              "    }\n",
              "\n",
              "    [theme=dark] .colab-df-convert:hover {\n",
              "      background-color: #434B5C;\n",
              "      box-shadow: 0px 1px 3px 1px rgba(0, 0, 0, 0.15);\n",
              "      filter: drop-shadow(0px 1px 2px rgba(0, 0, 0, 0.3));\n",
              "      fill: #FFFFFF;\n",
              "    }\n",
              "  </style>\n",
              "\n",
              "      <script>\n",
              "        const buttonEl =\n",
              "          document.querySelector('#df-c6b41613-fec1-4a03-aaba-ed221155e051 button.colab-df-convert');\n",
              "        buttonEl.style.display =\n",
              "          google.colab.kernel.accessAllowed ? 'block' : 'none';\n",
              "\n",
              "        async function convertToInteractive(key) {\n",
              "          const element = document.querySelector('#df-c6b41613-fec1-4a03-aaba-ed221155e051');\n",
              "          const dataTable =\n",
              "            await google.colab.kernel.invokeFunction('convertToInteractive',\n",
              "                                                     [key], {});\n",
              "          if (!dataTable) return;\n",
              "\n",
              "          const docLinkHtml = 'Like what you see? Visit the ' +\n",
              "            '<a target=\"_blank\" href=https://colab.research.google.com/notebooks/data_table.ipynb>data table notebook</a>'\n",
              "            + ' to learn more about interactive tables.';\n",
              "          element.innerHTML = '';\n",
              "          dataTable['output_type'] = 'display_data';\n",
              "          await google.colab.output.renderOutput(dataTable, element);\n",
              "          const docLink = document.createElement('div');\n",
              "          docLink.innerHTML = docLinkHtml;\n",
              "          element.appendChild(docLink);\n",
              "        }\n",
              "      </script>\n",
              "    </div>\n",
              "  </div>\n",
              "  "
            ]
          },
          "metadata": {}
        },
        {
          "output_type": "stream",
          "name": "stdout",
          "text": [
            "\n",
            "\n",
            "Matriz de correlação: \n"
          ]
        },
        {
          "output_type": "display_data",
          "data": {
            "text/plain": [
              "                            ano       idh  populacao_geral  \\\n",
              "ano                    1.000000  0.521189         0.065517   \n",
              "idh                    0.521189  1.000000        -0.791759   \n",
              "populacao_geral        0.065517 -0.791759         1.000000   \n",
              "per_crian_cinc_soprep  0.013035  0.810186        -0.888172   \n",
              "kcal_medio             0.809752  0.231751         0.260620   \n",
              "diabeticos             0.300294 -0.582029         0.923881   \n",
              "\n",
              "                       per_crian_cinc_soprep  kcal_medio  diabeticos  \n",
              "ano                                 0.013035    0.809752    0.300294  \n",
              "idh                                 0.810186    0.231751   -0.582029  \n",
              "populacao_geral                    -0.888172    0.260620    0.923881  \n",
              "per_crian_cinc_soprep               1.000000   -0.295127   -0.798135  \n",
              "kcal_medio                         -0.295127    1.000000    0.555909  \n",
              "diabeticos                         -0.798135    0.555909    1.000000  "
            ],
            "text/html": [
              "\n",
              "  <div id=\"df-02d46933-60ba-4648-82ed-8061f9b06705\">\n",
              "    <div class=\"colab-df-container\">\n",
              "      <div>\n",
              "<style scoped>\n",
              "    .dataframe tbody tr th:only-of-type {\n",
              "        vertical-align: middle;\n",
              "    }\n",
              "\n",
              "    .dataframe tbody tr th {\n",
              "        vertical-align: top;\n",
              "    }\n",
              "\n",
              "    .dataframe thead th {\n",
              "        text-align: right;\n",
              "    }\n",
              "</style>\n",
              "<table border=\"1\" class=\"dataframe\">\n",
              "  <thead>\n",
              "    <tr style=\"text-align: right;\">\n",
              "      <th></th>\n",
              "      <th>ano</th>\n",
              "      <th>idh</th>\n",
              "      <th>populacao_geral</th>\n",
              "      <th>per_crian_cinc_soprep</th>\n",
              "      <th>kcal_medio</th>\n",
              "      <th>diabeticos</th>\n",
              "    </tr>\n",
              "  </thead>\n",
              "  <tbody>\n",
              "    <tr>\n",
              "      <th>ano</th>\n",
              "      <td>1.000000</td>\n",
              "      <td>0.521189</td>\n",
              "      <td>0.065517</td>\n",
              "      <td>0.013035</td>\n",
              "      <td>0.809752</td>\n",
              "      <td>0.300294</td>\n",
              "    </tr>\n",
              "    <tr>\n",
              "      <th>idh</th>\n",
              "      <td>0.521189</td>\n",
              "      <td>1.000000</td>\n",
              "      <td>-0.791759</td>\n",
              "      <td>0.810186</td>\n",
              "      <td>0.231751</td>\n",
              "      <td>-0.582029</td>\n",
              "    </tr>\n",
              "    <tr>\n",
              "      <th>populacao_geral</th>\n",
              "      <td>0.065517</td>\n",
              "      <td>-0.791759</td>\n",
              "      <td>1.000000</td>\n",
              "      <td>-0.888172</td>\n",
              "      <td>0.260620</td>\n",
              "      <td>0.923881</td>\n",
              "    </tr>\n",
              "    <tr>\n",
              "      <th>per_crian_cinc_soprep</th>\n",
              "      <td>0.013035</td>\n",
              "      <td>0.810186</td>\n",
              "      <td>-0.888172</td>\n",
              "      <td>1.000000</td>\n",
              "      <td>-0.295127</td>\n",
              "      <td>-0.798135</td>\n",
              "    </tr>\n",
              "    <tr>\n",
              "      <th>kcal_medio</th>\n",
              "      <td>0.809752</td>\n",
              "      <td>0.231751</td>\n",
              "      <td>0.260620</td>\n",
              "      <td>-0.295127</td>\n",
              "      <td>1.000000</td>\n",
              "      <td>0.555909</td>\n",
              "    </tr>\n",
              "    <tr>\n",
              "      <th>diabeticos</th>\n",
              "      <td>0.300294</td>\n",
              "      <td>-0.582029</td>\n",
              "      <td>0.923881</td>\n",
              "      <td>-0.798135</td>\n",
              "      <td>0.555909</td>\n",
              "      <td>1.000000</td>\n",
              "    </tr>\n",
              "  </tbody>\n",
              "</table>\n",
              "</div>\n",
              "      <button class=\"colab-df-convert\" onclick=\"convertToInteractive('df-02d46933-60ba-4648-82ed-8061f9b06705')\"\n",
              "              title=\"Convert this dataframe to an interactive table.\"\n",
              "              style=\"display:none;\">\n",
              "        \n",
              "  <svg xmlns=\"http://www.w3.org/2000/svg\" height=\"24px\"viewBox=\"0 0 24 24\"\n",
              "       width=\"24px\">\n",
              "    <path d=\"M0 0h24v24H0V0z\" fill=\"none\"/>\n",
              "    <path d=\"M18.56 5.44l.94 2.06.94-2.06 2.06-.94-2.06-.94-.94-2.06-.94 2.06-2.06.94zm-11 1L8.5 8.5l.94-2.06 2.06-.94-2.06-.94L8.5 2.5l-.94 2.06-2.06.94zm10 10l.94 2.06.94-2.06 2.06-.94-2.06-.94-.94-2.06-.94 2.06-2.06.94z\"/><path d=\"M17.41 7.96l-1.37-1.37c-.4-.4-.92-.59-1.43-.59-.52 0-1.04.2-1.43.59L10.3 9.45l-7.72 7.72c-.78.78-.78 2.05 0 2.83L4 21.41c.39.39.9.59 1.41.59.51 0 1.02-.2 1.41-.59l7.78-7.78 2.81-2.81c.8-.78.8-2.07 0-2.86zM5.41 20L4 18.59l7.72-7.72 1.47 1.35L5.41 20z\"/>\n",
              "  </svg>\n",
              "      </button>\n",
              "      \n",
              "  <style>\n",
              "    .colab-df-container {\n",
              "      display:flex;\n",
              "      flex-wrap:wrap;\n",
              "      gap: 12px;\n",
              "    }\n",
              "\n",
              "    .colab-df-convert {\n",
              "      background-color: #E8F0FE;\n",
              "      border: none;\n",
              "      border-radius: 50%;\n",
              "      cursor: pointer;\n",
              "      display: none;\n",
              "      fill: #1967D2;\n",
              "      height: 32px;\n",
              "      padding: 0 0 0 0;\n",
              "      width: 32px;\n",
              "    }\n",
              "\n",
              "    .colab-df-convert:hover {\n",
              "      background-color: #E2EBFA;\n",
              "      box-shadow: 0px 1px 2px rgba(60, 64, 67, 0.3), 0px 1px 3px 1px rgba(60, 64, 67, 0.15);\n",
              "      fill: #174EA6;\n",
              "    }\n",
              "\n",
              "    [theme=dark] .colab-df-convert {\n",
              "      background-color: #3B4455;\n",
              "      fill: #D2E3FC;\n",
              "    }\n",
              "\n",
              "    [theme=dark] .colab-df-convert:hover {\n",
              "      background-color: #434B5C;\n",
              "      box-shadow: 0px 1px 3px 1px rgba(0, 0, 0, 0.15);\n",
              "      filter: drop-shadow(0px 1px 2px rgba(0, 0, 0, 0.3));\n",
              "      fill: #FFFFFF;\n",
              "    }\n",
              "  </style>\n",
              "\n",
              "      <script>\n",
              "        const buttonEl =\n",
              "          document.querySelector('#df-02d46933-60ba-4648-82ed-8061f9b06705 button.colab-df-convert');\n",
              "        buttonEl.style.display =\n",
              "          google.colab.kernel.accessAllowed ? 'block' : 'none';\n",
              "\n",
              "        async function convertToInteractive(key) {\n",
              "          const element = document.querySelector('#df-02d46933-60ba-4648-82ed-8061f9b06705');\n",
              "          const dataTable =\n",
              "            await google.colab.kernel.invokeFunction('convertToInteractive',\n",
              "                                                     [key], {});\n",
              "          if (!dataTable) return;\n",
              "\n",
              "          const docLinkHtml = 'Like what you see? Visit the ' +\n",
              "            '<a target=\"_blank\" href=https://colab.research.google.com/notebooks/data_table.ipynb>data table notebook</a>'\n",
              "            + ' to learn more about interactive tables.';\n",
              "          element.innerHTML = '';\n",
              "          dataTable['output_type'] = 'display_data';\n",
              "          await google.colab.output.renderOutput(dataTable, element);\n",
              "          const docLink = document.createElement('div');\n",
              "          docLink.innerHTML = docLinkHtml;\n",
              "          element.appendChild(docLink);\n",
              "        }\n",
              "      </script>\n",
              "    </div>\n",
              "  </div>\n",
              "  "
            ]
          },
          "metadata": {}
        },
        {
          "output_type": "display_data",
          "data": {
            "text/plain": [
              "<Figure size 288x288 with 1 Axes>"
            ],
            "image/png": "[encoded data removed]"
          },
          "metadata": {
            "needs_background": "light"
          }
        }
      ],
      "source": [
        "#matriz de covariancia\n",
        "df_covariance = df.cov()\n",
        "\n",
        "# matriz de correlação\n",
        "df_correlation = df.corr()\n",
        "\n",
        "print('Matriz de covariância: ')\n",
        "display(df_covariance)\n",
        "\n",
        "print('\\n\\nMatriz de correlação: ')\n",
        "display(df_correlation)\n",
        "\n",
        "plt.matshow(df_correlation)\n",
        "plt.show()"
      ]
    },
    {
      "cell_type": "code",
      "execution_count": null,
      "metadata": {
        "colab": {
          "base_uri": "https://localhost:8080/"
        },
        "id": "vX0cmJDuLG5n",
        "outputId": "b0011b5b-4df2-4568-ce2f-fa5125fc6482"
      },
      "outputs": [
        {
          "output_type": "stream",
          "name": "stdout",
          "text": [
            "     ano       pais    idh  populacao_geral  per_crian_cinc_soprep  \\\n",
            "2   2019     Brasil  0.765        211049519                    7.2   \n",
            "3   2018     Brasil  0.762        209469320                    7.2   \n",
            "4   2017     Brasil  0.761        207833825                    7.1   \n",
            "5   2016     Brasil  0.758        206163056                    7.1   \n",
            "6   2015     Brasil  0.756        204471759                    7.1   \n",
            "7   2014     Brasil  0.756        202763744                    7.0   \n",
            "8   2013     Brasil  0.753        201035904                    6.9   \n",
            "9   2012     Brasil  0.735        199287292                    6.9   \n",
            "10  2011     Brasil  0.731        197514541                    6.8   \n",
            "11  2010     Brasil  0.727        195713637                    6.8   \n",
            "12  2009     Brasil  0.719        193886505                    6.7   \n",
            "13  2008     Brasil  0.717        192030362                    6.6   \n",
            "14  2007     Brasil  0.706        190130445                    6.6   \n",
            "15  2006     Brasil  0.702        188167353                    6.5   \n",
            "16  2005     Brasil  0.700        186127108                    6.5   \n",
            "17  2004     Brasil  0.698        184006479                    6.4   \n",
            "18  2003     Brasil  0.695        181809244                    6.4   \n",
            "19  2002     Brasil  0.699        179537523                    6.3   \n",
            "20  2001     Brasil  0.691        177196051                    6.2   \n",
            "21  2000     Brasil  0.685        174790339                    6.2   \n",
            "24  2019  Argentina  0.845         44938712                   12.9   \n",
            "25  2018  Argentina  0.842         44494502                   12.8   \n",
            "26  2017  Argentina  0.843         44044811                   12.7   \n",
            "27  2016  Argentina  0.839         43590368                   12.6   \n",
            "28  2015  Argentina  0.840         43131966                   12.5   \n",
            "29  2014  Argentina  0.836         42669500                   12.4   \n",
            "30  2013  Argentina  0.835         42202935                   12.4   \n",
            "31  2012  Argentina  0.834         41733271                   12.4   \n",
            "32  2011  Argentina  0.835         41261490                   12.4   \n",
            "33  2010  Argentina  0.829         40788453                   12.3   \n",
            "34  2009  Argentina  0.821         40482786                   12.3   \n",
            "35  2008  Argentina  0.821         40080159                   12.2   \n",
            "36  2007  Argentina  0.817         39684303                   12.2   \n",
            "37  2006  Argentina  0.812         39289876                   12.2   \n",
            "38  2005  Argentina  0.788         38892924                   12.1   \n",
            "39  2004  Argentina  0.787         38491970                   12.0   \n",
            "40  2003  Argentina  0.786         38087866                   11.9   \n",
            "41  2002  Argentina  0.781         37681743                   11.9   \n",
            "42  2001  Argentina  0.786         37275644                   11.8   \n",
            "43  2000  Argentina  0.781         36870796                   11.6   \n",
            "46  2019      Chile  0.851         18952035                    9.9   \n",
            "47  2018      Chile  0.849         18729166                    9.9   \n",
            "48  2017      Chile  0.847         18470435                   10.0   \n",
            "49  2016      Chile  0.845         18209072                   10.0   \n",
            "50  2015      Chile  0.842         17969356                   10.1   \n",
            "51  2014      Chile  0.837         17758969                   10.1   \n",
            "52  2013      Chile  0.826         17571511                   10.3   \n",
            "53  2012      Chile  0.821         17400359                   10.4   \n",
            "54  2011      Chile  0.815         17233584                   10.5   \n",
            "55  2010      Chile  0.803         17062531                   10.6   \n",
            "56  2009      Chile  0.822         16886184                   10.8   \n",
            "57  2008      Chile  0.814         16708255                   10.9   \n",
            "58  2007      Chile  0.804         16530201                   11.1   \n",
            "59  2006      Chile  0.791         16354507                   11.2   \n",
            "60  2005      Chile  0.791         16182713                   11.3   \n",
            "61  2004      Chile  0.785         16014972                   11.4   \n",
            "62  2003      Chile  0.776         15849649                   11.5   \n",
            "63  2002      Chile  0.769         15684413                   11.5   \n",
            "64  2001      Chile  0.767         15516112                   11.4   \n",
            "65  2000      Chile  0.756         15342350                   11.3   \n",
            "\n",
            "    kcal_medio  diabeticos  diabetes_normalizado  \n",
            "2         2447    15456.00              0.000073  \n",
            "3         2447    15246.00              0.000073  \n",
            "4         2446    14988.00              0.000072  \n",
            "5         2446    14683.00              0.000071  \n",
            "6         2445    14330.00              0.000070  \n",
            "7         2443    13929.00              0.000069  \n",
            "8         2442    13480.00              0.000067  \n",
            "9         2439    12984.00              0.000065  \n",
            "10        2436    12440.00              0.000063  \n",
            "11        2433    11848.00              0.000061  \n",
            "12        2429    11209.00              0.000058  \n",
            "13        2424    10522.00              0.000055  \n",
            "14        2417     9787.60              0.000051  \n",
            "15        2409     9005.30              0.000048  \n",
            "16        2401     8175.40              0.000044  \n",
            "17        2393     7297.70              0.000040  \n",
            "18        2385     6372.40              0.000035  \n",
            "19        2376     3299.40              0.000018  \n",
            "20        2371     4378.70              0.000025  \n",
            "21        2367     3310.40              0.000019  \n",
            "24        2414     1784.20              0.000040  \n",
            "25        2412     1766.90              0.000040  \n",
            "26        2412     1745.50              0.000040  \n",
            "27        2411     1720.00              0.000039  \n",
            "28        2410     1690.50              0.000039  \n",
            "29        2409     1656.90              0.000039  \n",
            "30        2408     1619.20              0.000038  \n",
            "31        2407     1577.50              0.000038  \n",
            "32        2406     1531.80              0.000037  \n",
            "33        2405     1482.00              0.000036  \n",
            "34        2403     1428.10              0.000035  \n",
            "35        2401     1370.20              0.000034  \n",
            "36        2398     1308.20              0.000033  \n",
            "37        2396     1242.20              0.000032  \n",
            "38        2395     1172.10              0.000030  \n",
            "39        2392     1098.00              0.000029  \n",
            "40        2390     1019.80              0.000027  \n",
            "41        2388      937.56              0.000025  \n",
            "42        2385      851.26              0.000023  \n",
            "43        2381      760.90              0.000021  \n",
            "46        2440     1666.60              0.000088  \n",
            "47        2438     1620.60              0.000087  \n",
            "48        2435     1570.70              0.000085  \n",
            "49        2433     1516.90              0.000083  \n",
            "50        2431     1459.30              0.000081  \n",
            "51        2430     1397.80              0.000079  \n",
            "52        2429     1332.40              0.000076  \n",
            "53        2429     1263.20              0.000073  \n",
            "54        2428     1190.10              0.000069  \n",
            "55        2427     1113.10              0.000065  \n",
            "56        2424     1032.30              0.000061  \n",
            "57        2421      947.65              0.000057  \n",
            "58        2418      859.11              0.000052  \n",
            "59        2414      766.70              0.000047  \n",
            "60        2409      670.42              0.000041  \n",
            "61        2403      570.29              0.000036  \n",
            "62        2397      466.29              0.000029  \n",
            "63        2391      358.42              0.000023  \n",
            "64        2386      246.69              0.000016  \n",
            "65        2378      131.10              0.000009  \n"
          ]
        }
      ],
      "source": [
        "df_atualizado[\"diabetes_normalizado\"] = df_atualizado[\"diabeticos\"].div(df_atualizado[\"populacao_geral\"].values)\n",
        "print(df_atualizado)"
      ]
    },
    {
      "cell_type": "markdown",
      "metadata": {
        "id": "vRCIE8jv8C1s"
      },
      "source": [
        "#### **Testando Gráficos:**"
      ]
    },
    {
      "cell_type": "code",
      "execution_count": null,
      "metadata": {
        "colab": {
          "base_uri": "https://localhost:8080/",
          "height": 354
        },
        "id": "S4o-voyIFHPp",
        "outputId": "24c97ffc-9316-4b0e-d95c-4972973849e3"
      },
      "outputs": [
        {
          "output_type": "execute_result",
          "data": {
            "text/plain": [
              "<matplotlib.axes._subplots.AxesSubplot at 0x7fb2c682c350>"
            ]
          },
          "metadata": {},
          "execution_count": 13
        },
        {
          "output_type": "display_data",
          "data": {
            "text/plain": [
              "<Figure size 1600x400 with 3 Axes>"
            ],
            "image/png": "[encoded data removed]"
          },
          "metadata": {
            "needs_background": "light"
          }
        }
      ],
      "source": [
        "fig, ax = plt.subplots(1,3, figsize=(16,4), dpi=100)\n",
        "\n",
        "sns.scatterplot(data=df_atualizado, x=\"ano\", y=\"idh\", hue='diabeticos', ax=ax[0])"
      ]
    },
    {
      "cell_type": "code",
      "execution_count": null,
      "metadata": {
        "colab": {
          "base_uri": "https://localhost:8080/",
          "height": 316
        },
        "id": "YM30IOpDHX0X",
        "outputId": "7b026ec0-5ad9-42aa-c349-e5878dd9bab6"
      },
      "outputs": [
        {
          "output_type": "execute_result",
          "data": {
            "text/plain": [
              "array([[<matplotlib.axes._subplots.AxesSubplot object at 0x7fb2c6201750>]],\n",
              "      dtype=object)"
            ]
          },
          "metadata": {},
          "execution_count": 14
        },
        {
          "output_type": "display_data",
          "data": {
            "text/plain": [
              "<Figure size 432x288 with 1 Axes>"
            ],
            "image/png": "[encoded data removed]"
          },
          "metadata": {
            "needs_background": "light"
          }
        }
      ],
      "source": [
        "df_atualizado.hist('idh')"
      ]
    },
    {
      "cell_type": "code",
      "execution_count": null,
      "metadata": {
        "colab": {
          "base_uri": "https://localhost:8080/",
          "height": 296
        },
        "id": "ZGn7MWxd8HN3",
        "outputId": "fbd984d6-4c8b-4194-efcf-0d82ee88a0e9"
      },
      "outputs": [
        {
          "output_type": "execute_result",
          "data": {
            "text/plain": [
              "<matplotlib.axes._subplots.AxesSubplot at 0x7fb2c611f550>"
            ]
          },
          "metadata": {},
          "execution_count": 15
        },
        {
          "output_type": "display_data",
          "data": {
            "text/plain": [
              "<Figure size 432x288 with 1 Axes>"
            ],
            "image/png": "[encoded data removed]"
          },
          "metadata": {
            "needs_background": "light"
          }
        }
      ],
      "source": [
        "df_atualizado.plot('ano', 'idh', kind = 'scatter')"
      ]
    },
    {
      "cell_type": "code",
      "execution_count": null,
      "metadata": {
        "colab": {
          "base_uri": "https://localhost:8080/",
          "height": 300
        },
        "id": "XJ6HbpbfW8R9",
        "outputId": "8b48a500-70bd-4c1f-a235-fb298e991403"
      },
      "outputs": [
        {
          "output_type": "execute_result",
          "data": {
            "text/plain": [
              "               ano        idh  populacao_geral  per_crian_cinc_soprep  \\\n",
              "count    60.000000  60.000000     6.000000e+01              60.000000   \n",
              "mean   2009.500000   0.784750     8.398507e+07               9.905000   \n",
              "std       5.814943   0.050022     7.943070e+07               2.396991   \n",
              "min    2000.000000   0.685000     1.534235e+07               6.200000   \n",
              "25%    2004.750000   0.756000     1.791676e+07               7.075000   \n",
              "50%    2009.500000   0.787500     4.063562e+07              10.700000   \n",
              "75%    2014.250000   0.830250     1.845366e+08              12.025000   \n",
              "max    2019.000000   0.851000     2.110495e+08              12.900000   \n",
              "\n",
              "        kcal_medio    diabeticos  diabetes_normalizado  \n",
              "count    60.000000     60.000000             60.000000  \n",
              "mean   2413.000000   4344.739833              0.000048  \n",
              "std      21.527279   5048.943586              0.000021  \n",
              "min    2367.000000    131.100000              0.000009  \n",
              "25%    2396.750000   1109.325000              0.000034  \n",
              "50%    2411.500000   1574.100000              0.000041  \n",
              "75%    2430.250000   7517.125000              0.000067  \n",
              "max    2447.000000  15456.000000              0.000088  "
            ],
            "text/html": [
              "\n",
              "  <div id=\"df-19bd0dab-578e-41c5-aa19-183cd8c9a65d\">\n",
              "    <div class=\"colab-df-container\">\n",
              "      <div>\n",
              "<style scoped>\n",
              "    .dataframe tbody tr th:only-of-type {\n",
              "        vertical-align: middle;\n",
              "    }\n",
              "\n",
              "    .dataframe tbody tr th {\n",
              "        vertical-align: top;\n",
              "    }\n",
              "\n",
              "    .dataframe thead th {\n",
              "        text-align: right;\n",
              "    }\n",
              "</style>\n",
              "<table border=\"1\" class=\"dataframe\">\n",
              "  <thead>\n",
              "    <tr style=\"text-align: right;\">\n",
              "      <th></th>\n",
              "      <th>ano</th>\n",
              "      <th>idh</th>\n",
              "      <th>populacao_geral</th>\n",
              "      <th>per_crian_cinc_soprep</th>\n",
              "      <th>kcal_medio</th>\n",
              "      <th>diabeticos</th>\n",
              "      <th>diabetes_normalizado</th>\n",
              "    </tr>\n",
              "  </thead>\n",
              "  <tbody>\n",
              "    <tr>\n",
              "      <th>count</th>\n",
              "      <td>60.000000</td>\n",
              "      <td>60.000000</td>\n",
              "      <td>6.000000e+01</td>\n",
              "      <td>60.000000</td>\n",
              "      <td>60.000000</td>\n",
              "      <td>60.000000</td>\n",
              "      <td>60.000000</td>\n",
              "    </tr>\n",
              "    <tr>\n",
              "      <th>mean</th>\n",
              "      <td>2009.500000</td>\n",
              "      <td>0.784750</td>\n",
              "      <td>8.398507e+07</td>\n",
              "      <td>9.905000</td>\n",
              "      <td>2413.000000</td>\n",
              "      <td>4344.739833</td>\n",
              "      <td>0.000048</td>\n",
              "    </tr>\n",
              "    <tr>\n",
              "      <th>std</th>\n",
              "      <td>5.814943</td>\n",
              "      <td>0.050022</td>\n",
              "      <td>7.943070e+07</td>\n",
              "      <td>2.396991</td>\n",
              "      <td>21.527279</td>\n",
              "      <td>5048.943586</td>\n",
              "      <td>0.000021</td>\n",
              "    </tr>\n",
              "    <tr>\n",
              "      <th>min</th>\n",
              "      <td>2000.000000</td>\n",
              "      <td>0.685000</td>\n",
              "      <td>1.534235e+07</td>\n",
              "      <td>6.200000</td>\n",
              "      <td>2367.000000</td>\n",
              "      <td>131.100000</td>\n",
              "      <td>0.000009</td>\n",
              "    </tr>\n",
              "    <tr>\n",
              "      <th>25%</th>\n",
              "      <td>2004.750000</td>\n",
              "      <td>0.756000</td>\n",
              "      <td>1.791676e+07</td>\n",
              "      <td>7.075000</td>\n",
              "      <td>2396.750000</td>\n",
              "      <td>1109.325000</td>\n",
              "      <td>0.000034</td>\n",
              "    </tr>\n",
              "    <tr>\n",
              "      <th>50%</th>\n",
              "      <td>2009.500000</td>\n",
              "      <td>0.787500</td>\n",
              "      <td>4.063562e+07</td>\n",
              "      <td>10.700000</td>\n",
              "      <td>2411.500000</td>\n",
              "      <td>1574.100000</td>\n",
              "      <td>0.000041</td>\n",
              "    </tr>\n",
              "    <tr>\n",
              "      <th>75%</th>\n",
              "      <td>2014.250000</td>\n",
              "      <td>0.830250</td>\n",
              "      <td>1.845366e+08</td>\n",
              "      <td>12.025000</td>\n",
              "      <td>2430.250000</td>\n",
              "      <td>7517.125000</td>\n",
              "      <td>0.000067</td>\n",
              "    </tr>\n",
              "    <tr>\n",
              "      <th>max</th>\n",
              "      <td>2019.000000</td>\n",
              "      <td>0.851000</td>\n",
              "      <td>2.110495e+08</td>\n",
              "      <td>12.900000</td>\n",
              "      <td>2447.000000</td>\n",
              "      <td>15456.000000</td>\n",
              "      <td>0.000088</td>\n",
              "    </tr>\n",
              "  </tbody>\n",
              "</table>\n",
              "</div>\n",
              "      <button class=\"colab-df-convert\" onclick=\"convertToInteractive('df-19bd0dab-578e-41c5-aa19-183cd8c9a65d')\"\n",
              "              title=\"Convert this dataframe to an interactive table.\"\n",
              "              style=\"display:none;\">\n",
              "        \n",
              "  <svg xmlns=\"http://www.w3.org/2000/svg\" height=\"24px\"viewBox=\"0 0 24 24\"\n",
              "       width=\"24px\">\n",
              "    <path d=\"M0 0h24v24H0V0z\" fill=\"none\"/>\n",
              "    <path d=\"M18.56 5.44l.94 2.06.94-2.06 2.06-.94-2.06-.94-.94-2.06-.94 2.06-2.06.94zm-11 1L8.5 8.5l.94-2.06 2.06-.94-2.06-.94L8.5 2.5l-.94 2.06-2.06.94zm10 10l.94 2.06.94-2.06 2.06-.94-2.06-.94-.94-2.06-.94 2.06-2.06.94z\"/><path d=\"M17.41 7.96l-1.37-1.37c-.4-.4-.92-.59-1.43-.59-.52 0-1.04.2-1.43.59L10.3 9.45l-7.72 7.72c-.78.78-.78 2.05 0 2.83L4 21.41c.39.39.9.59 1.41.59.51 0 1.02-.2 1.41-.59l7.78-7.78 2.81-2.81c.8-.78.8-2.07 0-2.86zM5.41 20L4 18.59l7.72-7.72 1.47 1.35L5.41 20z\"/>\n",
              "  </svg>\n",
              "      </button>\n",
              "      \n",
              "  <style>\n",
              "    .colab-df-container {\n",
              "      display:flex;\n",
              "      flex-wrap:wrap;\n",
              "      gap: 12px;\n",
              "    }\n",
              "\n",
              "    .colab-df-convert {\n",
              "      background-color: #E8F0FE;\n",
              "      border: none;\n",
              "      border-radius: 50%;\n",
              "      cursor: pointer;\n",
              "      display: none;\n",
              "      fill: #1967D2;\n",
              "      height: 32px;\n",
              "      padding: 0 0 0 0;\n",
              "      width: 32px;\n",
              "    }\n",
              "\n",
              "    .colab-df-convert:hover {\n",
              "      background-color: #E2EBFA;\n",
              "      box-shadow: 0px 1px 2px rgba(60, 64, 67, 0.3), 0px 1px 3px 1px rgba(60, 64, 67, 0.15);\n",
              "      fill: #174EA6;\n",
              "    }\n",
              "\n",
              "    [theme=dark] .colab-df-convert {\n",
              "      background-color: #3B4455;\n",
              "      fill: #D2E3FC;\n",
              "    }\n",
              "\n",
              "    [theme=dark] .colab-df-convert:hover {\n",
              "      background-color: #434B5C;\n",
              "      box-shadow: 0px 1px 3px 1px rgba(0, 0, 0, 0.15);\n",
              "      filter: drop-shadow(0px 1px 2px rgba(0, 0, 0, 0.3));\n",
              "      fill: #FFFFFF;\n",
              "    }\n",
              "  </style>\n",
              "\n",
              "      <script>\n",
              "        const buttonEl =\n",
              "          document.querySelector('#df-19bd0dab-578e-41c5-aa19-183cd8c9a65d button.colab-df-convert');\n",
              "        buttonEl.style.display =\n",
              "          google.colab.kernel.accessAllowed ? 'block' : 'none';\n",
              "\n",
              "        async function convertToInteractive(key) {\n",
              "          const element = document.querySelector('#df-19bd0dab-578e-41c5-aa19-183cd8c9a65d');\n",
              "          const dataTable =\n",
              "            await google.colab.kernel.invokeFunction('convertToInteractive',\n",
              "                                                     [key], {});\n",
              "          if (!dataTable) return;\n",
              "\n",
              "          const docLinkHtml = 'Like what you see? Visit the ' +\n",
              "            '<a target=\"_blank\" href=https://colab.research.google.com/notebooks/data_table.ipynb>data table notebook</a>'\n",
              "            + ' to learn more about interactive tables.';\n",
              "          element.innerHTML = '';\n",
              "          dataTable['output_type'] = 'display_data';\n",
              "          await google.colab.output.renderOutput(dataTable, element);\n",
              "          const docLink = document.createElement('div');\n",
              "          docLink.innerHTML = docLinkHtml;\n",
              "          element.appendChild(docLink);\n",
              "        }\n",
              "      </script>\n",
              "    </div>\n",
              "  </div>\n",
              "  "
            ]
          },
          "metadata": {},
          "execution_count": 16
        }
      ],
      "source": [
        "df_atualizado.describe()"
      ]
    },
    {
      "cell_type": "code",
      "execution_count": null,
      "metadata": {
        "colab": {
          "base_uri": "https://localhost:8080/",
          "height": 1000
        },
        "id": "ioJZCsFuUhkz",
        "outputId": "1c3c0c0d-e6c9-4ab5-a530-aed2c54bcdf6"
      },
      "outputs": [
        {
          "output_type": "display_data",
          "data": {
            "text/plain": [
              "<Figure size 1345x1260 with 56 Axes>"
            ],
            "image/png": "[encoded data removed]"
          },
          "metadata": {
            "needs_background": "light"
          }
        }
      ],
      "source": [
        "sns.pairplot(df_atualizado, hue='pais')\n",
        "plt.show() ## plotamos alguns gráficos usando pairplot"
      ]
    },
    {
      "cell_type": "markdown",
      "metadata": {
        "id": "LGuwOf8dZHbZ"
      },
      "source": [
        "Com os gráficos acima, podemos perceber que o comportamento do Chile e da Argentina são bem semelhantes, enquanto o comportamento do Brasil se diferencia bastante em relação a eles."
      ]
    },
    {
      "cell_type": "markdown",
      "metadata": {
        "id": "2YRUfF5YWbU6"
      },
      "source": [
        "Transformando Argentina, Brasil e Chile em números usando a função OneHotEncoder."
      ]
    },
    {
      "cell_type": "code",
      "execution_count": null,
      "metadata": {
        "colab": {
          "base_uri": "https://localhost:8080/"
        },
        "id": "tPzFpsPFWadC",
        "outputId": "e006aff0-3a99-4f3c-c6ea-664d4deb7200"
      },
      "outputs": [
        {
          "output_type": "stream",
          "name": "stdout",
          "text": [
            "[[0. 1. 0.]\n",
            " [0. 1. 0.]\n",
            " [0. 1. 0.]\n",
            " [0. 1. 0.]\n",
            " [0. 1. 0.]\n",
            " [0. 1. 0.]\n",
            " [0. 1. 0.]\n",
            " [0. 1. 0.]\n",
            " [0. 1. 0.]\n",
            " [0. 1. 0.]\n",
            " [0. 1. 0.]\n",
            " [0. 1. 0.]\n",
            " [0. 1. 0.]\n",
            " [0. 1. 0.]\n",
            " [0. 1. 0.]\n",
            " [0. 1. 0.]\n",
            " [0. 1. 0.]\n",
            " [0. 1. 0.]\n",
            " [0. 1. 0.]\n",
            " [0. 1. 0.]\n",
            " [1. 0. 0.]\n",
            " [1. 0. 0.]\n",
            " [1. 0. 0.]\n",
            " [1. 0. 0.]\n",
            " [1. 0. 0.]\n",
            " [1. 0. 0.]\n",
            " [1. 0. 0.]\n",
            " [1. 0. 0.]\n",
            " [1. 0. 0.]\n",
            " [1. 0. 0.]\n",
            " [1. 0. 0.]\n",
            " [1. 0. 0.]\n",
            " [1. 0. 0.]\n",
            " [1. 0. 0.]\n",
            " [1. 0. 0.]\n",
            " [1. 0. 0.]\n",
            " [1. 0. 0.]\n",
            " [1. 0. 0.]\n",
            " [1. 0. 0.]\n",
            " [1. 0. 0.]\n",
            " [0. 0. 1.]\n",
            " [0. 0. 1.]\n",
            " [0. 0. 1.]\n",
            " [0. 0. 1.]\n",
            " [0. 0. 1.]\n",
            " [0. 0. 1.]\n",
            " [0. 0. 1.]\n",
            " [0. 0. 1.]\n",
            " [0. 0. 1.]\n",
            " [0. 0. 1.]\n",
            " [0. 0. 1.]\n",
            " [0. 0. 1.]\n",
            " [0. 0. 1.]\n",
            " [0. 0. 1.]\n",
            " [0. 0. 1.]\n",
            " [0. 0. 1.]\n",
            " [0. 0. 1.]\n",
            " [0. 0. 1.]\n",
            " [0. 0. 1.]\n",
            " [0. 0. 1.]]\n",
            "[array(['Argentina', 'Brasil', 'Chile'], dtype=object)]\n",
            "    ano    pais    idh  populacao_geral  per_crian_cinc_soprep  kcal_medio  \\\n",
            "2  2019  Brasil  0.765        211049519                    7.2        2447   \n",
            "3  2018  Brasil  0.762        209469320                    7.2        2447   \n",
            "4  2017  Brasil  0.761        207833825                    7.1        2446   \n",
            "5  2016  Brasil  0.758        206163056                    7.1        2446   \n",
            "6  2015  Brasil  0.756        204471759                    7.1        2445   \n",
            "\n",
            "   diabeticos  diabetes_normalizado  Argentina  Brasil  Chile  \n",
            "2     15456.0              0.000073        0.0     1.0    0.0  \n",
            "3     15246.0              0.000073        0.0     1.0    0.0  \n",
            "4     14988.0              0.000072        0.0     1.0    0.0  \n",
            "5     14683.0              0.000071        0.0     1.0    0.0  \n",
            "6     14330.0              0.000070        0.0     1.0    0.0  \n"
          ]
        }
      ],
      "source": [
        "from sklearn.preprocessing import OneHotEncoder\n",
        "\n",
        "ohe = OneHotEncoder()\n",
        "transformed = ohe.fit_transform(df_atualizado[['pais']])\n",
        "\n",
        "print(transformed.toarray())\n",
        "print(ohe.categories_)\n",
        "df_atualizado[ohe.categories_[0]] = transformed.toarray()\n",
        "print(df_atualizado.head())"
      ]
    },
    {
      "cell_type": "markdown",
      "metadata": {
        "id": "LbgyWeSiLDDm"
      },
      "source": [
        "#### **Separando parte dos dados para treino e teste do machine learning**"
      ]
    },
    {
      "cell_type": "code",
      "execution_count": null,
      "metadata": {
        "colab": {
          "base_uri": "https://localhost:8080/"
        },
        "id": "LPV8q10G_1H5",
        "outputId": "605201a5-849e-4a15-c30e-581dca86fbd4"
      },
      "outputs": [
        {
          "output_type": "stream",
          "name": "stdout",
          "text": [
            "Treino:\n",
            "     ano       pais    idh  populacao_geral  per_crian_cinc_soprep  \\\n",
            "39  2004  Argentina  0.787         38491970                   12.0   \n",
            "17  2004     Brasil  0.698        184006479                    6.4   \n",
            "33  2010  Argentina  0.829         40788453                   12.3   \n",
            "13  2008     Brasil  0.717        192030362                    6.6   \n",
            "36  2007  Argentina  0.817         39684303                   12.2   \n",
            "8   2013     Brasil  0.753        201035904                    6.9   \n",
            "63  2002      Chile  0.769         15684413                   11.5   \n",
            "2   2019     Brasil  0.765        211049519                    7.2   \n",
            "6   2015     Brasil  0.756        204471759                    7.1   \n",
            "24  2019  Argentina  0.845         44938712                   12.9   \n",
            "40  2003  Argentina  0.786         38087866                   11.9   \n",
            "31  2012  Argentina  0.834         41733271                   12.4   \n",
            "37  2006  Argentina  0.812         39289876                   12.2   \n",
            "35  2008  Argentina  0.821         40080159                   12.2   \n",
            "3   2018     Brasil  0.762        209469320                    7.2   \n",
            "47  2018      Chile  0.849         18729166                    9.9   \n",
            "46  2019      Chile  0.851         18952035                    9.9   \n",
            "51  2014      Chile  0.837         17758969                   10.1   \n",
            "34  2009  Argentina  0.821         40482786                   12.3   \n",
            "65  2000      Chile  0.756         15342350                   11.3   \n",
            "25  2018  Argentina  0.842         44494502                   12.8   \n",
            "21  2000     Brasil  0.685        174790339                    6.2   \n",
            "20  2001     Brasil  0.691        177196051                    6.2   \n",
            "16  2005     Brasil  0.700        186127108                    6.5   \n",
            "56  2009      Chile  0.822         16886184                   10.8   \n",
            "11  2010     Brasil  0.727        195713637                    6.8   \n",
            "15  2006     Brasil  0.702        188167353                    6.5   \n",
            "41  2002  Argentina  0.781         37681743                   11.9   \n",
            "52  2013      Chile  0.826         17571511                   10.3   \n",
            "10  2011     Brasil  0.731        197514541                    6.8   \n",
            "27  2016  Argentina  0.839         43590368                   12.6   \n",
            "9   2012     Brasil  0.735        199287292                    6.9   \n",
            "43  2000  Argentina  0.781         36870796                   11.6   \n",
            "60  2005      Chile  0.791         16182713                   11.3   \n",
            "12  2009     Brasil  0.719        193886505                    6.7   \n",
            "55  2010      Chile  0.803         17062531                   10.6   \n",
            "48  2017      Chile  0.847         18470435                   10.0   \n",
            "54  2011      Chile  0.815         17233584                   10.5   \n",
            "14  2007     Brasil  0.706        190130445                    6.6   \n",
            "19  2002     Brasil  0.699        179537523                    6.3   \n",
            "28  2015  Argentina  0.840         43131966                   12.5   \n",
            "64  2001      Chile  0.767         15516112                   11.4   \n",
            "5   2016     Brasil  0.758        206163056                    7.1   \n",
            "38  2005  Argentina  0.788         38892924                   12.1   \n",
            "26  2017  Argentina  0.843         44044811                   12.7   \n",
            "59  2006      Chile  0.791         16354507                   11.2   \n",
            "30  2013  Argentina  0.835         42202935                   12.4   \n",
            "29  2014  Argentina  0.836         42669500                   12.4   \n",
            "61  2004      Chile  0.785         16014972                   11.4   \n",
            "50  2015      Chile  0.842         17969356                   10.1   \n",
            "53  2012      Chile  0.821         17400359                   10.4   \n",
            "\n",
            "    kcal_medio  diabeticos  diabetes_normalizado  Argentina  Brasil  Chile  \n",
            "39        2392     1098.00              0.000029        1.0     0.0    0.0  \n",
            "17        2393     7297.70              0.000040        0.0     1.0    0.0  \n",
            "33        2405     1482.00              0.000036        1.0     0.0    0.0  \n",
            "13        2424    10522.00              0.000055        0.0     1.0    0.0  \n",
            "36        2398     1308.20              0.000033        1.0     0.0    0.0  \n",
            "8         2442    13480.00              0.000067        0.0     1.0    0.0  \n",
            "63        2391      358.42              0.000023        0.0     0.0    1.0  \n",
            "2         2447    15456.00              0.000073        0.0     1.0    0.0  \n",
            "6         2445    14330.00              0.000070        0.0     1.0    0.0  \n",
            "24        2414     1784.20              0.000040        1.0     0.0    0.0  \n",
            "40        2390     1019.80              0.000027        1.0     0.0    0.0  \n",
            "31        2407     1577.50              0.000038        1.0     0.0    0.0  \n",
            "37        2396     1242.20              0.000032        1.0     0.0    0.0  \n",
            "35        2401     1370.20              0.000034        1.0     0.0    0.0  \n",
            "3         2447    15246.00              0.000073        0.0     1.0    0.0  \n",
            "47        2438     1620.60              0.000087        0.0     0.0    1.0  \n",
            "46        2440     1666.60              0.000088        0.0     0.0    1.0  \n",
            "51        2430     1397.80              0.000079        0.0     0.0    1.0  \n",
            "34        2403     1428.10              0.000035        1.0     0.0    0.0  \n",
            "65        2378      131.10              0.000009        0.0     0.0    1.0  \n",
            "25        2412     1766.90              0.000040        1.0     0.0    0.0  \n",
            "21        2367     3310.40              0.000019        0.0     1.0    0.0  \n",
            "20        2371     4378.70              0.000025        0.0     1.0    0.0  \n",
            "16        2401     8175.40              0.000044        0.0     1.0    0.0  \n",
            "56        2424     1032.30              0.000061        0.0     0.0    1.0  \n",
            "11        2433    11848.00              0.000061        0.0     1.0    0.0  \n",
            "15        2409     9005.30              0.000048        0.0     1.0    0.0  \n",
            "41        2388      937.56              0.000025        1.0     0.0    0.0  \n",
            "52        2429     1332.40              0.000076        0.0     0.0    1.0  \n",
            "10        2436    12440.00              0.000063        0.0     1.0    0.0  \n",
            "27        2411     1720.00              0.000039        1.0     0.0    0.0  \n",
            "9         2439    12984.00              0.000065        0.0     1.0    0.0  \n",
            "43        2381      760.90              0.000021        1.0     0.0    0.0  \n",
            "60        2409      670.42              0.000041        0.0     0.0    1.0  \n",
            "12        2429    11209.00              0.000058        0.0     1.0    0.0  \n",
            "55        2427     1113.10              0.000065        0.0     0.0    1.0  \n",
            "48        2435     1570.70              0.000085        0.0     0.0    1.0  \n",
            "54        2428     1190.10              0.000069        0.0     0.0    1.0  \n",
            "14        2417     9787.60              0.000051        0.0     1.0    0.0  \n",
            "19        2376     3299.40              0.000018        0.0     1.0    0.0  \n",
            "28        2410     1690.50              0.000039        1.0     0.0    0.0  \n",
            "64        2386      246.69              0.000016        0.0     0.0    1.0  \n",
            "5         2446    14683.00              0.000071        0.0     1.0    0.0  \n",
            "38        2395     1172.10              0.000030        1.0     0.0    0.0  \n",
            "26        2412     1745.50              0.000040        1.0     0.0    0.0  \n",
            "59        2414      766.70              0.000047        0.0     0.0    1.0  \n",
            "30        2408     1619.20              0.000038        1.0     0.0    0.0  \n",
            "29        2409     1656.90              0.000039        1.0     0.0    0.0  \n",
            "61        2403      570.29              0.000036        0.0     0.0    1.0  \n",
            "50        2431     1459.30              0.000081        0.0     0.0    1.0  \n",
            "53        2429     1263.20              0.000073        0.0     0.0    1.0  \n",
            "\n",
            "Teste:\n",
            "     ano       pais    idh  populacao_geral  per_crian_cinc_soprep  \\\n",
            "49  2016      Chile  0.845         18209072                   10.0   \n",
            "57  2008      Chile  0.814         16708255                   10.9   \n",
            "58  2007      Chile  0.804         16530201                   11.1   \n",
            "42  2001  Argentina  0.786         37275644                   11.8   \n",
            "4   2017     Brasil  0.761        207833825                    7.1   \n",
            "32  2011  Argentina  0.835         41261490                   12.4   \n",
            "7   2014     Brasil  0.756        202763744                    7.0   \n",
            "18  2003     Brasil  0.695        181809244                    6.4   \n",
            "62  2003      Chile  0.776         15849649                   11.5   \n",
            "\n",
            "    kcal_medio  diabeticos  diabetes_normalizado  Argentina  Brasil  Chile  \n",
            "49        2433     1516.90              0.000083        0.0     0.0    1.0  \n",
            "57        2421      947.65              0.000057        0.0     0.0    1.0  \n",
            "58        2418      859.11              0.000052        0.0     0.0    1.0  \n",
            "42        2385      851.26              0.000023        1.0     0.0    0.0  \n",
            "4         2446    14988.00              0.000072        0.0     1.0    0.0  \n",
            "32        2406     1531.80              0.000037        1.0     0.0    0.0  \n",
            "7         2443    13929.00              0.000069        0.0     1.0    0.0  \n",
            "18        2385     6372.40              0.000035        0.0     1.0    0.0  \n",
            "62        2397      466.29              0.000029        0.0     0.0    1.0  \n"
          ]
        }
      ],
      "source": [
        "from sklearn.model_selection import train_test_split\n",
        "\n",
        "Tam_Teste = 0.15\n",
        "Semente_Aleatoria = 623119\n",
        "dataset_name = \"df_atualizado\"\n",
        "features = ['ano', 'idh', 'populacao_geral', 'per_crian_cinc_soprep',\n",
        "       'kcal_medio', 'diabeticos', 'Argentina', 'Brasil','Chile']\n",
        "target = ['diabetes_normalizado']\n",
        "\n",
        "\n",
        "indices = df_atualizado.index\n",
        "indices_treino, indices_teste = train_test_split(indices, test_size = Tam_Teste, random_state=Semente_Aleatoria)\n",
        "\n",
        "df_treino = df_atualizado.loc[indices_treino]\n",
        "df_teste = df_atualizado.loc[indices_teste]\n",
        "\n",
        "X_treino = df_treino.reindex(features, axis=1).values\n",
        "y_treino = df_treino.reindex(target, axis=1).values\n",
        "X_teste = df_teste.reindex(features, axis=1).values\n",
        "y_teste = df_teste.reindex(target, axis=1).values\n",
        "\n",
        "print(\"Treino:\")\n",
        "print(df_treino)\n",
        "print()\n",
        "print(\"Teste:\")\n",
        "print(df_teste)\n"
      ]
    },
    {
      "cell_type": "markdown",
      "metadata": {
        "id": "Mn1BS-6Xxnrt"
      },
      "source": [
        "#### **Modelo Baseline:**"
      ]
    },
    {
      "cell_type": "code",
      "execution_count": null,
      "metadata": {
        "colab": {
          "base_uri": "https://localhost:8080/"
        },
        "id": "PfoaiseYAnJ1",
        "outputId": "ee1a86f7-76b2-4291-8005-8a76517fb3b2"
      },
      "outputs": [
        {
          "output_type": "stream",
          "name": "stdout",
          "text": [
            "[4.80218474e-05 4.80218474e-05 4.80218474e-05 4.80218474e-05\n",
            " 4.80218474e-05 4.80218474e-05 4.80218474e-05 4.80218474e-05\n",
            " 4.80218474e-05]\n"
          ]
        }
      ],
      "source": [
        "from sklearn.dummy import DummyRegressor\n",
        " \n",
        "# cria um modelo de baseline\n",
        "baseline = DummyRegressor()\n",
        "\n",
        "# treina o modelo de baseline\n",
        "baseline.fit(X_treino, y_treino)\n",
        "\n",
        "# previsão que esse modelo retornará\n",
        "previsao_bl = baseline.predict(X_teste)\n",
        "print(previsao_bl)\n"
      ]
    },
    {
      "cell_type": "code",
      "execution_count": null,
      "metadata": {
        "colab": {
          "base_uri": "https://localhost:8080/"
        },
        "id": "RJMbF8mdK2lT",
        "outputId": "261fae94-0cef-4368-8d64-4d52ef84867e"
      },
      "outputs": [
        {
          "output_type": "stream",
          "name": "stdout",
          "text": [
            "O RMSE do modelo baseline foi de 2.0031510155756037e-05.\n",
            "O MSE do modelo baseline foi de 4.0126139912015724e-10.\n"
          ]
        }
      ],
      "source": [
        "from sklearn.metrics import mean_squared_error #importamos a raiz quadrada do erro qud\n",
        "\n",
        "y_verdadeiro = y_teste\n",
        "y_previsao = baseline.predict(X_teste)\n",
        "\n",
        "RMSE_baseline = mean_squared_error(y_verdadeiro, y_previsao, squared=False)\n",
        "\n",
        "print(f\"O RMSE do modelo baseline foi de {RMSE_baseline}.\")\n",
        "\n",
        "#A métrica MSE consiste em elevar o valor do RME, portanto,\n",
        "\n",
        "MSE_baseline = (RMSE_baseline)**2\n",
        "\n",
        "print(f\"O MSE do modelo baseline foi de {MSE_baseline}.\")"
      ]
    },
    {
      "cell_type": "code",
      "source": [
        "df_atualizado.plot(use_index=True, y=['ano', 'idh', 'populacao_geral', 'per_crian_cinc_soprep',\n",
        "       'kcal_medio', 'diabeticos', 'Argentina', 'Brasil','Chile'])"
      ],
      "metadata": {
        "id": "V2FNlra5lZ7H",
        "colab": {
          "base_uri": "https://localhost:8080/",
          "height": 293
        },
        "outputId": "dfa3423b-1e8c-41ec-bd32-f2b9c3ecd3e9"
      },
      "execution_count": null,
      "outputs": [
        {
          "output_type": "execute_result",
          "data": {
            "text/plain": [
              "<matplotlib.axes._subplots.AxesSubplot at 0x7fb2c032ca10>"
            ]
          },
          "metadata": {},
          "execution_count": 22
        },
        {
          "output_type": "display_data",
          "data": {
            "text/plain": [
              "<Figure size 432x288 with 1 Axes>"
            ],
            "image/png": "[encoded data removed]"
          },
          "metadata": {
            "needs_background": "light"
          }
        }
      ]
    },
    {
      "cell_type": "markdown",
      "metadata": {
        "id": "-YPOCyIHxwKt"
      },
      "source": [
        "####**Modelo linear:**"
      ]
    },
    {
      "cell_type": "markdown",
      "metadata": {
        "id": "5PGswJTQYfdv"
      },
      "source": [
        "**Sem normalização:**"
      ]
    },
    {
      "cell_type": "code",
      "execution_count": null,
      "metadata": {
        "id": "A004D0Zmx1s3",
        "colab": {
          "base_uri": "https://localhost:8080/"
        },
        "outputId": "d3a0b751-65f0-459c-86d9-13cdfd738b60"
      },
      "outputs": [
        {
          "output_type": "stream",
          "name": "stdout",
          "text": [
            "[[8.30639248e-05]\n",
            " [5.64153488e-05]\n",
            " [5.05107174e-05]\n",
            " [2.35238628e-05]\n",
            " [7.06590636e-05]\n",
            " [3.73871393e-05]\n",
            " [6.95935204e-05]\n",
            " [3.03693609e-05]\n",
            " [2.70322424e-05]]\n"
          ]
        }
      ],
      "source": [
        "from sklearn.linear_model import LinearRegression\n",
        "\n",
        "# criando o modelo\n",
        "modelo_linear = LinearRegression()\n",
        "\n",
        "# treinando o modelo\n",
        "modelo_linear.fit(X_treino, y_treino)\n",
        "\n",
        "# Fazer previsão usando o modelo treinado\n",
        "previsao_ml = modelo_linear.predict(X_teste)\n",
        "print(previsao_ml)"
      ]
    },
    {
      "cell_type": "code",
      "execution_count": null,
      "metadata": {
        "id": "EMo0zABdMSLP",
        "colab": {
          "base_uri": "https://localhost:8080/"
        },
        "outputId": "ad597cc5-a2a1-40ec-816e-23069757320a"
      },
      "outputs": [
        {
          "output_type": "stream",
          "name": "stdout",
          "text": [
            "O RMSE do modelo linear foi de 1.92526433052614e-06 diabéticos\n"
          ]
        }
      ],
      "source": [
        "from sklearn.metrics import mean_squared_error # \n",
        "\n",
        "y_verdadeiro = y_teste\n",
        "y_previsao = modelo_linear.predict(X_teste)\n",
        "\n",
        "RMSE_reg_lin = mean_squared_error(y_verdadeiro, y_previsao, squared=False)\n",
        "\n",
        "print(f\"O RMSE do modelo linear foi de {RMSE_reg_lin} diabéticos\")"
      ]
    },
    {
      "cell_type": "code",
      "execution_count": null,
      "metadata": {
        "id": "FWFidUJhJnGT",
        "colab": {
          "base_uri": "https://localhost:8080/"
        },
        "outputId": "ad6160f0-8049-4d88-f5fe-74b85b5ac092"
      },
      "outputs": [
        {
          "output_type": "stream",
          "name": "stdout",
          "text": [
            "O MSE da regressão linear não normalizada foi de 3.706642742396266e-12\n"
          ]
        }
      ],
      "source": [
        "#A métrica MSE consiste em elevar o valor do RME, portanto,\n",
        "\n",
        "MSE_regr_lin = (RMSE_reg_lin)**2\n",
        "\n",
        "print(\"O MSE da regressão linear não normalizada foi de\", MSE_regr_lin)"
      ]
    },
    {
      "cell_type": "markdown",
      "metadata": {
        "id": "e5HgkWERYlJ_"
      },
      "source": [
        "#### **Normalização**"
      ]
    },
    {
      "cell_type": "code",
      "execution_count": null,
      "metadata": {
        "id": "XR1cay_UYku5",
        "colab": {
          "base_uri": "https://localhost:8080/"
        },
        "outputId": "085ab26a-a6a3-43dd-8fdb-ad92e52c5633"
      },
      "outputs": [
        {
          "output_type": "stream",
          "name": "stdout",
          "text": [
            "[[2.10526316e-01 6.14457831e-01 1.18287031e-01 8.65671642e-01\n",
            "  3.12500000e-01 6.30933970e-02 1.00000000e+00 0.00000000e+00\n",
            "  0.00000000e+00]\n",
            " [2.10526316e-01 7.83132530e-02 8.61818859e-01 2.98507463e-02\n",
            "  3.25000000e-01 4.67644161e-01 0.00000000e+00 1.00000000e+00\n",
            "  0.00000000e+00]\n",
            " [5.26315789e-01 8.67469880e-01 1.30021313e-01 9.10447761e-01\n",
            "  4.75000000e-01 8.81506568e-02 1.00000000e+00 0.00000000e+00\n",
            "  0.00000000e+00]\n",
            " [4.21052632e-01 1.92771084e-01 9.02818292e-01 5.97014925e-02\n",
            "  7.12500000e-01 6.78040313e-01 0.00000000e+00 1.00000000e+00\n",
            "  0.00000000e+00]\n",
            " [3.68421053e-01 7.95180723e-01 1.24379465e-01 8.95522388e-01\n",
            "  3.87500000e-01 7.68096366e-02 1.00000000e+00 0.00000000e+00\n",
            "  0.00000000e+00]\n",
            " [6.84210526e-01 4.09638554e-01 9.48833683e-01 1.04477612e-01\n",
            "  9.37500000e-01 8.71059518e-01 0.00000000e+00 1.00000000e+00\n",
            "  0.00000000e+00]\n",
            " [1.05263158e-01 5.06024096e-01 1.74783071e-03 7.91044776e-01\n",
            "  3.00000000e-01 1.48333757e-02 0.00000000e+00 0.00000000e+00\n",
            "  1.00000000e+00]\n",
            " [1.00000000e+00 4.81927711e-01 1.00000000e+00 1.49253731e-01\n",
            "  1.00000000e+00 1.00000000e+00 0.00000000e+00 1.00000000e+00\n",
            "  0.00000000e+00]\n",
            " [7.89473684e-01 4.27710843e-01 9.66389785e-01 1.34328358e-01\n",
            "  9.75000000e-01 9.26524806e-01 0.00000000e+00 1.00000000e+00\n",
            "  0.00000000e+00]\n",
            " [1.00000000e+00 9.63855422e-01 1.51227787e-01 1.00000000e+00\n",
            "  5.87500000e-01 1.07870198e-01 1.00000000e+00 0.00000000e+00\n",
            "  0.00000000e+00]\n",
            " [1.57894737e-01 6.08433735e-01 1.16222191e-01 8.50746269e-01\n",
            "  2.87500000e-01 5.79905905e-02 1.00000000e+00 0.00000000e+00\n",
            "  0.00000000e+00]\n",
            " [6.31578947e-01 8.97590361e-01 1.34849025e-01 9.25373134e-01\n",
            "  5.00000000e-01 9.43823451e-02 1.00000000e+00 0.00000000e+00\n",
            "  0.00000000e+00]\n",
            " [3.15789474e-01 7.65060241e-01 1.22364071e-01 8.95522388e-01\n",
            "  3.62500000e-01 7.25029201e-02 1.00000000e+00 0.00000000e+00\n",
            "  0.00000000e+00]\n",
            " [4.21052632e-01 8.19277108e-01 1.26402161e-01 8.95522388e-01\n",
            "  4.25000000e-01 8.08553400e-02 1.00000000e+00 0.00000000e+00\n",
            "  0.00000000e+00]\n",
            " [9.47368421e-01 4.63855422e-01 9.91925697e-01 1.49253731e-01\n",
            "  1.00000000e+00 9.86296811e-01 0.00000000e+00 1.00000000e+00\n",
            "  0.00000000e+00]\n",
            " [9.47368421e-01 9.87951807e-01 1.73055285e-02 5.52238806e-01\n",
            "  8.87500000e-01 9.71947615e-02 0.00000000e+00 0.00000000e+00\n",
            "  1.00000000e+00]\n",
            " [1.00000000e+00 1.00000000e+00 1.84443167e-02 5.52238806e-01\n",
            "  9.12500000e-01 1.00196412e-01 0.00000000e+00 0.00000000e+00\n",
            "  1.00000000e+00]\n",
            " [7.36842105e-01 9.15662651e-01 1.23481373e-02 5.82089552e-01\n",
            "  7.87500000e-01 8.26563305e-02 0.00000000e+00 0.00000000e+00\n",
            "  1.00000000e+00]\n",
            " [4.73684211e-01 8.19277108e-01 1.28459454e-01 9.10447761e-01\n",
            "  4.50000000e-01 8.46335049e-02 1.00000000e+00 0.00000000e+00\n",
            "  0.00000000e+00]\n",
            " [0.00000000e+00 4.27710843e-01 0.00000000e+00 7.61194030e-01\n",
            "  1.37500000e-01 0.00000000e+00 0.00000000e+00 0.00000000e+00\n",
            "  1.00000000e+00]\n",
            " [9.47368421e-01 9.45783133e-01 1.48958018e-01 9.85074627e-01\n",
            "  5.62500000e-01 1.06741316e-01 1.00000000e+00 0.00000000e+00\n",
            "  0.00000000e+00]\n",
            " [0.00000000e+00 0.00000000e+00 8.14727380e-01 0.00000000e+00\n",
            "  0.00000000e+00 2.07459755e-01 0.00000000e+00 1.00000000e+00\n",
            "  0.00000000e+00]\n",
            " [5.26315789e-02 3.61445783e-02 8.27019786e-01 0.00000000e+00\n",
            "  5.00000000e-02 2.77169835e-01 0.00000000e+00 1.00000000e+00\n",
            "  0.00000000e+00]\n",
            " [2.63157895e-01 9.03614458e-02 8.72654583e-01 4.47761194e-02\n",
            "  4.25000000e-01 5.24916965e-01 0.00000000e+00 1.00000000e+00\n",
            "  0.00000000e+00]\n",
            " [4.73684211e-01 8.25301205e-01 7.88848977e-03 6.86567164e-01\n",
            "  7.12500000e-01 5.88062565e-02 0.00000000e+00 0.00000000e+00\n",
            "  1.00000000e+00]\n",
            " [5.26315789e-01 2.53012048e-01 9.21638629e-01 8.95522388e-02\n",
            "  8.25000000e-01 7.64566164e-01 0.00000000e+00 1.00000000e+00\n",
            "  0.00000000e+00]\n",
            " [3.15789474e-01 1.02409639e-01 8.83079572e-01 4.47761194e-02\n",
            "  5.25000000e-01 5.79070663e-01 0.00000000e+00 1.00000000e+00\n",
            "  0.00000000e+00]\n",
            " [1.05263158e-01 5.78313253e-01 1.14147035e-01 8.50746269e-01\n",
            "  2.62500000e-01 5.26241607e-02 1.00000000e+00 0.00000000e+00\n",
            "  0.00000000e+00]\n",
            " [6.84210526e-01 8.49397590e-01 1.13902879e-02 6.11940299e-01\n",
            "  7.75000000e-01 7.83887660e-02 0.00000000e+00 0.00000000e+00\n",
            "  1.00000000e+00]\n",
            " [5.78947368e-01 2.77108434e-01 9.30840663e-01 8.95522388e-02\n",
            "  8.62500000e-01 8.03196106e-01 0.00000000e+00 1.00000000e+00\n",
            "  0.00000000e+00]\n",
            " [8.42105263e-01 9.27710843e-01 1.44338187e-01 9.55223881e-01\n",
            "  5.50000000e-01 1.03680938e-01 1.00000000e+00 0.00000000e+00\n",
            "  0.00000000e+00]\n",
            " [6.31578947e-01 3.01204819e-01 9.39898844e-01 1.04477612e-01\n",
            "  9.00000000e-01 8.38693890e-01 0.00000000e+00 1.00000000e+00\n",
            "  0.00000000e+00]\n",
            " [0.00000000e+00 5.78313253e-01 1.10003359e-01 8.05970149e-01\n",
            "  1.75000000e-01 4.10965161e-02 1.00000000e+00 0.00000000e+00\n",
            "  0.00000000e+00]\n",
            " [2.63157895e-01 6.38554217e-01 4.29398169e-03 7.61194030e-01\n",
            "  5.25000000e-01 3.51923993e-02 0.00000000e+00 0.00000000e+00\n",
            "  1.00000000e+00]\n",
            " [4.73684211e-01 2.04819277e-01 9.12302579e-01 7.46268657e-02\n",
            "  7.75000000e-01 7.22869317e-01 0.00000000e+00 1.00000000e+00\n",
            "  0.00000000e+00]\n",
            " [5.26315789e-01 7.10843373e-01 8.78956560e-03 6.56716418e-01\n",
            "  7.50000000e-01 6.40787216e-02 0.00000000e+00 0.00000000e+00\n",
            "  1.00000000e+00]\n",
            " [8.94736842e-01 9.75903614e-01 1.59834973e-02 5.67164179e-01\n",
            "  8.50000000e-01 9.39386228e-02 0.00000000e+00 0.00000000e+00\n",
            "  1.00000000e+00]\n",
            " [5.78947368e-01 7.83132530e-01 9.66359081e-03 6.41791045e-01\n",
            "  7.62500000e-01 6.91032242e-02 0.00000000e+00 0.00000000e+00\n",
            "  1.00000000e+00]\n",
            " [3.68421053e-01 1.26506024e-01 8.93110334e-01 5.97014925e-02\n",
            "  6.25000000e-01 6.30118304e-01 0.00000000e+00 1.00000000e+00\n",
            "  0.00000000e+00]\n",
            " [1.05263158e-01 8.43373494e-02 8.38983946e-01 1.49253731e-02\n",
            "  1.12500000e-01 2.06741969e-01 0.00000000e+00 1.00000000e+00\n",
            "  0.00000000e+00]\n",
            " [7.89473684e-01 9.33734940e-01 1.41995902e-01 9.40298507e-01\n",
            "  5.37500000e-01 1.01755966e-01 1.00000000e+00 0.00000000e+00\n",
            "  0.00000000e+00]\n",
            " [5.26315789e-02 4.93975904e-01 8.87867322e-04 7.76119403e-01\n",
            "  2.37500000e-01 7.54262671e-03 0.00000000e+00 0.00000000e+00\n",
            "  1.00000000e+00]\n",
            " [8.42105263e-01 4.39759036e-01 9.75031763e-01 1.34328358e-01\n",
            "  9.87500000e-01 9.49559214e-01 0.00000000e+00 1.00000000e+00\n",
            "  0.00000000e+00]\n",
            " [2.63157895e-01 6.20481928e-01 1.20335776e-01 8.80597015e-01\n",
            "  3.50000000e-01 6.79286651e-02 1.00000000e+00 0.00000000e+00\n",
            "  0.00000000e+00]\n",
            " [8.94736842e-01 9.51807229e-01 1.46660243e-01 9.70149254e-01\n",
            "  5.62500000e-01 1.05344896e-01 1.00000000e+00 0.00000000e+00\n",
            "  0.00000000e+00]\n",
            " [3.15789474e-01 6.38554217e-01 5.17179317e-03 7.46268657e-01\n",
            "  5.87500000e-01 4.14749852e-02 0.00000000e+00 0.00000000e+00\n",
            "  1.00000000e+00]\n",
            " [6.84210526e-01 9.03614458e-01 1.37248856e-01 9.25373134e-01\n",
            "  5.12500000e-01 9.71034069e-02 1.00000000e+00 0.00000000e+00\n",
            "  0.00000000e+00]\n",
            " [7.36842105e-01 9.09638554e-01 1.39632851e-01 9.25373134e-01\n",
            "  5.25000000e-01 9.95634556e-02 1.00000000e+00 0.00000000e+00\n",
            "  0.00000000e+00]\n",
            " [2.10526316e-01 6.02409639e-01 3.43687972e-03 7.76119403e-01\n",
            "  4.50000000e-01 2.86585883e-02 0.00000000e+00 0.00000000e+00\n",
            "  1.00000000e+00]\n",
            " [7.89473684e-01 9.45783133e-01 1.34231465e-02 5.82089552e-01\n",
            "  8.00000000e-01 8.66694073e-02 0.00000000e+00 0.00000000e+00\n",
            "  1.00000000e+00]\n",
            " [6.31578947e-01 8.19277108e-01 1.05157568e-02 6.26865672e-01\n",
            "  7.75000000e-01 7.38732390e-02 0.00000000e+00 0.00000000e+00\n",
            "  1.00000000e+00]]\n",
            "[[0.2516658 ]\n",
            " [0.39191258]\n",
            " [0.35001705]\n",
            " [0.58252684]\n",
            " [0.30758704]\n",
            " [0.73693982]\n",
            " [0.18020538]\n",
            " [0.81479698]\n",
            " [0.77510863]\n",
            " [0.39245351]\n",
            " [0.22961722]\n",
            " [0.36847923]\n",
            " [0.29059699]\n",
            " [0.32297025]\n",
            " [0.80912809]\n",
            " [0.98224473]\n",
            " [1.        ]\n",
            " [0.88376451]\n",
            " [0.33670236]\n",
            " [0.        ]\n",
            " [0.39254875]\n",
            " [0.13092227]\n",
            " [0.20362136]\n",
            " [0.44561682]\n",
            " [0.66237536]\n",
            " [0.65487607]\n",
            " [0.49517021]\n",
            " [0.2057622 ]\n",
            " [0.84746101]\n",
            " [0.6856758 ]\n",
            " [0.38937131]\n",
            " [0.71300155]\n",
            " [0.1523054 ]\n",
            " [0.41418339]\n",
            " [0.62054985]\n",
            " [0.71406385]\n",
            " [0.96348306]\n",
            " [0.76218548]\n",
            " [0.54077146]\n",
            " [0.12384297]\n",
            " [0.38603865]\n",
            " [0.09262781]\n",
            " [0.78943357]\n",
            " [0.27195929]\n",
            " [0.39153569]\n",
            " [0.48285314]\n",
            " [0.37562626]\n",
            " [0.38147081]\n",
            " [0.34089772]\n",
            " [0.91526553]\n",
            " [0.80676358]]\n"
          ]
        }
      ],
      "source": [
        "from sklearn.preprocessing import  MinMaxScaler\n",
        "\n",
        "scaler_x = MinMaxScaler() ## pega o valor máx e mín de x\n",
        "scaler_y = MinMaxScaler() ## pega o valor máx e mín de y\n",
        "\n",
        "scaler_x.fit(X_treino)\n",
        "X_treino_norm = scaler_x.fit_transform(X_treino)\n",
        "print(X_treino_norm)\n",
        "\n",
        "scaler_y.fit(y_treino)\n",
        "y_treino_norm = scaler_y.fit_transform(y_treino)\n",
        "print(y_treino_norm)"
      ]
    },
    {
      "cell_type": "code",
      "source": [
        "from sklearn.preprocessing import  MinMaxScaler\n",
        "\n",
        "scaler_x = MinMaxScaler() ## pega o valor máx e mín de x\n",
        "scaler_y = MinMaxScaler() ## pega o valor máx e mín de y\n",
        "\n",
        "scaler_x.fit(X_teste)\n",
        "X_teste_norm = scaler_x.fit_transform(X_teste)\n",
        "print(X_teste_norm)\n",
        "\n",
        "scaler_y.fit(y_teste)\n",
        "y_teste_norm = scaler_y.fit_transform(y_teste)\n",
        "print(y_teste_norm)"
      ],
      "metadata": {
        "id": "icUB-kbZ-rIo",
        "colab": {
          "base_uri": "https://localhost:8080/"
        },
        "outputId": "9c72058b-ac87-4574-eca8-16abc8317d47"
      },
      "execution_count": null,
      "outputs": [
        {
          "output_type": "stream",
          "name": "stdout",
          "text": [
            "[[0.9375     1.         0.01228967 0.6        0.78688525 0.07234754\n",
            "  0.         0.         1.        ]\n",
            " [0.4375     0.79333333 0.00447227 0.75       0.59016393 0.03314761\n",
            "  0.         0.         1.        ]\n",
            " [0.375      0.72666667 0.00354483 0.78333333 0.54098361 0.02705053\n",
            "  0.         0.         1.        ]\n",
            " [0.         0.60666667 0.11160292 0.9        0.         0.02650996\n",
            "  1.         0.         0.        ]\n",
            " [1.         0.44       1.         0.11666667 1.         1.\n",
            "  0.         1.         0.        ]\n",
            " [0.625      0.93333333 0.13236425 1.         0.3442623  0.07337359\n",
            "  1.         0.         0.        ]\n",
            " [0.8125     0.40666667 0.97359115 0.1        0.95081967 0.9270747\n",
            "  0.         1.         0.        ]\n",
            " [0.125      0.         0.86444414 0.         0.         0.40670899\n",
            "  0.         1.         0.        ]\n",
            " [0.125      0.54       0.         0.85       0.19672131 0.\n",
            "  0.         0.         1.        ]]\n",
            "[[1.        ]\n",
            " [0.56030836]\n",
            " [0.48183134]\n",
            " [0.        ]\n",
            " [0.81495382]\n",
            " [0.23627988]\n",
            " [0.75840145]\n",
            " [0.20197594]\n",
            " [0.10886274]]\n"
          ]
        }
      ]
    },
    {
      "cell_type": "markdown",
      "metadata": {
        "id": "XxObgP5yZ8AK"
      },
      "source": [
        "##### **Modelo linear após a normalização:**"
      ]
    },
    {
      "cell_type": "code",
      "execution_count": null,
      "metadata": {
        "id": "LC7gJPJTaBlN",
        "colab": {
          "base_uri": "https://localhost:8080/"
        },
        "outputId": "2429471a-e7d1-4f44-dc2c-b838f9b12ba9"
      },
      "outputs": [
        {
          "output_type": "stream",
          "name": "stdout",
          "text": [
            "[[3.68728038e-05]\n",
            " [4.40865953e-05]\n",
            " [4.46930566e-05]\n",
            " [6.02670941e-05]\n",
            " [4.05259772e-05]\n",
            " [6.95362763e-05]\n",
            " [3.30509347e-05]\n",
            " [6.96583812e-05]\n",
            " [6.94036757e-05]\n",
            " [4.64747423e-05]\n",
            " [3.64594392e-05]\n",
            " [4.55232013e-05]\n",
            " [3.89210895e-05]\n",
            " [4.25618005e-05]\n",
            " [6.96171417e-05]\n",
            " [8.40741985e-05]\n",
            " [8.55880891e-05]\n",
            " [7.58167476e-05]\n",
            " [4.28937097e-05]\n",
            " [2.68486798e-05]\n",
            " [4.60631837e-05]\n",
            " [3.02859214e-05]\n",
            " [3.31932816e-05]\n",
            " [4.76483408e-05]\n",
            " [6.26919563e-05]\n",
            " [6.39871830e-05]\n",
            " [5.21772946e-05]\n",
            " [3.48382827e-05]\n",
            " [7.22861236e-05]\n",
            " [6.59688489e-05]\n",
            " [4.68655137e-05]\n",
            " [6.69099449e-05]\n",
            " [3.36074720e-05]\n",
            " [4.66633864e-05]\n",
            " [6.22374614e-05]\n",
            " [6.56245793e-05]\n",
            " [8.10954714e-05]\n",
            " [6.82457687e-05]\n",
            " [5.58014694e-05]\n",
            " [3.27110434e-05]\n",
            " [4.71502551e-05]\n",
            " [3.09287135e-05]\n",
            " [7.00209388e-05]\n",
            " [3.77731855e-05]\n",
            " [4.68454059e-05]\n",
            " [5.06321936e-05]\n",
            " [4.63452920e-05]\n",
            " [4.71635003e-05]\n",
            " [4.18741789e-05]\n",
            " [7.70294877e-05]\n",
            " [7.05422621e-05]]\n"
          ]
        }
      ],
      "source": [
        "# Criando o modelo\n",
        "modelo_linear = LinearRegression()\n",
        "\n",
        "# Treinando o modelo\n",
        "modelo_linear.fit(\n",
        "    X_treino_norm,\n",
        "    y_treino_norm,\n",
        ")\n",
        "\n",
        "# realizando a previsão usando o modelo treinado\n",
        "\n",
        "previsao_ml_norm = modelo_linear.predict(X_treino_norm)\n",
        "previsao_ml_norm = scaler_y.inverse_transform(previsao_ml_norm)\n",
        "print(previsao_ml_norm)"
      ]
    },
    {
      "cell_type": "code",
      "execution_count": null,
      "metadata": {
        "id": "0CMdnq1od6s1",
        "colab": {
          "base_uri": "https://localhost:8080/"
        },
        "outputId": "217a5f3b-7c8f-44a9-92ff-1d7fc60c5efd"
      },
      "outputs": [
        {
          "output_type": "stream",
          "name": "stdout",
          "text": [
            "O RMSE do modelo linear foi de 3.4285011967075234e-05\n"
          ]
        }
      ],
      "source": [
        "y_verdadeiro = y_teste\n",
        "X_previsao = modelo_linear.predict(scaler_x.transform(X_teste))\n",
        "y_previsao = scaler_y.inverse_transform(y_previsao)\n",
        "\n",
        "RMSE_reg_lin_norm = mean_squared_error(y_verdadeiro, y_previsao, squared=False)\n",
        "\n",
        "print(f\"O RMSE do modelo linear foi de {RMSE_reg_lin_norm}\")"
      ]
    },
    {
      "cell_type": "code",
      "execution_count": null,
      "metadata": {
        "id": "8YZ_Nem-H8k9",
        "colab": {
          "base_uri": "https://localhost:8080/"
        },
        "outputId": "dbbce6e4-3788-42cb-bd37-91a4368b6d42"
      },
      "outputs": [
        {
          "output_type": "stream",
          "name": "stdout",
          "text": [
            "O MSE da regressão linear normalizada foi de 1.175462045582492e-09\n"
          ]
        }
      ],
      "source": [
        "#A métrica MSE consiste em elevar o valor do RME, portanto,\n",
        "\n",
        "MSE_regr_lin_norm = (RMSE_reg_lin_norm)**2\n",
        "\n",
        "print(\"O MSE da regressão linear normalizada foi de\", MSE_regr_lin_norm)"
      ]
    },
    {
      "cell_type": "markdown",
      "source": [
        "##### Análise usando os dados de treino:"
      ],
      "metadata": {
        "id": "w3-4beWO_Bpn"
      }
    },
    {
      "cell_type": "code",
      "source": [
        "from sklearn.inspection import permutation_importance\n",
        "\n",
        "N_REPETICOES = 10\n",
        "\n",
        "\n",
        "def R2_1param_linear(modelo, x, y):\n",
        "    \"\"\"Computa o coef. de determinação quando hip. alt. não tem coef. linear.\"\"\"\n",
        "    y_pred_l = modelo.predict(x).ravel()\n",
        "    y_true_l = (np.array(y)).ravel()\n",
        "    return 1 - sum((y_true_l - y_pred_l) ** 2) / sum(y_true_l**2)\n",
        "\n",
        "\n",
        "X_local_l = X_treino_norm\n",
        "y_local_l = y_treino_norm\n",
        "\n",
        "R2_linear = R2_1param_linear(modelo_linear, X_local_l, y_local_l)\n",
        "print(f\"O R^2 da previsão é de {R2_linear}\")\n",
        "\n",
        "# Aqui que calculamos a importância das features\n",
        "r_linear = permutation_importance(\n",
        "    modelo_linear,\n",
        "    X_local_l,\n",
        "    y_local_l,\n",
        "    n_repeats=N_REPETICOES,\n",
        "    random_state=Semente_Aleatoria,\n",
        "    scoring=R2_1param_linear,\n",
        ")\n",
        "\n",
        "print()\n",
        "\n",
        "# Aqui nós exibimos os resultados obtidos\n",
        "for i in r_linear.importances_mean.argsort()[::-1]:\n",
        "    if r_linear.importances_mean[i] - 2 * r_linear.importances_std[i] > 0:\n",
        "        print(f\"{features[i]:<8}\"\n",
        "              f\"{r_linear.importances_mean[i]:.8f}\"\n",
        "              f\" +/- {r_linear.importances_std[i]:.8f}\")"
      ],
      "metadata": {
        "id": "KRRmRDk__ISe",
        "colab": {
          "base_uri": "https://localhost:8080/"
        },
        "outputId": "13763b76-9192-4d98-83d5-7341be170a26"
      },
      "execution_count": null,
      "outputs": [
        {
          "output_type": "stream",
          "name": "stdout",
          "text": [
            "O R^2 da previsão é de 0.9981561260413071\n",
            "\n",
            "populacao_geral3.68635513 +/- 0.28465313\n",
            "per_crian_cinc_soprep1.03319008 +/- 0.12190954\n",
            "Brasil  0.28843487 +/- 0.02605559\n",
            "Chile   0.19456909 +/- 0.02191921\n",
            "kcal_medio0.17564598 +/- 0.02732799\n",
            "diabeticos0.08438492 +/- 0.00940149\n",
            "idh     0.01340263 +/- 0.00205709\n",
            "ano     0.01303403 +/- 0.00159856\n",
            "Argentina0.00643495 +/- 0.00110426\n"
          ]
        }
      ]
    },
    {
      "cell_type": "markdown",
      "source": [
        "##### Análise usando os dados de teste (generalização do modelo):"
      ],
      "metadata": {
        "id": "AQSNfLnx_bVv"
      }
    },
    {
      "cell_type": "code",
      "source": [
        "X_local_l = X_teste_norm\n",
        "y_local_l = y_teste_norm\n",
        "\n",
        "R2_linear = R2_1param_linear(modelo_linear, X_local_l, y_local_l)\n",
        "print(f\"O R^2 da previsão é de {R2_linear}\")\n",
        "\n",
        "# Aqui que calculamos a importância das features\n",
        "r = permutation_importance(\n",
        "    modelo_linear,\n",
        "    X_local_l,\n",
        "    y_local_l,\n",
        "    n_repeats=N_REPETICOES,\n",
        "    random_state=Semente_Aleatoria,\n",
        "    scoring=R2_1param_linear,\n",
        ")\n",
        "\n",
        "print()\n",
        "\n",
        "# Aqui nós exibimos os resultados obtidos\n",
        "for i in r.importances_mean.argsort()[::-1]:\n",
        "    if r.importances_mean[i] - 2 * r.importances_std[i] > 0:\n",
        "        print(f\"{features[i]:<8}\"\n",
        "              f\"{r.importances_mean[i]:.3f}\"\n",
        "              f\" +/- {r.importances_std[i]:.3f}\")"
      ],
      "metadata": {
        "id": "UUrfWbNu_fDT",
        "colab": {
          "base_uri": "https://localhost:8080/"
        },
        "outputId": "9de8230a-d722-470c-ba6c-576e727d6c7e"
      },
      "execution_count": null,
      "outputs": [
        {
          "output_type": "stream",
          "name": "stdout",
          "text": [
            "O R^2 da previsão é de 0.9878395403091293\n",
            "\n",
            "populacao_geral4.442 +/- 1.292\n",
            "per_crian_cinc_soprep1.032 +/- 0.267\n",
            "kcal_medio0.331 +/- 0.110\n",
            "Brasil  0.261 +/- 0.070\n",
            "Chile   0.221 +/- 0.057\n",
            "diabeticos0.095 +/- 0.031\n",
            "idh     0.015 +/- 0.005\n"
          ]
        }
      ]
    },
    {
      "cell_type": "markdown",
      "metadata": {
        "id": "6vqfDlt-NTa7"
      },
      "source": [
        "####**Modelo KNN:**"
      ]
    },
    {
      "cell_type": "markdown",
      "metadata": {
        "id": "jfvif1I8MBlr"
      },
      "source": [
        "##### KNN padrão"
      ]
    },
    {
      "cell_type": "code",
      "execution_count": null,
      "metadata": {
        "id": "rNj8zCIESmyq",
        "colab": {
          "base_uri": "https://localhost:8080/"
        },
        "outputId": "61531f19-b1a1-48a9-ee41-0fef55eb71d1"
      },
      "outputs": [
        {
          "output_type": "stream",
          "name": "stdout",
          "text": [
            "[[8.14628077e-05]\n",
            " [5.67469107e-05]\n",
            " [5.00574668e-05]\n",
            " [2.61909785e-05]\n",
            " [7.08747958e-05]\n",
            " [3.63927206e-05]\n",
            " [6.72981860e-05]\n",
            " [3.49059915e-05]\n",
            " [3.25337898e-05]]\n"
          ]
        }
      ],
      "source": [
        "from sklearn.neighbors import KNeighborsRegressor\n",
        "\n",
        "# cria o modelo\n",
        "modelo_knn = KNeighborsRegressor()\n",
        "\n",
        "# treina o modelo\n",
        "modelo_knn.fit(X_treino, y_treino)\n",
        "\n",
        "# realiza uma previsão usando o modelo treinado\n",
        "previsao_knn = modelo_knn.predict(X_teste)\n",
        "print(previsao_knn)"
      ]
    },
    {
      "cell_type": "code",
      "execution_count": null,
      "metadata": {
        "id": "UALBYbHOSo21",
        "colab": {
          "base_uri": "https://localhost:8080/"
        },
        "outputId": "b4a3dcf0-4f0f-49eb-abbe-f50377a8a21e"
      },
      "outputs": [
        {
          "output_type": "stream",
          "name": "stdout",
          "text": [
            "O RMSE do modelo k-NN for de 1.887240230532874e-06.\n"
          ]
        }
      ],
      "source": [
        "from sklearn.metrics import mean_squared_error\n",
        "\n",
        "y_verdadeiro = y_teste\n",
        "y_previsao = modelo_knn.predict(X_teste)\n",
        "\n",
        "RMSE = mean_squared_error(y_verdadeiro, y_previsao, squared=False)\n",
        "\n",
        "print(f\"O RMSE do modelo k-NN for de {RMSE}.\")"
      ]
    },
    {
      "cell_type": "markdown",
      "metadata": {
        "id": "T0AUyDEoMNC2"
      },
      "source": [
        "##### KNN com N's diferentes"
      ]
    },
    {
      "cell_type": "code",
      "execution_count": null,
      "metadata": {
        "id": "o-cOwKPTMT3u",
        "outputId": "757922ba-20e4-4900-b193-df6b8b93481f",
        "colab": {
          "base_uri": "https://localhost:8080/"
        }
      },
      "outputs": [
        {
          "output_type": "stream",
          "name": "stdout",
          "text": [
            "O RMSE do modelo k-NN usando k=1 foi de 3.679736370859532e-06\n",
            "O MSE do modelo k-NN usando k=1 foi de 1.3540459759026479e-11\n",
            "O RMSE do modelo k-NN usando k=3 foi de 1.7414021228385436e-06\n",
            "O MSE do modelo k-NN usando k=3 foi de 3.032481353426586e-12\n",
            "O RMSE do modelo k-NN usando k=4 foi de 2.6907145601573277e-06\n",
            "O MSE do modelo k-NN usando k=4 foi de 7.2399448442426415e-12\n",
            "O RMSE do modelo k-NN usando k=7 foi de 2.7576914712501296e-06\n",
            "O MSE do modelo k-NN usando k=7 foi de 7.604862250605705e-12\n",
            "O RMSE do modelo k-NN usando k=10 foi de 6.774030456206837e-06\n",
            "O MSE do modelo k-NN usando k=10 foi de 4.588748862161781e-11\n"
          ]
        }
      ],
      "source": [
        "\n",
        "\n",
        "\n",
        "\n",
        "\n",
        "  NUM_VIZINHOS = [1, 3, 4, 7, 10]\n",
        "\n",
        "for n in NUM_VIZINHOS:\n",
        "    modelo_knn = KNeighborsRegressor(n_neighbors=n)\n",
        "    modelo_knn.fit(X_treino, y_treino)\n",
        "\n",
        "    y_verdadeiro = y_teste\n",
        "    y_previsao = modelo_knn.predict(X_teste)\n",
        "    RMSE_KNN = mean_squared_error(y_verdadeiro, y_previsao, squared=False)\n",
        "    print(f\"O RMSE do modelo k-NN usando k={n} foi de {RMSE_KNN}\")\n",
        "    \n",
        "    #A métrica MSE consiste em elevar o valor do RME, portanto:\n",
        "    MSE_KNN = (RMSE_KNN)**2\n",
        "    print(f\"O MSE do modelo k-NN usando k={n} foi de {MSE_KNN}\")"
      ]
    },
    {
      "cell_type": "markdown",
      "source": [
        "##### Análise usando os dados de treino:"
      ],
      "metadata": {
        "id": "6U1Enhi9CbW_"
      }
    },
    {
      "cell_type": "code",
      "source": [
        "from sklearn.inspection import permutation_importance\n",
        "\n",
        "N_REPETICOES = 10\n",
        "\n",
        "\n",
        "def R2_1param_knn(modelo, x, y):\n",
        "    \"\"\"Computa o coef. de determinação quando hip. alt. não tem coef. linear.\"\"\"\n",
        "    y_pred_knn = modelo.predict(x).ravel()\n",
        "    y_true_knn = (np.array(y)).ravel()\n",
        "    return 1 - sum((y_true_knn - y_pred_knn) ** 2) / sum(y_true_knn**2)\n",
        "\n",
        "\n",
        "X_local_knn = X_treino\n",
        "y_local_knn = y_treino\n",
        "\n",
        "R2_knn = R2_1param_knn(modelo_knn, X_local_knn, y_local_knn)\n",
        "print(f\"O R^2 da previsão é de {R2_knn}\")\n",
        "\n",
        "# Aqui que calculamos a importância das features\n",
        "r_knn = permutation_importance(\n",
        "    modelo_knn,\n",
        "    X_local_knn,\n",
        "    y_local_knn,\n",
        "    n_repeats=N_REPETICOES,\n",
        "    random_state=Semente_Aleatoria,\n",
        "    scoring=R2_1param_knn,\n",
        ")\n",
        "\n",
        "print()\n",
        "\n",
        "# Aqui nós exibimos os resultados obtidos\n",
        "for i in r_knn.importances_mean.argsort()[::-1]:\n",
        "    if r_knn.importances_mean[i] - 2 * r_knn.importances_std[i] > 0:\n",
        "        print(f\"{features[i]:<8}\"\n",
        "              f\"{r_knn.importances_mean[i]:.8f}\"\n",
        "              f\" +/- {r_knn.importances_std[i]:.8f}\")"
      ],
      "metadata": {
        "id": "JocU21VjCcZ3",
        "colab": {
          "base_uri": "https://localhost:8080/"
        },
        "outputId": "02f419ec-151e-4ba9-b6c7-c8fffcf90c93"
      },
      "execution_count": null,
      "outputs": [
        {
          "output_type": "stream",
          "name": "stdout",
          "text": [
            "O R^2 da previsão é de 0.9663134105383043\n",
            "\n",
            "populacao_geral0.19433614 +/- 0.03460244\n"
          ]
        }
      ]
    },
    {
      "cell_type": "markdown",
      "source": [
        "##### Análise usando os dados de teste (generalização do modelo):"
      ],
      "metadata": {
        "id": "gNjN6k5SClS9"
      }
    },
    {
      "cell_type": "code",
      "source": [
        "X_local_knn = X_teste\n",
        "y_local_knn = y_teste\n",
        "\n",
        "R2_knn = R2_1param_knn(modelo_knn, X_local_knn, y_local_knn)\n",
        "print(f\"O R^2 da previsão é de {R2_knn}\")\n",
        "\n",
        "# Aqui que calculamos a importância das features\n",
        "r = permutation_importance(\n",
        "    modelo_knn,\n",
        "    X_local_knn,\n",
        "    y_local_knn,\n",
        "    n_repeats=N_REPETICOES,\n",
        "    random_state=Semente_Aleatoria,\n",
        "    scoring=R2_1param_knn,\n",
        ")\n",
        "\n",
        "print()\n",
        "\n",
        "# Aqui nós exibimos os resultados obtidos\n",
        "for i in r.importances_mean.argsort()[::-1]:\n",
        "    if r.importances_mean[i] - 2 * r.importances_std[i] > 0:\n",
        "        print(f\"{features[i]:<8}\"\n",
        "              f\"{r.importances_mean[i]:.3f}\"\n",
        "              f\" +/- {r.importances_std[i]:.3f}\")"
      ],
      "metadata": {
        "id": "ybpSggDICkoC",
        "colab": {
          "base_uri": "https://localhost:8080/"
        },
        "outputId": "cee13c9d-13a1-4aff-d734-f5e530cad637"
      },
      "execution_count": null,
      "outputs": [
        {
          "output_type": "stream",
          "name": "stdout",
          "text": [
            "O R^2 da previsão é de 0.9845733838665395\n",
            "\n",
            "populacao_geral0.198 +/- 0.069\n"
          ]
        }
      ]
    },
    {
      "cell_type": "markdown",
      "metadata": {
        "id": "A6lYEhDuTJv3"
      },
      "source": [
        "#### **Árvore de decisão**"
      ]
    },
    {
      "cell_type": "code",
      "execution_count": null,
      "metadata": {
        "id": "sJ8_V0ijTNwV",
        "colab": {
          "base_uri": "https://localhost:8080/"
        },
        "outputId": "25cc5be2-5a13-4594-c812-c4273fec2e7e"
      },
      "outputs": [
        {
          "output_type": "stream",
          "name": "stdout",
          "text": [
            "[8.50386036e-05 6.11328172e-05 4.68800435e-05 2.48810147e-05\n",
            " 7.27839285e-05 3.77995772e-05 6.70526992e-05 2.47110473e-05\n",
            " 3.01365873e-05]\n"
          ]
        }
      ],
      "source": [
        "from sklearn.tree import DecisionTreeRegressor\n",
        "\n",
        "# cria o modelo\n",
        "modelo_dt = DecisionTreeRegressor(random_state=Semente_Aleatoria)\n",
        "\n",
        "# treina o modelo\n",
        "modelo_dt.fit(X_treino, y_treino)\n",
        "\n",
        "# realiza uma previsão usando o modelo treinado\n",
        "previsao = modelo_dt.predict(X_teste)\n",
        "print(previsao)"
      ]
    },
    {
      "cell_type": "code",
      "execution_count": null,
      "metadata": {
        "id": "Qb6gK3g6wBi3",
        "colab": {
          "base_uri": "https://localhost:8080/"
        },
        "outputId": "e1c0597c-0d2a-4d6f-cee8-25f76bd8c32c"
      },
      "outputs": [
        {
          "output_type": "stream",
          "name": "stdout",
          "text": [
            "O RMSE do modelo árvore de decisão foi de 4.263787798216871e-06 porcentagem de diabéticos por milhar (normalizado).\n"
          ]
        }
      ],
      "source": [
        "from sklearn.metrics import mean_squared_error\n",
        "\n",
        "y_verdadeiro = y_teste\n",
        "y_previsao = modelo_dt.predict(X_teste)\n",
        "\n",
        "RMSE = mean_squared_error(y_verdadeiro, y_previsao, squared=False)\n",
        "\n",
        "print(f\"O RMSE do modelo árvore de decisão foi de {RMSE} porcentagem de diabéticos por milhar (normalizado).\")"
      ]
    },
    {
      "cell_type": "code",
      "execution_count": null,
      "metadata": {
        "id": "YcLfzjWCE3F6",
        "colab": {
          "base_uri": "https://localhost:8080/"
        },
        "outputId": "e899dbc2-9c0a-4c67-81c3-c03884321f49"
      },
      "outputs": [
        {
          "output_type": "stream",
          "name": "stdout",
          "text": [
            "O RMSE do modelo árvore de decisão usando max_leaf_nodes=None e max_depth=None foi de 0.000004 porcentagem de diabéticos por milhar (normalizado).\n",
            "O RMSE do modelo árvore de decisão usando max_leaf_nodes=None e max_depth=3 foi de 0.000005 porcentagem de diabéticos por milhar (normalizado).\n",
            "O RMSE do modelo árvore de decisão usando max_leaf_nodes=None e max_depth=4 foi de 0.000006 porcentagem de diabéticos por milhar (normalizado).\n",
            "O RMSE do modelo árvore de decisão usando max_leaf_nodes=None e max_depth=5 foi de 0.000004 porcentagem de diabéticos por milhar (normalizado).\n",
            "O RMSE do modelo árvore de decisão usando max_leaf_nodes=None e max_depth=6 foi de 0.000004 porcentagem de diabéticos por milhar (normalizado).\n",
            "O RMSE do modelo árvore de decisão usando max_leaf_nodes=None e max_depth=7 foi de 0.000004 porcentagem de diabéticos por milhar (normalizado).\n",
            "O RMSE do modelo árvore de decisão usando max_leaf_nodes=None e max_depth=8 foi de 0.000004 porcentagem de diabéticos por milhar (normalizado).\n",
            "O RMSE do modelo árvore de decisão usando max_leaf_nodes=None e max_depth=9 foi de 0.000004 porcentagem de diabéticos por milhar (normalizado).\n",
            "O RMSE do modelo árvore de decisão usando max_leaf_nodes=None e max_depth=10 foi de 0.000004 porcentagem de diabéticos por milhar (normalizado).\n",
            "O RMSE do modelo árvore de decisão usando max_leaf_nodes=None e max_depth=11 foi de 0.000004 porcentagem de diabéticos por milhar (normalizado).\n",
            "O RMSE do modelo árvore de decisão usando max_leaf_nodes=None e max_depth=12 foi de 0.000004 porcentagem de diabéticos por milhar (normalizado).\n",
            "O RMSE do modelo árvore de decisão usando max_leaf_nodes=None e max_depth=13 foi de 0.000004 porcentagem de diabéticos por milhar (normalizado).\n",
            "O RMSE do modelo árvore de decisão usando max_leaf_nodes=None e max_depth=14 foi de 0.000004 porcentagem de diabéticos por milhar (normalizado).\n",
            "O RMSE do modelo árvore de decisão usando max_leaf_nodes=None e max_depth=15 foi de 0.000004 porcentagem de diabéticos por milhar (normalizado).\n",
            "O RMSE do modelo árvore de decisão usando max_leaf_nodes=None e max_depth=16 foi de 0.000004 porcentagem de diabéticos por milhar (normalizado).\n",
            "O RMSE do modelo árvore de decisão usando max_leaf_nodes=None e max_depth=17 foi de 0.000004 porcentagem de diabéticos por milhar (normalizado).\n",
            "O RMSE do modelo árvore de decisão usando max_leaf_nodes=None e max_depth=18 foi de 0.000004 porcentagem de diabéticos por milhar (normalizado).\n",
            "O RMSE do modelo árvore de decisão usando max_leaf_nodes=None e max_depth=19 foi de 0.000004 porcentagem de diabéticos por milhar (normalizado).\n",
            "O RMSE do modelo árvore de decisão usando max_leaf_nodes=None e max_depth=20 foi de 0.000004 porcentagem de diabéticos por milhar (normalizado).\n",
            "O RMSE do modelo árvore de decisão usando max_leaf_nodes=4 e max_depth=None foi de 0.000008 porcentagem de diabéticos por milhar (normalizado).\n",
            "O RMSE do modelo árvore de decisão usando max_leaf_nodes=4 e max_depth=3 foi de 0.000008 porcentagem de diabéticos por milhar (normalizado).\n",
            "O RMSE do modelo árvore de decisão usando max_leaf_nodes=4 e max_depth=4 foi de 0.000008 porcentagem de diabéticos por milhar (normalizado).\n",
            "O RMSE do modelo árvore de decisão usando max_leaf_nodes=4 e max_depth=5 foi de 0.000008 porcentagem de diabéticos por milhar (normalizado).\n",
            "O RMSE do modelo árvore de decisão usando max_leaf_nodes=4 e max_depth=6 foi de 0.000008 porcentagem de diabéticos por milhar (normalizado).\n",
            "O RMSE do modelo árvore de decisão usando max_leaf_nodes=4 e max_depth=7 foi de 0.000008 porcentagem de diabéticos por milhar (normalizado).\n",
            "O RMSE do modelo árvore de decisão usando max_leaf_nodes=4 e max_depth=8 foi de 0.000008 porcentagem de diabéticos por milhar (normalizado).\n",
            "O RMSE do modelo árvore de decisão usando max_leaf_nodes=4 e max_depth=9 foi de 0.000008 porcentagem de diabéticos por milhar (normalizado).\n",
            "O RMSE do modelo árvore de decisão usando max_leaf_nodes=4 e max_depth=10 foi de 0.000008 porcentagem de diabéticos por milhar (normalizado).\n",
            "O RMSE do modelo árvore de decisão usando max_leaf_nodes=4 e max_depth=11 foi de 0.000008 porcentagem de diabéticos por milhar (normalizado).\n",
            "O RMSE do modelo árvore de decisão usando max_leaf_nodes=4 e max_depth=12 foi de 0.000008 porcentagem de diabéticos por milhar (normalizado).\n",
            "O RMSE do modelo árvore de decisão usando max_leaf_nodes=4 e max_depth=13 foi de 0.000008 porcentagem de diabéticos por milhar (normalizado).\n",
            "O RMSE do modelo árvore de decisão usando max_leaf_nodes=4 e max_depth=14 foi de 0.000008 porcentagem de diabéticos por milhar (normalizado).\n",
            "O RMSE do modelo árvore de decisão usando max_leaf_nodes=4 e max_depth=15 foi de 0.000008 porcentagem de diabéticos por milhar (normalizado).\n",
            "O RMSE do modelo árvore de decisão usando max_leaf_nodes=4 e max_depth=16 foi de 0.000008 porcentagem de diabéticos por milhar (normalizado).\n",
            "O RMSE do modelo árvore de decisão usando max_leaf_nodes=4 e max_depth=17 foi de 0.000008 porcentagem de diabéticos por milhar (normalizado).\n",
            "O RMSE do modelo árvore de decisão usando max_leaf_nodes=4 e max_depth=18 foi de 0.000008 porcentagem de diabéticos por milhar (normalizado).\n",
            "O RMSE do modelo árvore de decisão usando max_leaf_nodes=4 e max_depth=19 foi de 0.000008 porcentagem de diabéticos por milhar (normalizado).\n",
            "O RMSE do modelo árvore de decisão usando max_leaf_nodes=4 e max_depth=20 foi de 0.000008 porcentagem de diabéticos por milhar (normalizado).\n",
            "O RMSE do modelo árvore de decisão usando max_leaf_nodes=30 e max_depth=None foi de 0.000004 porcentagem de diabéticos por milhar (normalizado).\n",
            "O RMSE do modelo árvore de decisão usando max_leaf_nodes=30 e max_depth=3 foi de 0.000006 porcentagem de diabéticos por milhar (normalizado).\n",
            "O RMSE do modelo árvore de decisão usando max_leaf_nodes=30 e max_depth=4 foi de 0.000006 porcentagem de diabéticos por milhar (normalizado).\n",
            "O RMSE do modelo árvore de decisão usando max_leaf_nodes=30 e max_depth=5 foi de 0.000004 porcentagem de diabéticos por milhar (normalizado).\n",
            "O RMSE do modelo árvore de decisão usando max_leaf_nodes=30 e max_depth=6 foi de 0.000004 porcentagem de diabéticos por milhar (normalizado).\n",
            "O RMSE do modelo árvore de decisão usando max_leaf_nodes=30 e max_depth=7 foi de 0.000004 porcentagem de diabéticos por milhar (normalizado).\n",
            "O RMSE do modelo árvore de decisão usando max_leaf_nodes=30 e max_depth=8 foi de 0.000004 porcentagem de diabéticos por milhar (normalizado).\n",
            "O RMSE do modelo árvore de decisão usando max_leaf_nodes=30 e max_depth=9 foi de 0.000004 porcentagem de diabéticos por milhar (normalizado).\n",
            "O RMSE do modelo árvore de decisão usando max_leaf_nodes=30 e max_depth=10 foi de 0.000004 porcentagem de diabéticos por milhar (normalizado).\n",
            "O RMSE do modelo árvore de decisão usando max_leaf_nodes=30 e max_depth=11 foi de 0.000004 porcentagem de diabéticos por milhar (normalizado).\n",
            "O RMSE do modelo árvore de decisão usando max_leaf_nodes=30 e max_depth=12 foi de 0.000004 porcentagem de diabéticos por milhar (normalizado).\n",
            "O RMSE do modelo árvore de decisão usando max_leaf_nodes=30 e max_depth=13 foi de 0.000004 porcentagem de diabéticos por milhar (normalizado).\n",
            "O RMSE do modelo árvore de decisão usando max_leaf_nodes=30 e max_depth=14 foi de 0.000004 porcentagem de diabéticos por milhar (normalizado).\n",
            "O RMSE do modelo árvore de decisão usando max_leaf_nodes=30 e max_depth=15 foi de 0.000004 porcentagem de diabéticos por milhar (normalizado).\n",
            "O RMSE do modelo árvore de decisão usando max_leaf_nodes=30 e max_depth=16 foi de 0.000004 porcentagem de diabéticos por milhar (normalizado).\n",
            "O RMSE do modelo árvore de decisão usando max_leaf_nodes=30 e max_depth=17 foi de 0.000004 porcentagem de diabéticos por milhar (normalizado).\n",
            "O RMSE do modelo árvore de decisão usando max_leaf_nodes=30 e max_depth=18 foi de 0.000004 porcentagem de diabéticos por milhar (normalizado).\n",
            "O RMSE do modelo árvore de decisão usando max_leaf_nodes=30 e max_depth=19 foi de 0.000004 porcentagem de diabéticos por milhar (normalizado).\n",
            "O RMSE do modelo árvore de decisão usando max_leaf_nodes=30 e max_depth=20 foi de 0.000004 porcentagem de diabéticos por milhar (normalizado).\n",
            "O RMSE do modelo árvore de decisão usando max_leaf_nodes=31 e max_depth=None foi de 0.000004 porcentagem de diabéticos por milhar (normalizado).\n",
            "O RMSE do modelo árvore de decisão usando max_leaf_nodes=31 e max_depth=3 foi de 0.000006 porcentagem de diabéticos por milhar (normalizado).\n",
            "O RMSE do modelo árvore de decisão usando max_leaf_nodes=31 e max_depth=4 foi de 0.000006 porcentagem de diabéticos por milhar (normalizado).\n",
            "O RMSE do modelo árvore de decisão usando max_leaf_nodes=31 e max_depth=5 foi de 0.000004 porcentagem de diabéticos por milhar (normalizado).\n",
            "O RMSE do modelo árvore de decisão usando max_leaf_nodes=31 e max_depth=6 foi de 0.000004 porcentagem de diabéticos por milhar (normalizado).\n",
            "O RMSE do modelo árvore de decisão usando max_leaf_nodes=31 e max_depth=7 foi de 0.000004 porcentagem de diabéticos por milhar (normalizado).\n",
            "O RMSE do modelo árvore de decisão usando max_leaf_nodes=31 e max_depth=8 foi de 0.000004 porcentagem de diabéticos por milhar (normalizado).\n",
            "O RMSE do modelo árvore de decisão usando max_leaf_nodes=31 e max_depth=9 foi de 0.000004 porcentagem de diabéticos por milhar (normalizado).\n",
            "O RMSE do modelo árvore de decisão usando max_leaf_nodes=31 e max_depth=10 foi de 0.000004 porcentagem de diabéticos por milhar (normalizado).\n",
            "O RMSE do modelo árvore de decisão usando max_leaf_nodes=31 e max_depth=11 foi de 0.000004 porcentagem de diabéticos por milhar (normalizado).\n",
            "O RMSE do modelo árvore de decisão usando max_leaf_nodes=31 e max_depth=12 foi de 0.000004 porcentagem de diabéticos por milhar (normalizado).\n",
            "O RMSE do modelo árvore de decisão usando max_leaf_nodes=31 e max_depth=13 foi de 0.000004 porcentagem de diabéticos por milhar (normalizado).\n",
            "O RMSE do modelo árvore de decisão usando max_leaf_nodes=31 e max_depth=14 foi de 0.000004 porcentagem de diabéticos por milhar (normalizado).\n",
            "O RMSE do modelo árvore de decisão usando max_leaf_nodes=31 e max_depth=15 foi de 0.000004 porcentagem de diabéticos por milhar (normalizado).\n",
            "O RMSE do modelo árvore de decisão usando max_leaf_nodes=31 e max_depth=16 foi de 0.000004 porcentagem de diabéticos por milhar (normalizado).\n",
            "O RMSE do modelo árvore de decisão usando max_leaf_nodes=31 e max_depth=17 foi de 0.000004 porcentagem de diabéticos por milhar (normalizado).\n",
            "O RMSE do modelo árvore de decisão usando max_leaf_nodes=31 e max_depth=18 foi de 0.000004 porcentagem de diabéticos por milhar (normalizado).\n",
            "O RMSE do modelo árvore de decisão usando max_leaf_nodes=31 e max_depth=19 foi de 0.000004 porcentagem de diabéticos por milhar (normalizado).\n",
            "O RMSE do modelo árvore de decisão usando max_leaf_nodes=31 e max_depth=20 foi de 0.000004 porcentagem de diabéticos por milhar (normalizado).\n",
            "O RMSE do modelo árvore de decisão usando max_leaf_nodes=32 e max_depth=None foi de 0.000004 porcentagem de diabéticos por milhar (normalizado).\n",
            "O RMSE do modelo árvore de decisão usando max_leaf_nodes=32 e max_depth=3 foi de 0.000006 porcentagem de diabéticos por milhar (normalizado).\n",
            "O RMSE do modelo árvore de decisão usando max_leaf_nodes=32 e max_depth=4 foi de 0.000006 porcentagem de diabéticos por milhar (normalizado).\n",
            "O RMSE do modelo árvore de decisão usando max_leaf_nodes=32 e max_depth=5 foi de 0.000004 porcentagem de diabéticos por milhar (normalizado).\n",
            "O RMSE do modelo árvore de decisão usando max_leaf_nodes=32 e max_depth=6 foi de 0.000004 porcentagem de diabéticos por milhar (normalizado).\n",
            "O RMSE do modelo árvore de decisão usando max_leaf_nodes=32 e max_depth=7 foi de 0.000004 porcentagem de diabéticos por milhar (normalizado).\n",
            "O RMSE do modelo árvore de decisão usando max_leaf_nodes=32 e max_depth=8 foi de 0.000004 porcentagem de diabéticos por milhar (normalizado).\n",
            "O RMSE do modelo árvore de decisão usando max_leaf_nodes=32 e max_depth=9 foi de 0.000004 porcentagem de diabéticos por milhar (normalizado).\n",
            "O RMSE do modelo árvore de decisão usando max_leaf_nodes=32 e max_depth=10 foi de 0.000004 porcentagem de diabéticos por milhar (normalizado).\n",
            "O RMSE do modelo árvore de decisão usando max_leaf_nodes=32 e max_depth=11 foi de 0.000004 porcentagem de diabéticos por milhar (normalizado).\n",
            "O RMSE do modelo árvore de decisão usando max_leaf_nodes=32 e max_depth=12 foi de 0.000004 porcentagem de diabéticos por milhar (normalizado).\n",
            "O RMSE do modelo árvore de decisão usando max_leaf_nodes=32 e max_depth=13 foi de 0.000004 porcentagem de diabéticos por milhar (normalizado).\n",
            "O RMSE do modelo árvore de decisão usando max_leaf_nodes=32 e max_depth=14 foi de 0.000004 porcentagem de diabéticos por milhar (normalizado).\n",
            "O RMSE do modelo árvore de decisão usando max_leaf_nodes=32 e max_depth=15 foi de 0.000004 porcentagem de diabéticos por milhar (normalizado).\n",
            "O RMSE do modelo árvore de decisão usando max_leaf_nodes=32 e max_depth=16 foi de 0.000004 porcentagem de diabéticos por milhar (normalizado).\n",
            "O RMSE do modelo árvore de decisão usando max_leaf_nodes=32 e max_depth=17 foi de 0.000004 porcentagem de diabéticos por milhar (normalizado).\n",
            "O RMSE do modelo árvore de decisão usando max_leaf_nodes=32 e max_depth=18 foi de 0.000004 porcentagem de diabéticos por milhar (normalizado).\n",
            "O RMSE do modelo árvore de decisão usando max_leaf_nodes=32 e max_depth=19 foi de 0.000004 porcentagem de diabéticos por milhar (normalizado).\n",
            "O RMSE do modelo árvore de decisão usando max_leaf_nodes=32 e max_depth=20 foi de 0.000004 porcentagem de diabéticos por milhar (normalizado).\n",
            "O RMSE do modelo árvore de decisão usando max_leaf_nodes=33 e max_depth=None foi de 0.000004 porcentagem de diabéticos por milhar (normalizado).\n",
            "O RMSE do modelo árvore de decisão usando max_leaf_nodes=33 e max_depth=3 foi de 0.000006 porcentagem de diabéticos por milhar (normalizado).\n",
            "O RMSE do modelo árvore de decisão usando max_leaf_nodes=33 e max_depth=4 foi de 0.000006 porcentagem de diabéticos por milhar (normalizado).\n",
            "O RMSE do modelo árvore de decisão usando max_leaf_nodes=33 e max_depth=5 foi de 0.000004 porcentagem de diabéticos por milhar (normalizado).\n",
            "O RMSE do modelo árvore de decisão usando max_leaf_nodes=33 e max_depth=6 foi de 0.000004 porcentagem de diabéticos por milhar (normalizado).\n",
            "O RMSE do modelo árvore de decisão usando max_leaf_nodes=33 e max_depth=7 foi de 0.000004 porcentagem de diabéticos por milhar (normalizado).\n",
            "O RMSE do modelo árvore de decisão usando max_leaf_nodes=33 e max_depth=8 foi de 0.000004 porcentagem de diabéticos por milhar (normalizado).\n",
            "O RMSE do modelo árvore de decisão usando max_leaf_nodes=33 e max_depth=9 foi de 0.000004 porcentagem de diabéticos por milhar (normalizado).\n",
            "O RMSE do modelo árvore de decisão usando max_leaf_nodes=33 e max_depth=10 foi de 0.000004 porcentagem de diabéticos por milhar (normalizado).\n",
            "O RMSE do modelo árvore de decisão usando max_leaf_nodes=33 e max_depth=11 foi de 0.000004 porcentagem de diabéticos por milhar (normalizado).\n",
            "O RMSE do modelo árvore de decisão usando max_leaf_nodes=33 e max_depth=12 foi de 0.000004 porcentagem de diabéticos por milhar (normalizado).\n",
            "O RMSE do modelo árvore de decisão usando max_leaf_nodes=33 e max_depth=13 foi de 0.000004 porcentagem de diabéticos por milhar (normalizado).\n",
            "O RMSE do modelo árvore de decisão usando max_leaf_nodes=33 e max_depth=14 foi de 0.000004 porcentagem de diabéticos por milhar (normalizado).\n",
            "O RMSE do modelo árvore de decisão usando max_leaf_nodes=33 e max_depth=15 foi de 0.000004 porcentagem de diabéticos por milhar (normalizado).\n",
            "O RMSE do modelo árvore de decisão usando max_leaf_nodes=33 e max_depth=16 foi de 0.000004 porcentagem de diabéticos por milhar (normalizado).\n",
            "O RMSE do modelo árvore de decisão usando max_leaf_nodes=33 e max_depth=17 foi de 0.000004 porcentagem de diabéticos por milhar (normalizado).\n",
            "O RMSE do modelo árvore de decisão usando max_leaf_nodes=33 e max_depth=18 foi de 0.000004 porcentagem de diabéticos por milhar (normalizado).\n",
            "O RMSE do modelo árvore de decisão usando max_leaf_nodes=33 e max_depth=19 foi de 0.000004 porcentagem de diabéticos por milhar (normalizado).\n",
            "O RMSE do modelo árvore de decisão usando max_leaf_nodes=33 e max_depth=20 foi de 0.000004 porcentagem de diabéticos por milhar (normalizado).\n",
            "O RMSE do modelo árvore de decisão usando max_leaf_nodes=34 e max_depth=None foi de 0.000004 porcentagem de diabéticos por milhar (normalizado).\n",
            "O RMSE do modelo árvore de decisão usando max_leaf_nodes=34 e max_depth=3 foi de 0.000006 porcentagem de diabéticos por milhar (normalizado).\n",
            "O RMSE do modelo árvore de decisão usando max_leaf_nodes=34 e max_depth=4 foi de 0.000006 porcentagem de diabéticos por milhar (normalizado).\n",
            "O RMSE do modelo árvore de decisão usando max_leaf_nodes=34 e max_depth=5 foi de 0.000004 porcentagem de diabéticos por milhar (normalizado).\n",
            "O RMSE do modelo árvore de decisão usando max_leaf_nodes=34 e max_depth=6 foi de 0.000004 porcentagem de diabéticos por milhar (normalizado).\n",
            "O RMSE do modelo árvore de decisão usando max_leaf_nodes=34 e max_depth=7 foi de 0.000004 porcentagem de diabéticos por milhar (normalizado).\n",
            "O RMSE do modelo árvore de decisão usando max_leaf_nodes=34 e max_depth=8 foi de 0.000004 porcentagem de diabéticos por milhar (normalizado).\n",
            "O RMSE do modelo árvore de decisão usando max_leaf_nodes=34 e max_depth=9 foi de 0.000004 porcentagem de diabéticos por milhar (normalizado).\n",
            "O RMSE do modelo árvore de decisão usando max_leaf_nodes=34 e max_depth=10 foi de 0.000004 porcentagem de diabéticos por milhar (normalizado).\n",
            "O RMSE do modelo árvore de decisão usando max_leaf_nodes=34 e max_depth=11 foi de 0.000004 porcentagem de diabéticos por milhar (normalizado).\n",
            "O RMSE do modelo árvore de decisão usando max_leaf_nodes=34 e max_depth=12 foi de 0.000004 porcentagem de diabéticos por milhar (normalizado).\n",
            "O RMSE do modelo árvore de decisão usando max_leaf_nodes=34 e max_depth=13 foi de 0.000004 porcentagem de diabéticos por milhar (normalizado).\n",
            "O RMSE do modelo árvore de decisão usando max_leaf_nodes=34 e max_depth=14 foi de 0.000004 porcentagem de diabéticos por milhar (normalizado).\n",
            "O RMSE do modelo árvore de decisão usando max_leaf_nodes=34 e max_depth=15 foi de 0.000004 porcentagem de diabéticos por milhar (normalizado).\n",
            "O RMSE do modelo árvore de decisão usando max_leaf_nodes=34 e max_depth=16 foi de 0.000004 porcentagem de diabéticos por milhar (normalizado).\n",
            "O RMSE do modelo árvore de decisão usando max_leaf_nodes=34 e max_depth=17 foi de 0.000004 porcentagem de diabéticos por milhar (normalizado).\n",
            "O RMSE do modelo árvore de decisão usando max_leaf_nodes=34 e max_depth=18 foi de 0.000004 porcentagem de diabéticos por milhar (normalizado).\n",
            "O RMSE do modelo árvore de decisão usando max_leaf_nodes=34 e max_depth=19 foi de 0.000004 porcentagem de diabéticos por milhar (normalizado).\n",
            "O RMSE do modelo árvore de decisão usando max_leaf_nodes=34 e max_depth=20 foi de 0.000004 porcentagem de diabéticos por milhar (normalizado).\n",
            "O RMSE do modelo árvore de decisão usando max_leaf_nodes=35 e max_depth=None foi de 0.000004 porcentagem de diabéticos por milhar (normalizado).\n",
            "O RMSE do modelo árvore de decisão usando max_leaf_nodes=35 e max_depth=3 foi de 0.000006 porcentagem de diabéticos por milhar (normalizado).\n",
            "O RMSE do modelo árvore de decisão usando max_leaf_nodes=35 e max_depth=4 foi de 0.000006 porcentagem de diabéticos por milhar (normalizado).\n",
            "O RMSE do modelo árvore de decisão usando max_leaf_nodes=35 e max_depth=5 foi de 0.000004 porcentagem de diabéticos por milhar (normalizado).\n",
            "O RMSE do modelo árvore de decisão usando max_leaf_nodes=35 e max_depth=6 foi de 0.000004 porcentagem de diabéticos por milhar (normalizado).\n",
            "O RMSE do modelo árvore de decisão usando max_leaf_nodes=35 e max_depth=7 foi de 0.000004 porcentagem de diabéticos por milhar (normalizado).\n",
            "O RMSE do modelo árvore de decisão usando max_leaf_nodes=35 e max_depth=8 foi de 0.000004 porcentagem de diabéticos por milhar (normalizado).\n",
            "O RMSE do modelo árvore de decisão usando max_leaf_nodes=35 e max_depth=9 foi de 0.000004 porcentagem de diabéticos por milhar (normalizado).\n",
            "O RMSE do modelo árvore de decisão usando max_leaf_nodes=35 e max_depth=10 foi de 0.000004 porcentagem de diabéticos por milhar (normalizado).\n",
            "O RMSE do modelo árvore de decisão usando max_leaf_nodes=35 e max_depth=11 foi de 0.000004 porcentagem de diabéticos por milhar (normalizado).\n",
            "O RMSE do modelo árvore de decisão usando max_leaf_nodes=35 e max_depth=12 foi de 0.000004 porcentagem de diabéticos por milhar (normalizado).\n",
            "O RMSE do modelo árvore de decisão usando max_leaf_nodes=35 e max_depth=13 foi de 0.000004 porcentagem de diabéticos por milhar (normalizado).\n",
            "O RMSE do modelo árvore de decisão usando max_leaf_nodes=35 e max_depth=14 foi de 0.000004 porcentagem de diabéticos por milhar (normalizado).\n",
            "O RMSE do modelo árvore de decisão usando max_leaf_nodes=35 e max_depth=15 foi de 0.000004 porcentagem de diabéticos por milhar (normalizado).\n",
            "O RMSE do modelo árvore de decisão usando max_leaf_nodes=35 e max_depth=16 foi de 0.000004 porcentagem de diabéticos por milhar (normalizado).\n",
            "O RMSE do modelo árvore de decisão usando max_leaf_nodes=35 e max_depth=17 foi de 0.000004 porcentagem de diabéticos por milhar (normalizado).\n",
            "O RMSE do modelo árvore de decisão usando max_leaf_nodes=35 e max_depth=18 foi de 0.000004 porcentagem de diabéticos por milhar (normalizado).\n",
            "O RMSE do modelo árvore de decisão usando max_leaf_nodes=35 e max_depth=19 foi de 0.000004 porcentagem de diabéticos por milhar (normalizado).\n",
            "O RMSE do modelo árvore de decisão usando max_leaf_nodes=35 e max_depth=20 foi de 0.000004 porcentagem de diabéticos por milhar (normalizado).\n",
            "O RMSE do modelo árvore de decisão usando max_leaf_nodes=36 e max_depth=None foi de 0.000004 porcentagem de diabéticos por milhar (normalizado).\n",
            "O RMSE do modelo árvore de decisão usando max_leaf_nodes=36 e max_depth=3 foi de 0.000006 porcentagem de diabéticos por milhar (normalizado).\n",
            "O RMSE do modelo árvore de decisão usando max_leaf_nodes=36 e max_depth=4 foi de 0.000006 porcentagem de diabéticos por milhar (normalizado).\n",
            "O RMSE do modelo árvore de decisão usando max_leaf_nodes=36 e max_depth=5 foi de 0.000004 porcentagem de diabéticos por milhar (normalizado).\n",
            "O RMSE do modelo árvore de decisão usando max_leaf_nodes=36 e max_depth=6 foi de 0.000004 porcentagem de diabéticos por milhar (normalizado).\n",
            "O RMSE do modelo árvore de decisão usando max_leaf_nodes=36 e max_depth=7 foi de 0.000004 porcentagem de diabéticos por milhar (normalizado).\n",
            "O RMSE do modelo árvore de decisão usando max_leaf_nodes=36 e max_depth=8 foi de 0.000004 porcentagem de diabéticos por milhar (normalizado).\n",
            "O RMSE do modelo árvore de decisão usando max_leaf_nodes=36 e max_depth=9 foi de 0.000004 porcentagem de diabéticos por milhar (normalizado).\n",
            "O RMSE do modelo árvore de decisão usando max_leaf_nodes=36 e max_depth=10 foi de 0.000004 porcentagem de diabéticos por milhar (normalizado).\n",
            "O RMSE do modelo árvore de decisão usando max_leaf_nodes=36 e max_depth=11 foi de 0.000004 porcentagem de diabéticos por milhar (normalizado).\n",
            "O RMSE do modelo árvore de decisão usando max_leaf_nodes=36 e max_depth=12 foi de 0.000004 porcentagem de diabéticos por milhar (normalizado).\n",
            "O RMSE do modelo árvore de decisão usando max_leaf_nodes=36 e max_depth=13 foi de 0.000004 porcentagem de diabéticos por milhar (normalizado).\n",
            "O RMSE do modelo árvore de decisão usando max_leaf_nodes=36 e max_depth=14 foi de 0.000004 porcentagem de diabéticos por milhar (normalizado).\n",
            "O RMSE do modelo árvore de decisão usando max_leaf_nodes=36 e max_depth=15 foi de 0.000004 porcentagem de diabéticos por milhar (normalizado).\n",
            "O RMSE do modelo árvore de decisão usando max_leaf_nodes=36 e max_depth=16 foi de 0.000004 porcentagem de diabéticos por milhar (normalizado).\n",
            "O RMSE do modelo árvore de decisão usando max_leaf_nodes=36 e max_depth=17 foi de 0.000004 porcentagem de diabéticos por milhar (normalizado).\n",
            "O RMSE do modelo árvore de decisão usando max_leaf_nodes=36 e max_depth=18 foi de 0.000004 porcentagem de diabéticos por milhar (normalizado).\n",
            "O RMSE do modelo árvore de decisão usando max_leaf_nodes=36 e max_depth=19 foi de 0.000004 porcentagem de diabéticos por milhar (normalizado).\n",
            "O RMSE do modelo árvore de decisão usando max_leaf_nodes=36 e max_depth=20 foi de 0.000004 porcentagem de diabéticos por milhar (normalizado).\n",
            "O RMSE do modelo árvore de decisão usando max_leaf_nodes=37 e max_depth=None foi de 0.000004 porcentagem de diabéticos por milhar (normalizado).\n",
            "O RMSE do modelo árvore de decisão usando max_leaf_nodes=37 e max_depth=3 foi de 0.000006 porcentagem de diabéticos por milhar (normalizado).\n",
            "O RMSE do modelo árvore de decisão usando max_leaf_nodes=37 e max_depth=4 foi de 0.000006 porcentagem de diabéticos por milhar (normalizado).\n",
            "O RMSE do modelo árvore de decisão usando max_leaf_nodes=37 e max_depth=5 foi de 0.000004 porcentagem de diabéticos por milhar (normalizado).\n",
            "O RMSE do modelo árvore de decisão usando max_leaf_nodes=37 e max_depth=6 foi de 0.000004 porcentagem de diabéticos por milhar (normalizado).\n",
            "O RMSE do modelo árvore de decisão usando max_leaf_nodes=37 e max_depth=7 foi de 0.000004 porcentagem de diabéticos por milhar (normalizado).\n",
            "O RMSE do modelo árvore de decisão usando max_leaf_nodes=37 e max_depth=8 foi de 0.000004 porcentagem de diabéticos por milhar (normalizado).\n",
            "O RMSE do modelo árvore de decisão usando max_leaf_nodes=37 e max_depth=9 foi de 0.000004 porcentagem de diabéticos por milhar (normalizado).\n",
            "O RMSE do modelo árvore de decisão usando max_leaf_nodes=37 e max_depth=10 foi de 0.000004 porcentagem de diabéticos por milhar (normalizado).\n",
            "O RMSE do modelo árvore de decisão usando max_leaf_nodes=37 e max_depth=11 foi de 0.000004 porcentagem de diabéticos por milhar (normalizado).\n",
            "O RMSE do modelo árvore de decisão usando max_leaf_nodes=37 e max_depth=12 foi de 0.000004 porcentagem de diabéticos por milhar (normalizado).\n",
            "O RMSE do modelo árvore de decisão usando max_leaf_nodes=37 e max_depth=13 foi de 0.000004 porcentagem de diabéticos por milhar (normalizado).\n",
            "O RMSE do modelo árvore de decisão usando max_leaf_nodes=37 e max_depth=14 foi de 0.000004 porcentagem de diabéticos por milhar (normalizado).\n",
            "O RMSE do modelo árvore de decisão usando max_leaf_nodes=37 e max_depth=15 foi de 0.000004 porcentagem de diabéticos por milhar (normalizado).\n",
            "O RMSE do modelo árvore de decisão usando max_leaf_nodes=37 e max_depth=16 foi de 0.000004 porcentagem de diabéticos por milhar (normalizado).\n",
            "O RMSE do modelo árvore de decisão usando max_leaf_nodes=37 e max_depth=17 foi de 0.000004 porcentagem de diabéticos por milhar (normalizado).\n",
            "O RMSE do modelo árvore de decisão usando max_leaf_nodes=37 e max_depth=18 foi de 0.000004 porcentagem de diabéticos por milhar (normalizado).\n",
            "O RMSE do modelo árvore de decisão usando max_leaf_nodes=37 e max_depth=19 foi de 0.000004 porcentagem de diabéticos por milhar (normalizado).\n",
            "O RMSE do modelo árvore de decisão usando max_leaf_nodes=37 e max_depth=20 foi de 0.000004 porcentagem de diabéticos por milhar (normalizado).\n",
            "O RMSE do modelo árvore de decisão usando max_leaf_nodes=38 e max_depth=None foi de 0.000004 porcentagem de diabéticos por milhar (normalizado).\n",
            "O RMSE do modelo árvore de decisão usando max_leaf_nodes=38 e max_depth=3 foi de 0.000006 porcentagem de diabéticos por milhar (normalizado).\n",
            "O RMSE do modelo árvore de decisão usando max_leaf_nodes=38 e max_depth=4 foi de 0.000006 porcentagem de diabéticos por milhar (normalizado).\n",
            "O RMSE do modelo árvore de decisão usando max_leaf_nodes=38 e max_depth=5 foi de 0.000004 porcentagem de diabéticos por milhar (normalizado).\n",
            "O RMSE do modelo árvore de decisão usando max_leaf_nodes=38 e max_depth=6 foi de 0.000004 porcentagem de diabéticos por milhar (normalizado).\n",
            "O RMSE do modelo árvore de decisão usando max_leaf_nodes=38 e max_depth=7 foi de 0.000004 porcentagem de diabéticos por milhar (normalizado).\n",
            "O RMSE do modelo árvore de decisão usando max_leaf_nodes=38 e max_depth=8 foi de 0.000004 porcentagem de diabéticos por milhar (normalizado).\n",
            "O RMSE do modelo árvore de decisão usando max_leaf_nodes=38 e max_depth=9 foi de 0.000004 porcentagem de diabéticos por milhar (normalizado).\n",
            "O RMSE do modelo árvore de decisão usando max_leaf_nodes=38 e max_depth=10 foi de 0.000004 porcentagem de diabéticos por milhar (normalizado).\n",
            "O RMSE do modelo árvore de decisão usando max_leaf_nodes=38 e max_depth=11 foi de 0.000004 porcentagem de diabéticos por milhar (normalizado).\n",
            "O RMSE do modelo árvore de decisão usando max_leaf_nodes=38 e max_depth=12 foi de 0.000004 porcentagem de diabéticos por milhar (normalizado).\n",
            "O RMSE do modelo árvore de decisão usando max_leaf_nodes=38 e max_depth=13 foi de 0.000004 porcentagem de diabéticos por milhar (normalizado).\n",
            "O RMSE do modelo árvore de decisão usando max_leaf_nodes=38 e max_depth=14 foi de 0.000004 porcentagem de diabéticos por milhar (normalizado).\n",
            "O RMSE do modelo árvore de decisão usando max_leaf_nodes=38 e max_depth=15 foi de 0.000004 porcentagem de diabéticos por milhar (normalizado).\n",
            "O RMSE do modelo árvore de decisão usando max_leaf_nodes=38 e max_depth=16 foi de 0.000004 porcentagem de diabéticos por milhar (normalizado).\n",
            "O RMSE do modelo árvore de decisão usando max_leaf_nodes=38 e max_depth=17 foi de 0.000004 porcentagem de diabéticos por milhar (normalizado).\n",
            "O RMSE do modelo árvore de decisão usando max_leaf_nodes=38 e max_depth=18 foi de 0.000004 porcentagem de diabéticos por milhar (normalizado).\n",
            "O RMSE do modelo árvore de decisão usando max_leaf_nodes=38 e max_depth=19 foi de 0.000004 porcentagem de diabéticos por milhar (normalizado).\n",
            "O RMSE do modelo árvore de decisão usando max_leaf_nodes=38 e max_depth=20 foi de 0.000004 porcentagem de diabéticos por milhar (normalizado).\n",
            "O RMSE do modelo árvore de decisão usando max_leaf_nodes=39 e max_depth=None foi de 0.000004 porcentagem de diabéticos por milhar (normalizado).\n",
            "O RMSE do modelo árvore de decisão usando max_leaf_nodes=39 e max_depth=3 foi de 0.000006 porcentagem de diabéticos por milhar (normalizado).\n",
            "O RMSE do modelo árvore de decisão usando max_leaf_nodes=39 e max_depth=4 foi de 0.000006 porcentagem de diabéticos por milhar (normalizado).\n",
            "O RMSE do modelo árvore de decisão usando max_leaf_nodes=39 e max_depth=5 foi de 0.000004 porcentagem de diabéticos por milhar (normalizado).\n",
            "O RMSE do modelo árvore de decisão usando max_leaf_nodes=39 e max_depth=6 foi de 0.000004 porcentagem de diabéticos por milhar (normalizado).\n",
            "O RMSE do modelo árvore de decisão usando max_leaf_nodes=39 e max_depth=7 foi de 0.000004 porcentagem de diabéticos por milhar (normalizado).\n",
            "O RMSE do modelo árvore de decisão usando max_leaf_nodes=39 e max_depth=8 foi de 0.000004 porcentagem de diabéticos por milhar (normalizado).\n",
            "O RMSE do modelo árvore de decisão usando max_leaf_nodes=39 e max_depth=9 foi de 0.000004 porcentagem de diabéticos por milhar (normalizado).\n",
            "O RMSE do modelo árvore de decisão usando max_leaf_nodes=39 e max_depth=10 foi de 0.000004 porcentagem de diabéticos por milhar (normalizado).\n",
            "O RMSE do modelo árvore de decisão usando max_leaf_nodes=39 e max_depth=11 foi de 0.000004 porcentagem de diabéticos por milhar (normalizado).\n",
            "O RMSE do modelo árvore de decisão usando max_leaf_nodes=39 e max_depth=12 foi de 0.000004 porcentagem de diabéticos por milhar (normalizado).\n",
            "O RMSE do modelo árvore de decisão usando max_leaf_nodes=39 e max_depth=13 foi de 0.000004 porcentagem de diabéticos por milhar (normalizado).\n",
            "O RMSE do modelo árvore de decisão usando max_leaf_nodes=39 e max_depth=14 foi de 0.000004 porcentagem de diabéticos por milhar (normalizado).\n",
            "O RMSE do modelo árvore de decisão usando max_leaf_nodes=39 e max_depth=15 foi de 0.000004 porcentagem de diabéticos por milhar (normalizado).\n",
            "O RMSE do modelo árvore de decisão usando max_leaf_nodes=39 e max_depth=16 foi de 0.000004 porcentagem de diabéticos por milhar (normalizado).\n",
            "O RMSE do modelo árvore de decisão usando max_leaf_nodes=39 e max_depth=17 foi de 0.000004 porcentagem de diabéticos por milhar (normalizado).\n",
            "O RMSE do modelo árvore de decisão usando max_leaf_nodes=39 e max_depth=18 foi de 0.000004 porcentagem de diabéticos por milhar (normalizado).\n",
            "O RMSE do modelo árvore de decisão usando max_leaf_nodes=39 e max_depth=19 foi de 0.000004 porcentagem de diabéticos por milhar (normalizado).\n",
            "O RMSE do modelo árvore de decisão usando max_leaf_nodes=39 e max_depth=20 foi de 0.000004 porcentagem de diabéticos por milhar (normalizado).\n",
            "O RMSE do modelo árvore de decisão usando max_leaf_nodes=40 e max_depth=None foi de 0.000004 porcentagem de diabéticos por milhar (normalizado).\n",
            "O RMSE do modelo árvore de decisão usando max_leaf_nodes=40 e max_depth=3 foi de 0.000006 porcentagem de diabéticos por milhar (normalizado).\n",
            "O RMSE do modelo árvore de decisão usando max_leaf_nodes=40 e max_depth=4 foi de 0.000006 porcentagem de diabéticos por milhar (normalizado).\n",
            "O RMSE do modelo árvore de decisão usando max_leaf_nodes=40 e max_depth=5 foi de 0.000004 porcentagem de diabéticos por milhar (normalizado).\n",
            "O RMSE do modelo árvore de decisão usando max_leaf_nodes=40 e max_depth=6 foi de 0.000004 porcentagem de diabéticos por milhar (normalizado).\n",
            "O RMSE do modelo árvore de decisão usando max_leaf_nodes=40 e max_depth=7 foi de 0.000004 porcentagem de diabéticos por milhar (normalizado).\n",
            "O RMSE do modelo árvore de decisão usando max_leaf_nodes=40 e max_depth=8 foi de 0.000004 porcentagem de diabéticos por milhar (normalizado).\n",
            "O RMSE do modelo árvore de decisão usando max_leaf_nodes=40 e max_depth=9 foi de 0.000004 porcentagem de diabéticos por milhar (normalizado).\n",
            "O RMSE do modelo árvore de decisão usando max_leaf_nodes=40 e max_depth=10 foi de 0.000004 porcentagem de diabéticos por milhar (normalizado).\n",
            "O RMSE do modelo árvore de decisão usando max_leaf_nodes=40 e max_depth=11 foi de 0.000004 porcentagem de diabéticos por milhar (normalizado).\n",
            "O RMSE do modelo árvore de decisão usando max_leaf_nodes=40 e max_depth=12 foi de 0.000004 porcentagem de diabéticos por milhar (normalizado).\n",
            "O RMSE do modelo árvore de decisão usando max_leaf_nodes=40 e max_depth=13 foi de 0.000004 porcentagem de diabéticos por milhar (normalizado).\n",
            "O RMSE do modelo árvore de decisão usando max_leaf_nodes=40 e max_depth=14 foi de 0.000004 porcentagem de diabéticos por milhar (normalizado).\n",
            "O RMSE do modelo árvore de decisão usando max_leaf_nodes=40 e max_depth=15 foi de 0.000004 porcentagem de diabéticos por milhar (normalizado).\n",
            "O RMSE do modelo árvore de decisão usando max_leaf_nodes=40 e max_depth=16 foi de 0.000004 porcentagem de diabéticos por milhar (normalizado).\n",
            "O RMSE do modelo árvore de decisão usando max_leaf_nodes=40 e max_depth=17 foi de 0.000004 porcentagem de diabéticos por milhar (normalizado).\n",
            "O RMSE do modelo árvore de decisão usando max_leaf_nodes=40 e max_depth=18 foi de 0.000004 porcentagem de diabéticos por milhar (normalizado).\n",
            "O RMSE do modelo árvore de decisão usando max_leaf_nodes=40 e max_depth=19 foi de 0.000004 porcentagem de diabéticos por milhar (normalizado).\n",
            "O RMSE do modelo árvore de decisão usando max_leaf_nodes=40 e max_depth=20 foi de 0.000004 porcentagem de diabéticos por milhar (normalizado).\n",
            "O RMSE do modelo árvore de decisão usando max_leaf_nodes=41 e max_depth=None foi de 0.000004 porcentagem de diabéticos por milhar (normalizado).\n",
            "O RMSE do modelo árvore de decisão usando max_leaf_nodes=41 e max_depth=3 foi de 0.000006 porcentagem de diabéticos por milhar (normalizado).\n",
            "O RMSE do modelo árvore de decisão usando max_leaf_nodes=41 e max_depth=4 foi de 0.000006 porcentagem de diabéticos por milhar (normalizado).\n",
            "O RMSE do modelo árvore de decisão usando max_leaf_nodes=41 e max_depth=5 foi de 0.000004 porcentagem de diabéticos por milhar (normalizado).\n",
            "O RMSE do modelo árvore de decisão usando max_leaf_nodes=41 e max_depth=6 foi de 0.000004 porcentagem de diabéticos por milhar (normalizado).\n",
            "O RMSE do modelo árvore de decisão usando max_leaf_nodes=41 e max_depth=7 foi de 0.000004 porcentagem de diabéticos por milhar (normalizado).\n",
            "O RMSE do modelo árvore de decisão usando max_leaf_nodes=41 e max_depth=8 foi de 0.000004 porcentagem de diabéticos por milhar (normalizado).\n",
            "O RMSE do modelo árvore de decisão usando max_leaf_nodes=41 e max_depth=9 foi de 0.000004 porcentagem de diabéticos por milhar (normalizado).\n",
            "O RMSE do modelo árvore de decisão usando max_leaf_nodes=41 e max_depth=10 foi de 0.000004 porcentagem de diabéticos por milhar (normalizado).\n",
            "O RMSE do modelo árvore de decisão usando max_leaf_nodes=41 e max_depth=11 foi de 0.000004 porcentagem de diabéticos por milhar (normalizado).\n",
            "O RMSE do modelo árvore de decisão usando max_leaf_nodes=41 e max_depth=12 foi de 0.000004 porcentagem de diabéticos por milhar (normalizado).\n",
            "O RMSE do modelo árvore de decisão usando max_leaf_nodes=41 e max_depth=13 foi de 0.000004 porcentagem de diabéticos por milhar (normalizado).\n",
            "O RMSE do modelo árvore de decisão usando max_leaf_nodes=41 e max_depth=14 foi de 0.000004 porcentagem de diabéticos por milhar (normalizado).\n",
            "O RMSE do modelo árvore de decisão usando max_leaf_nodes=41 e max_depth=15 foi de 0.000004 porcentagem de diabéticos por milhar (normalizado).\n",
            "O RMSE do modelo árvore de decisão usando max_leaf_nodes=41 e max_depth=16 foi de 0.000004 porcentagem de diabéticos por milhar (normalizado).\n",
            "O RMSE do modelo árvore de decisão usando max_leaf_nodes=41 e max_depth=17 foi de 0.000004 porcentagem de diabéticos por milhar (normalizado).\n",
            "O RMSE do modelo árvore de decisão usando max_leaf_nodes=41 e max_depth=18 foi de 0.000004 porcentagem de diabéticos por milhar (normalizado).\n",
            "O RMSE do modelo árvore de decisão usando max_leaf_nodes=41 e max_depth=19 foi de 0.000004 porcentagem de diabéticos por milhar (normalizado).\n",
            "O RMSE do modelo árvore de decisão usando max_leaf_nodes=41 e max_depth=20 foi de 0.000004 porcentagem de diabéticos por milhar (normalizado).\n",
            "O RMSE do modelo árvore de decisão usando max_leaf_nodes=42 e max_depth=None foi de 0.000004 porcentagem de diabéticos por milhar (normalizado).\n",
            "O RMSE do modelo árvore de decisão usando max_leaf_nodes=42 e max_depth=3 foi de 0.000006 porcentagem de diabéticos por milhar (normalizado).\n",
            "O RMSE do modelo árvore de decisão usando max_leaf_nodes=42 e max_depth=4 foi de 0.000006 porcentagem de diabéticos por milhar (normalizado).\n",
            "O RMSE do modelo árvore de decisão usando max_leaf_nodes=42 e max_depth=5 foi de 0.000004 porcentagem de diabéticos por milhar (normalizado).\n",
            "O RMSE do modelo árvore de decisão usando max_leaf_nodes=42 e max_depth=6 foi de 0.000004 porcentagem de diabéticos por milhar (normalizado).\n",
            "O RMSE do modelo árvore de decisão usando max_leaf_nodes=42 e max_depth=7 foi de 0.000004 porcentagem de diabéticos por milhar (normalizado).\n",
            "O RMSE do modelo árvore de decisão usando max_leaf_nodes=42 e max_depth=8 foi de 0.000004 porcentagem de diabéticos por milhar (normalizado).\n",
            "O RMSE do modelo árvore de decisão usando max_leaf_nodes=42 e max_depth=9 foi de 0.000004 porcentagem de diabéticos por milhar (normalizado).\n",
            "O RMSE do modelo árvore de decisão usando max_leaf_nodes=42 e max_depth=10 foi de 0.000004 porcentagem de diabéticos por milhar (normalizado).\n",
            "O RMSE do modelo árvore de decisão usando max_leaf_nodes=42 e max_depth=11 foi de 0.000004 porcentagem de diabéticos por milhar (normalizado).\n",
            "O RMSE do modelo árvore de decisão usando max_leaf_nodes=42 e max_depth=12 foi de 0.000004 porcentagem de diabéticos por milhar (normalizado).\n",
            "O RMSE do modelo árvore de decisão usando max_leaf_nodes=42 e max_depth=13 foi de 0.000004 porcentagem de diabéticos por milhar (normalizado).\n",
            "O RMSE do modelo árvore de decisão usando max_leaf_nodes=42 e max_depth=14 foi de 0.000004 porcentagem de diabéticos por milhar (normalizado).\n",
            "O RMSE do modelo árvore de decisão usando max_leaf_nodes=42 e max_depth=15 foi de 0.000004 porcentagem de diabéticos por milhar (normalizado).\n",
            "O RMSE do modelo árvore de decisão usando max_leaf_nodes=42 e max_depth=16 foi de 0.000004 porcentagem de diabéticos por milhar (normalizado).\n",
            "O RMSE do modelo árvore de decisão usando max_leaf_nodes=42 e max_depth=17 foi de 0.000004 porcentagem de diabéticos por milhar (normalizado).\n",
            "O RMSE do modelo árvore de decisão usando max_leaf_nodes=42 e max_depth=18 foi de 0.000004 porcentagem de diabéticos por milhar (normalizado).\n",
            "O RMSE do modelo árvore de decisão usando max_leaf_nodes=42 e max_depth=19 foi de 0.000004 porcentagem de diabéticos por milhar (normalizado).\n",
            "O RMSE do modelo árvore de decisão usando max_leaf_nodes=42 e max_depth=20 foi de 0.000004 porcentagem de diabéticos por milhar (normalizado).\n",
            "O RMSE do modelo árvore de decisão usando max_leaf_nodes=43 e max_depth=None foi de 0.000004 porcentagem de diabéticos por milhar (normalizado).\n",
            "O RMSE do modelo árvore de decisão usando max_leaf_nodes=43 e max_depth=3 foi de 0.000006 porcentagem de diabéticos por milhar (normalizado).\n",
            "O RMSE do modelo árvore de decisão usando max_leaf_nodes=43 e max_depth=4 foi de 0.000006 porcentagem de diabéticos por milhar (normalizado).\n",
            "O RMSE do modelo árvore de decisão usando max_leaf_nodes=43 e max_depth=5 foi de 0.000004 porcentagem de diabéticos por milhar (normalizado).\n",
            "O RMSE do modelo árvore de decisão usando max_leaf_nodes=43 e max_depth=6 foi de 0.000004 porcentagem de diabéticos por milhar (normalizado).\n",
            "O RMSE do modelo árvore de decisão usando max_leaf_nodes=43 e max_depth=7 foi de 0.000004 porcentagem de diabéticos por milhar (normalizado).\n",
            "O RMSE do modelo árvore de decisão usando max_leaf_nodes=43 e max_depth=8 foi de 0.000004 porcentagem de diabéticos por milhar (normalizado).\n",
            "O RMSE do modelo árvore de decisão usando max_leaf_nodes=43 e max_depth=9 foi de 0.000004 porcentagem de diabéticos por milhar (normalizado).\n",
            "O RMSE do modelo árvore de decisão usando max_leaf_nodes=43 e max_depth=10 foi de 0.000004 porcentagem de diabéticos por milhar (normalizado).\n",
            "O RMSE do modelo árvore de decisão usando max_leaf_nodes=43 e max_depth=11 foi de 0.000004 porcentagem de diabéticos por milhar (normalizado).\n",
            "O RMSE do modelo árvore de decisão usando max_leaf_nodes=43 e max_depth=12 foi de 0.000004 porcentagem de diabéticos por milhar (normalizado).\n",
            "O RMSE do modelo árvore de decisão usando max_leaf_nodes=43 e max_depth=13 foi de 0.000004 porcentagem de diabéticos por milhar (normalizado).\n",
            "O RMSE do modelo árvore de decisão usando max_leaf_nodes=43 e max_depth=14 foi de 0.000004 porcentagem de diabéticos por milhar (normalizado).\n",
            "O RMSE do modelo árvore de decisão usando max_leaf_nodes=43 e max_depth=15 foi de 0.000004 porcentagem de diabéticos por milhar (normalizado).\n",
            "O RMSE do modelo árvore de decisão usando max_leaf_nodes=43 e max_depth=16 foi de 0.000004 porcentagem de diabéticos por milhar (normalizado).\n",
            "O RMSE do modelo árvore de decisão usando max_leaf_nodes=43 e max_depth=17 foi de 0.000004 porcentagem de diabéticos por milhar (normalizado).\n",
            "O RMSE do modelo árvore de decisão usando max_leaf_nodes=43 e max_depth=18 foi de 0.000004 porcentagem de diabéticos por milhar (normalizado).\n",
            "O RMSE do modelo árvore de decisão usando max_leaf_nodes=43 e max_depth=19 foi de 0.000004 porcentagem de diabéticos por milhar (normalizado).\n",
            "O RMSE do modelo árvore de decisão usando max_leaf_nodes=43 e max_depth=20 foi de 0.000004 porcentagem de diabéticos por milhar (normalizado).\n",
            "O RMSE do modelo árvore de decisão usando max_leaf_nodes=44 e max_depth=None foi de 0.000004 porcentagem de diabéticos por milhar (normalizado).\n",
            "O RMSE do modelo árvore de decisão usando max_leaf_nodes=44 e max_depth=3 foi de 0.000006 porcentagem de diabéticos por milhar (normalizado).\n",
            "O RMSE do modelo árvore de decisão usando max_leaf_nodes=44 e max_depth=4 foi de 0.000006 porcentagem de diabéticos por milhar (normalizado).\n",
            "O RMSE do modelo árvore de decisão usando max_leaf_nodes=44 e max_depth=5 foi de 0.000004 porcentagem de diabéticos por milhar (normalizado).\n",
            "O RMSE do modelo árvore de decisão usando max_leaf_nodes=44 e max_depth=6 foi de 0.000004 porcentagem de diabéticos por milhar (normalizado).\n",
            "O RMSE do modelo árvore de decisão usando max_leaf_nodes=44 e max_depth=7 foi de 0.000004 porcentagem de diabéticos por milhar (normalizado).\n",
            "O RMSE do modelo árvore de decisão usando max_leaf_nodes=44 e max_depth=8 foi de 0.000004 porcentagem de diabéticos por milhar (normalizado).\n",
            "O RMSE do modelo árvore de decisão usando max_leaf_nodes=44 e max_depth=9 foi de 0.000004 porcentagem de diabéticos por milhar (normalizado).\n",
            "O RMSE do modelo árvore de decisão usando max_leaf_nodes=44 e max_depth=10 foi de 0.000004 porcentagem de diabéticos por milhar (normalizado).\n",
            "O RMSE do modelo árvore de decisão usando max_leaf_nodes=44 e max_depth=11 foi de 0.000004 porcentagem de diabéticos por milhar (normalizado).\n",
            "O RMSE do modelo árvore de decisão usando max_leaf_nodes=44 e max_depth=12 foi de 0.000004 porcentagem de diabéticos por milhar (normalizado).\n",
            "O RMSE do modelo árvore de decisão usando max_leaf_nodes=44 e max_depth=13 foi de 0.000004 porcentagem de diabéticos por milhar (normalizado).\n",
            "O RMSE do modelo árvore de decisão usando max_leaf_nodes=44 e max_depth=14 foi de 0.000004 porcentagem de diabéticos por milhar (normalizado).\n",
            "O RMSE do modelo árvore de decisão usando max_leaf_nodes=44 e max_depth=15 foi de 0.000004 porcentagem de diabéticos por milhar (normalizado).\n",
            "O RMSE do modelo árvore de decisão usando max_leaf_nodes=44 e max_depth=16 foi de 0.000004 porcentagem de diabéticos por milhar (normalizado).\n",
            "O RMSE do modelo árvore de decisão usando max_leaf_nodes=44 e max_depth=17 foi de 0.000004 porcentagem de diabéticos por milhar (normalizado).\n",
            "O RMSE do modelo árvore de decisão usando max_leaf_nodes=44 e max_depth=18 foi de 0.000004 porcentagem de diabéticos por milhar (normalizado).\n",
            "O RMSE do modelo árvore de decisão usando max_leaf_nodes=44 e max_depth=19 foi de 0.000004 porcentagem de diabéticos por milhar (normalizado).\n",
            "O RMSE do modelo árvore de decisão usando max_leaf_nodes=44 e max_depth=20 foi de 0.000004 porcentagem de diabéticos por milhar (normalizado).\n",
            "O RMSE do modelo árvore de decisão usando max_leaf_nodes=45 e max_depth=None foi de 0.000004 porcentagem de diabéticos por milhar (normalizado).\n",
            "O RMSE do modelo árvore de decisão usando max_leaf_nodes=45 e max_depth=3 foi de 0.000006 porcentagem de diabéticos por milhar (normalizado).\n",
            "O RMSE do modelo árvore de decisão usando max_leaf_nodes=45 e max_depth=4 foi de 0.000006 porcentagem de diabéticos por milhar (normalizado).\n",
            "O RMSE do modelo árvore de decisão usando max_leaf_nodes=45 e max_depth=5 foi de 0.000004 porcentagem de diabéticos por milhar (normalizado).\n",
            "O RMSE do modelo árvore de decisão usando max_leaf_nodes=45 e max_depth=6 foi de 0.000004 porcentagem de diabéticos por milhar (normalizado).\n",
            "O RMSE do modelo árvore de decisão usando max_leaf_nodes=45 e max_depth=7 foi de 0.000004 porcentagem de diabéticos por milhar (normalizado).\n",
            "O RMSE do modelo árvore de decisão usando max_leaf_nodes=45 e max_depth=8 foi de 0.000004 porcentagem de diabéticos por milhar (normalizado).\n",
            "O RMSE do modelo árvore de decisão usando max_leaf_nodes=45 e max_depth=9 foi de 0.000004 porcentagem de diabéticos por milhar (normalizado).\n",
            "O RMSE do modelo árvore de decisão usando max_leaf_nodes=45 e max_depth=10 foi de 0.000004 porcentagem de diabéticos por milhar (normalizado).\n",
            "O RMSE do modelo árvore de decisão usando max_leaf_nodes=45 e max_depth=11 foi de 0.000004 porcentagem de diabéticos por milhar (normalizado).\n",
            "O RMSE do modelo árvore de decisão usando max_leaf_nodes=45 e max_depth=12 foi de 0.000004 porcentagem de diabéticos por milhar (normalizado).\n",
            "O RMSE do modelo árvore de decisão usando max_leaf_nodes=45 e max_depth=13 foi de 0.000004 porcentagem de diabéticos por milhar (normalizado).\n",
            "O RMSE do modelo árvore de decisão usando max_leaf_nodes=45 e max_depth=14 foi de 0.000004 porcentagem de diabéticos por milhar (normalizado).\n",
            "O RMSE do modelo árvore de decisão usando max_leaf_nodes=45 e max_depth=15 foi de 0.000004 porcentagem de diabéticos por milhar (normalizado).\n",
            "O RMSE do modelo árvore de decisão usando max_leaf_nodes=45 e max_depth=16 foi de 0.000004 porcentagem de diabéticos por milhar (normalizado).\n",
            "O RMSE do modelo árvore de decisão usando max_leaf_nodes=45 e max_depth=17 foi de 0.000004 porcentagem de diabéticos por milhar (normalizado).\n",
            "O RMSE do modelo árvore de decisão usando max_leaf_nodes=45 e max_depth=18 foi de 0.000004 porcentagem de diabéticos por milhar (normalizado).\n",
            "O RMSE do modelo árvore de decisão usando max_leaf_nodes=45 e max_depth=19 foi de 0.000004 porcentagem de diabéticos por milhar (normalizado).\n",
            "O RMSE do modelo árvore de decisão usando max_leaf_nodes=45 e max_depth=20 foi de 0.000004 porcentagem de diabéticos por milhar (normalizado).\n",
            "O RMSE do modelo árvore de decisão usando max_leaf_nodes=46 e max_depth=None foi de 0.000004 porcentagem de diabéticos por milhar (normalizado).\n",
            "O RMSE do modelo árvore de decisão usando max_leaf_nodes=46 e max_depth=3 foi de 0.000006 porcentagem de diabéticos por milhar (normalizado).\n",
            "O RMSE do modelo árvore de decisão usando max_leaf_nodes=46 e max_depth=4 foi de 0.000006 porcentagem de diabéticos por milhar (normalizado).\n",
            "O RMSE do modelo árvore de decisão usando max_leaf_nodes=46 e max_depth=5 foi de 0.000004 porcentagem de diabéticos por milhar (normalizado).\n",
            "O RMSE do modelo árvore de decisão usando max_leaf_nodes=46 e max_depth=6 foi de 0.000004 porcentagem de diabéticos por milhar (normalizado).\n",
            "O RMSE do modelo árvore de decisão usando max_leaf_nodes=46 e max_depth=7 foi de 0.000004 porcentagem de diabéticos por milhar (normalizado).\n",
            "O RMSE do modelo árvore de decisão usando max_leaf_nodes=46 e max_depth=8 foi de 0.000004 porcentagem de diabéticos por milhar (normalizado).\n",
            "O RMSE do modelo árvore de decisão usando max_leaf_nodes=46 e max_depth=9 foi de 0.000004 porcentagem de diabéticos por milhar (normalizado).\n",
            "O RMSE do modelo árvore de decisão usando max_leaf_nodes=46 e max_depth=10 foi de 0.000004 porcentagem de diabéticos por milhar (normalizado).\n",
            "O RMSE do modelo árvore de decisão usando max_leaf_nodes=46 e max_depth=11 foi de 0.000004 porcentagem de diabéticos por milhar (normalizado).\n",
            "O RMSE do modelo árvore de decisão usando max_leaf_nodes=46 e max_depth=12 foi de 0.000004 porcentagem de diabéticos por milhar (normalizado).\n",
            "O RMSE do modelo árvore de decisão usando max_leaf_nodes=46 e max_depth=13 foi de 0.000004 porcentagem de diabéticos por milhar (normalizado).\n",
            "O RMSE do modelo árvore de decisão usando max_leaf_nodes=46 e max_depth=14 foi de 0.000004 porcentagem de diabéticos por milhar (normalizado).\n",
            "O RMSE do modelo árvore de decisão usando max_leaf_nodes=46 e max_depth=15 foi de 0.000004 porcentagem de diabéticos por milhar (normalizado).\n",
            "O RMSE do modelo árvore de decisão usando max_leaf_nodes=46 e max_depth=16 foi de 0.000004 porcentagem de diabéticos por milhar (normalizado).\n",
            "O RMSE do modelo árvore de decisão usando max_leaf_nodes=46 e max_depth=17 foi de 0.000004 porcentagem de diabéticos por milhar (normalizado).\n",
            "O RMSE do modelo árvore de decisão usando max_leaf_nodes=46 e max_depth=18 foi de 0.000004 porcentagem de diabéticos por milhar (normalizado).\n",
            "O RMSE do modelo árvore de decisão usando max_leaf_nodes=46 e max_depth=19 foi de 0.000004 porcentagem de diabéticos por milhar (normalizado).\n",
            "O RMSE do modelo árvore de decisão usando max_leaf_nodes=46 e max_depth=20 foi de 0.000004 porcentagem de diabéticos por milhar (normalizado).\n",
            "O RMSE do modelo árvore de decisão usando max_leaf_nodes=47 e max_depth=None foi de 0.000004 porcentagem de diabéticos por milhar (normalizado).\n",
            "O RMSE do modelo árvore de decisão usando max_leaf_nodes=47 e max_depth=3 foi de 0.000006 porcentagem de diabéticos por milhar (normalizado).\n",
            "O RMSE do modelo árvore de decisão usando max_leaf_nodes=47 e max_depth=4 foi de 0.000006 porcentagem de diabéticos por milhar (normalizado).\n",
            "O RMSE do modelo árvore de decisão usando max_leaf_nodes=47 e max_depth=5 foi de 0.000004 porcentagem de diabéticos por milhar (normalizado).\n",
            "O RMSE do modelo árvore de decisão usando max_leaf_nodes=47 e max_depth=6 foi de 0.000004 porcentagem de diabéticos por milhar (normalizado).\n",
            "O RMSE do modelo árvore de decisão usando max_leaf_nodes=47 e max_depth=7 foi de 0.000004 porcentagem de diabéticos por milhar (normalizado).\n",
            "O RMSE do modelo árvore de decisão usando max_leaf_nodes=47 e max_depth=8 foi de 0.000004 porcentagem de diabéticos por milhar (normalizado).\n",
            "O RMSE do modelo árvore de decisão usando max_leaf_nodes=47 e max_depth=9 foi de 0.000004 porcentagem de diabéticos por milhar (normalizado).\n",
            "O RMSE do modelo árvore de decisão usando max_leaf_nodes=47 e max_depth=10 foi de 0.000004 porcentagem de diabéticos por milhar (normalizado).\n",
            "O RMSE do modelo árvore de decisão usando max_leaf_nodes=47 e max_depth=11 foi de 0.000004 porcentagem de diabéticos por milhar (normalizado).\n",
            "O RMSE do modelo árvore de decisão usando max_leaf_nodes=47 e max_depth=12 foi de 0.000004 porcentagem de diabéticos por milhar (normalizado).\n",
            "O RMSE do modelo árvore de decisão usando max_leaf_nodes=47 e max_depth=13 foi de 0.000004 porcentagem de diabéticos por milhar (normalizado).\n",
            "O RMSE do modelo árvore de decisão usando max_leaf_nodes=47 e max_depth=14 foi de 0.000004 porcentagem de diabéticos por milhar (normalizado).\n",
            "O RMSE do modelo árvore de decisão usando max_leaf_nodes=47 e max_depth=15 foi de 0.000004 porcentagem de diabéticos por milhar (normalizado).\n",
            "O RMSE do modelo árvore de decisão usando max_leaf_nodes=47 e max_depth=16 foi de 0.000004 porcentagem de diabéticos por milhar (normalizado).\n",
            "O RMSE do modelo árvore de decisão usando max_leaf_nodes=47 e max_depth=17 foi de 0.000004 porcentagem de diabéticos por milhar (normalizado).\n",
            "O RMSE do modelo árvore de decisão usando max_leaf_nodes=47 e max_depth=18 foi de 0.000004 porcentagem de diabéticos por milhar (normalizado).\n",
            "O RMSE do modelo árvore de decisão usando max_leaf_nodes=47 e max_depth=19 foi de 0.000004 porcentagem de diabéticos por milhar (normalizado).\n",
            "O RMSE do modelo árvore de decisão usando max_leaf_nodes=47 e max_depth=20 foi de 0.000004 porcentagem de diabéticos por milhar (normalizado).\n",
            "O RMSE do modelo árvore de decisão usando max_leaf_nodes=48 e max_depth=None foi de 0.000004 porcentagem de diabéticos por milhar (normalizado).\n",
            "O RMSE do modelo árvore de decisão usando max_leaf_nodes=48 e max_depth=3 foi de 0.000006 porcentagem de diabéticos por milhar (normalizado).\n",
            "O RMSE do modelo árvore de decisão usando max_leaf_nodes=48 e max_depth=4 foi de 0.000006 porcentagem de diabéticos por milhar (normalizado).\n",
            "O RMSE do modelo árvore de decisão usando max_leaf_nodes=48 e max_depth=5 foi de 0.000004 porcentagem de diabéticos por milhar (normalizado).\n",
            "O RMSE do modelo árvore de decisão usando max_leaf_nodes=48 e max_depth=6 foi de 0.000004 porcentagem de diabéticos por milhar (normalizado).\n",
            "O RMSE do modelo árvore de decisão usando max_leaf_nodes=48 e max_depth=7 foi de 0.000004 porcentagem de diabéticos por milhar (normalizado).\n",
            "O RMSE do modelo árvore de decisão usando max_leaf_nodes=48 e max_depth=8 foi de 0.000004 porcentagem de diabéticos por milhar (normalizado).\n",
            "O RMSE do modelo árvore de decisão usando max_leaf_nodes=48 e max_depth=9 foi de 0.000004 porcentagem de diabéticos por milhar (normalizado).\n",
            "O RMSE do modelo árvore de decisão usando max_leaf_nodes=48 e max_depth=10 foi de 0.000004 porcentagem de diabéticos por milhar (normalizado).\n",
            "O RMSE do modelo árvore de decisão usando max_leaf_nodes=48 e max_depth=11 foi de 0.000004 porcentagem de diabéticos por milhar (normalizado).\n",
            "O RMSE do modelo árvore de decisão usando max_leaf_nodes=48 e max_depth=12 foi de 0.000004 porcentagem de diabéticos por milhar (normalizado).\n",
            "O RMSE do modelo árvore de decisão usando max_leaf_nodes=48 e max_depth=13 foi de 0.000004 porcentagem de diabéticos por milhar (normalizado).\n",
            "O RMSE do modelo árvore de decisão usando max_leaf_nodes=48 e max_depth=14 foi de 0.000004 porcentagem de diabéticos por milhar (normalizado).\n",
            "O RMSE do modelo árvore de decisão usando max_leaf_nodes=48 e max_depth=15 foi de 0.000004 porcentagem de diabéticos por milhar (normalizado).\n",
            "O RMSE do modelo árvore de decisão usando max_leaf_nodes=48 e max_depth=16 foi de 0.000004 porcentagem de diabéticos por milhar (normalizado).\n",
            "O RMSE do modelo árvore de decisão usando max_leaf_nodes=48 e max_depth=17 foi de 0.000004 porcentagem de diabéticos por milhar (normalizado).\n",
            "O RMSE do modelo árvore de decisão usando max_leaf_nodes=48 e max_depth=18 foi de 0.000004 porcentagem de diabéticos por milhar (normalizado).\n",
            "O RMSE do modelo árvore de decisão usando max_leaf_nodes=48 e max_depth=19 foi de 0.000004 porcentagem de diabéticos por milhar (normalizado).\n",
            "O RMSE do modelo árvore de decisão usando max_leaf_nodes=48 e max_depth=20 foi de 0.000004 porcentagem de diabéticos por milhar (normalizado).\n",
            "O RMSE do modelo árvore de decisão usando max_leaf_nodes=49 e max_depth=None foi de 0.000004 porcentagem de diabéticos por milhar (normalizado).\n",
            "O RMSE do modelo árvore de decisão usando max_leaf_nodes=49 e max_depth=3 foi de 0.000006 porcentagem de diabéticos por milhar (normalizado).\n",
            "O RMSE do modelo árvore de decisão usando max_leaf_nodes=49 e max_depth=4 foi de 0.000006 porcentagem de diabéticos por milhar (normalizado).\n",
            "O RMSE do modelo árvore de decisão usando max_leaf_nodes=49 e max_depth=5 foi de 0.000004 porcentagem de diabéticos por milhar (normalizado).\n",
            "O RMSE do modelo árvore de decisão usando max_leaf_nodes=49 e max_depth=6 foi de 0.000004 porcentagem de diabéticos por milhar (normalizado).\n",
            "O RMSE do modelo árvore de decisão usando max_leaf_nodes=49 e max_depth=7 foi de 0.000004 porcentagem de diabéticos por milhar (normalizado).\n",
            "O RMSE do modelo árvore de decisão usando max_leaf_nodes=49 e max_depth=8 foi de 0.000004 porcentagem de diabéticos por milhar (normalizado).\n",
            "O RMSE do modelo árvore de decisão usando max_leaf_nodes=49 e max_depth=9 foi de 0.000004 porcentagem de diabéticos por milhar (normalizado).\n",
            "O RMSE do modelo árvore de decisão usando max_leaf_nodes=49 e max_depth=10 foi de 0.000004 porcentagem de diabéticos por milhar (normalizado).\n",
            "O RMSE do modelo árvore de decisão usando max_leaf_nodes=49 e max_depth=11 foi de 0.000004 porcentagem de diabéticos por milhar (normalizado).\n",
            "O RMSE do modelo árvore de decisão usando max_leaf_nodes=49 e max_depth=12 foi de 0.000004 porcentagem de diabéticos por milhar (normalizado).\n",
            "O RMSE do modelo árvore de decisão usando max_leaf_nodes=49 e max_depth=13 foi de 0.000004 porcentagem de diabéticos por milhar (normalizado).\n",
            "O RMSE do modelo árvore de decisão usando max_leaf_nodes=49 e max_depth=14 foi de 0.000004 porcentagem de diabéticos por milhar (normalizado).\n",
            "O RMSE do modelo árvore de decisão usando max_leaf_nodes=49 e max_depth=15 foi de 0.000004 porcentagem de diabéticos por milhar (normalizado).\n",
            "O RMSE do modelo árvore de decisão usando max_leaf_nodes=49 e max_depth=16 foi de 0.000004 porcentagem de diabéticos por milhar (normalizado).\n",
            "O RMSE do modelo árvore de decisão usando max_leaf_nodes=49 e max_depth=17 foi de 0.000004 porcentagem de diabéticos por milhar (normalizado).\n",
            "O RMSE do modelo árvore de decisão usando max_leaf_nodes=49 e max_depth=18 foi de 0.000004 porcentagem de diabéticos por milhar (normalizado).\n",
            "O RMSE do modelo árvore de decisão usando max_leaf_nodes=49 e max_depth=19 foi de 0.000004 porcentagem de diabéticos por milhar (normalizado).\n",
            "O RMSE do modelo árvore de decisão usando max_leaf_nodes=49 e max_depth=20 foi de 0.000004 porcentagem de diabéticos por milhar (normalizado).\n",
            "O RMSE do modelo árvore de decisão usando max_leaf_nodes=50 e max_depth=None foi de 0.000004 porcentagem de diabéticos por milhar (normalizado).\n",
            "O RMSE do modelo árvore de decisão usando max_leaf_nodes=50 e max_depth=3 foi de 0.000006 porcentagem de diabéticos por milhar (normalizado).\n",
            "O RMSE do modelo árvore de decisão usando max_leaf_nodes=50 e max_depth=4 foi de 0.000006 porcentagem de diabéticos por milhar (normalizado).\n",
            "O RMSE do modelo árvore de decisão usando max_leaf_nodes=50 e max_depth=5 foi de 0.000004 porcentagem de diabéticos por milhar (normalizado).\n",
            "O RMSE do modelo árvore de decisão usando max_leaf_nodes=50 e max_depth=6 foi de 0.000004 porcentagem de diabéticos por milhar (normalizado).\n",
            "O RMSE do modelo árvore de decisão usando max_leaf_nodes=50 e max_depth=7 foi de 0.000004 porcentagem de diabéticos por milhar (normalizado).\n",
            "O RMSE do modelo árvore de decisão usando max_leaf_nodes=50 e max_depth=8 foi de 0.000004 porcentagem de diabéticos por milhar (normalizado).\n",
            "O RMSE do modelo árvore de decisão usando max_leaf_nodes=50 e max_depth=9 foi de 0.000004 porcentagem de diabéticos por milhar (normalizado).\n",
            "O RMSE do modelo árvore de decisão usando max_leaf_nodes=50 e max_depth=10 foi de 0.000004 porcentagem de diabéticos por milhar (normalizado).\n",
            "O RMSE do modelo árvore de decisão usando max_leaf_nodes=50 e max_depth=11 foi de 0.000004 porcentagem de diabéticos por milhar (normalizado).\n",
            "O RMSE do modelo árvore de decisão usando max_leaf_nodes=50 e max_depth=12 foi de 0.000004 porcentagem de diabéticos por milhar (normalizado).\n",
            "O RMSE do modelo árvore de decisão usando max_leaf_nodes=50 e max_depth=13 foi de 0.000004 porcentagem de diabéticos por milhar (normalizado).\n",
            "O RMSE do modelo árvore de decisão usando max_leaf_nodes=50 e max_depth=14 foi de 0.000004 porcentagem de diabéticos por milhar (normalizado).\n",
            "O RMSE do modelo árvore de decisão usando max_leaf_nodes=50 e max_depth=15 foi de 0.000004 porcentagem de diabéticos por milhar (normalizado).\n",
            "O RMSE do modelo árvore de decisão usando max_leaf_nodes=50 e max_depth=16 foi de 0.000004 porcentagem de diabéticos por milhar (normalizado).\n",
            "O RMSE do modelo árvore de decisão usando max_leaf_nodes=50 e max_depth=17 foi de 0.000004 porcentagem de diabéticos por milhar (normalizado).\n",
            "O RMSE do modelo árvore de decisão usando max_leaf_nodes=50 e max_depth=18 foi de 0.000004 porcentagem de diabéticos por milhar (normalizado).\n",
            "O RMSE do modelo árvore de decisão usando max_leaf_nodes=50 e max_depth=19 foi de 0.000004 porcentagem de diabéticos por milhar (normalizado).\n",
            "O RMSE do modelo árvore de decisão usando max_leaf_nodes=50 e max_depth=20 foi de 0.000004 porcentagem de diabéticos por milhar (normalizado).\n",
            "O RMSE do modelo árvore de decisão usando max_leaf_nodes=51 e max_depth=None foi de 0.000004 porcentagem de diabéticos por milhar (normalizado).\n",
            "O RMSE do modelo árvore de decisão usando max_leaf_nodes=51 e max_depth=3 foi de 0.000006 porcentagem de diabéticos por milhar (normalizado).\n",
            "O RMSE do modelo árvore de decisão usando max_leaf_nodes=51 e max_depth=4 foi de 0.000006 porcentagem de diabéticos por milhar (normalizado).\n",
            "O RMSE do modelo árvore de decisão usando max_leaf_nodes=51 e max_depth=5 foi de 0.000004 porcentagem de diabéticos por milhar (normalizado).\n",
            "O RMSE do modelo árvore de decisão usando max_leaf_nodes=51 e max_depth=6 foi de 0.000004 porcentagem de diabéticos por milhar (normalizado).\n",
            "O RMSE do modelo árvore de decisão usando max_leaf_nodes=51 e max_depth=7 foi de 0.000004 porcentagem de diabéticos por milhar (normalizado).\n",
            "O RMSE do modelo árvore de decisão usando max_leaf_nodes=51 e max_depth=8 foi de 0.000004 porcentagem de diabéticos por milhar (normalizado).\n",
            "O RMSE do modelo árvore de decisão usando max_leaf_nodes=51 e max_depth=9 foi de 0.000004 porcentagem de diabéticos por milhar (normalizado).\n",
            "O RMSE do modelo árvore de decisão usando max_leaf_nodes=51 e max_depth=10 foi de 0.000004 porcentagem de diabéticos por milhar (normalizado).\n",
            "O RMSE do modelo árvore de decisão usando max_leaf_nodes=51 e max_depth=11 foi de 0.000004 porcentagem de diabéticos por milhar (normalizado).\n",
            "O RMSE do modelo árvore de decisão usando max_leaf_nodes=51 e max_depth=12 foi de 0.000004 porcentagem de diabéticos por milhar (normalizado).\n",
            "O RMSE do modelo árvore de decisão usando max_leaf_nodes=51 e max_depth=13 foi de 0.000004 porcentagem de diabéticos por milhar (normalizado).\n",
            "O RMSE do modelo árvore de decisão usando max_leaf_nodes=51 e max_depth=14 foi de 0.000004 porcentagem de diabéticos por milhar (normalizado).\n",
            "O RMSE do modelo árvore de decisão usando max_leaf_nodes=51 e max_depth=15 foi de 0.000004 porcentagem de diabéticos por milhar (normalizado).\n",
            "O RMSE do modelo árvore de decisão usando max_leaf_nodes=51 e max_depth=16 foi de 0.000004 porcentagem de diabéticos por milhar (normalizado).\n",
            "O RMSE do modelo árvore de decisão usando max_leaf_nodes=51 e max_depth=17 foi de 0.000004 porcentagem de diabéticos por milhar (normalizado).\n",
            "O RMSE do modelo árvore de decisão usando max_leaf_nodes=51 e max_depth=18 foi de 0.000004 porcentagem de diabéticos por milhar (normalizado).\n",
            "O RMSE do modelo árvore de decisão usando max_leaf_nodes=51 e max_depth=19 foi de 0.000004 porcentagem de diabéticos por milhar (normalizado).\n",
            "O RMSE do modelo árvore de decisão usando max_leaf_nodes=51 e max_depth=20 foi de 0.000004 porcentagem de diabéticos por milhar (normalizado).\n",
            "O RMSE do modelo árvore de decisão usando max_leaf_nodes=52 e max_depth=None foi de 0.000004 porcentagem de diabéticos por milhar (normalizado).\n",
            "O RMSE do modelo árvore de decisão usando max_leaf_nodes=52 e max_depth=3 foi de 0.000006 porcentagem de diabéticos por milhar (normalizado).\n",
            "O RMSE do modelo árvore de decisão usando max_leaf_nodes=52 e max_depth=4 foi de 0.000006 porcentagem de diabéticos por milhar (normalizado).\n",
            "O RMSE do modelo árvore de decisão usando max_leaf_nodes=52 e max_depth=5 foi de 0.000004 porcentagem de diabéticos por milhar (normalizado).\n",
            "O RMSE do modelo árvore de decisão usando max_leaf_nodes=52 e max_depth=6 foi de 0.000004 porcentagem de diabéticos por milhar (normalizado).\n",
            "O RMSE do modelo árvore de decisão usando max_leaf_nodes=52 e max_depth=7 foi de 0.000004 porcentagem de diabéticos por milhar (normalizado).\n",
            "O RMSE do modelo árvore de decisão usando max_leaf_nodes=52 e max_depth=8 foi de 0.000004 porcentagem de diabéticos por milhar (normalizado).\n",
            "O RMSE do modelo árvore de decisão usando max_leaf_nodes=52 e max_depth=9 foi de 0.000004 porcentagem de diabéticos por milhar (normalizado).\n",
            "O RMSE do modelo árvore de decisão usando max_leaf_nodes=52 e max_depth=10 foi de 0.000004 porcentagem de diabéticos por milhar (normalizado).\n",
            "O RMSE do modelo árvore de decisão usando max_leaf_nodes=52 e max_depth=11 foi de 0.000004 porcentagem de diabéticos por milhar (normalizado).\n",
            "O RMSE do modelo árvore de decisão usando max_leaf_nodes=52 e max_depth=12 foi de 0.000004 porcentagem de diabéticos por milhar (normalizado).\n",
            "O RMSE do modelo árvore de decisão usando max_leaf_nodes=52 e max_depth=13 foi de 0.000004 porcentagem de diabéticos por milhar (normalizado).\n",
            "O RMSE do modelo árvore de decisão usando max_leaf_nodes=52 e max_depth=14 foi de 0.000004 porcentagem de diabéticos por milhar (normalizado).\n",
            "O RMSE do modelo árvore de decisão usando max_leaf_nodes=52 e max_depth=15 foi de 0.000004 porcentagem de diabéticos por milhar (normalizado).\n",
            "O RMSE do modelo árvore de decisão usando max_leaf_nodes=52 e max_depth=16 foi de 0.000004 porcentagem de diabéticos por milhar (normalizado).\n",
            "O RMSE do modelo árvore de decisão usando max_leaf_nodes=52 e max_depth=17 foi de 0.000004 porcentagem de diabéticos por milhar (normalizado).\n",
            "O RMSE do modelo árvore de decisão usando max_leaf_nodes=52 e max_depth=18 foi de 0.000004 porcentagem de diabéticos por milhar (normalizado).\n",
            "O RMSE do modelo árvore de decisão usando max_leaf_nodes=52 e max_depth=19 foi de 0.000004 porcentagem de diabéticos por milhar (normalizado).\n",
            "O RMSE do modelo árvore de decisão usando max_leaf_nodes=52 e max_depth=20 foi de 0.000004 porcentagem de diabéticos por milhar (normalizado).\n",
            "O RMSE do modelo árvore de decisão usando max_leaf_nodes=53 e max_depth=None foi de 0.000004 porcentagem de diabéticos por milhar (normalizado).\n",
            "O RMSE do modelo árvore de decisão usando max_leaf_nodes=53 e max_depth=3 foi de 0.000006 porcentagem de diabéticos por milhar (normalizado).\n",
            "O RMSE do modelo árvore de decisão usando max_leaf_nodes=53 e max_depth=4 foi de 0.000006 porcentagem de diabéticos por milhar (normalizado).\n",
            "O RMSE do modelo árvore de decisão usando max_leaf_nodes=53 e max_depth=5 foi de 0.000004 porcentagem de diabéticos por milhar (normalizado).\n",
            "O RMSE do modelo árvore de decisão usando max_leaf_nodes=53 e max_depth=6 foi de 0.000004 porcentagem de diabéticos por milhar (normalizado).\n",
            "O RMSE do modelo árvore de decisão usando max_leaf_nodes=53 e max_depth=7 foi de 0.000004 porcentagem de diabéticos por milhar (normalizado).\n",
            "O RMSE do modelo árvore de decisão usando max_leaf_nodes=53 e max_depth=8 foi de 0.000004 porcentagem de diabéticos por milhar (normalizado).\n",
            "O RMSE do modelo árvore de decisão usando max_leaf_nodes=53 e max_depth=9 foi de 0.000004 porcentagem de diabéticos por milhar (normalizado).\n",
            "O RMSE do modelo árvore de decisão usando max_leaf_nodes=53 e max_depth=10 foi de 0.000004 porcentagem de diabéticos por milhar (normalizado).\n",
            "O RMSE do modelo árvore de decisão usando max_leaf_nodes=53 e max_depth=11 foi de 0.000004 porcentagem de diabéticos por milhar (normalizado).\n",
            "O RMSE do modelo árvore de decisão usando max_leaf_nodes=53 e max_depth=12 foi de 0.000004 porcentagem de diabéticos por milhar (normalizado).\n",
            "O RMSE do modelo árvore de decisão usando max_leaf_nodes=53 e max_depth=13 foi de 0.000004 porcentagem de diabéticos por milhar (normalizado).\n",
            "O RMSE do modelo árvore de decisão usando max_leaf_nodes=53 e max_depth=14 foi de 0.000004 porcentagem de diabéticos por milhar (normalizado).\n",
            "O RMSE do modelo árvore de decisão usando max_leaf_nodes=53 e max_depth=15 foi de 0.000004 porcentagem de diabéticos por milhar (normalizado).\n",
            "O RMSE do modelo árvore de decisão usando max_leaf_nodes=53 e max_depth=16 foi de 0.000004 porcentagem de diabéticos por milhar (normalizado).\n",
            "O RMSE do modelo árvore de decisão usando max_leaf_nodes=53 e max_depth=17 foi de 0.000004 porcentagem de diabéticos por milhar (normalizado).\n",
            "O RMSE do modelo árvore de decisão usando max_leaf_nodes=53 e max_depth=18 foi de 0.000004 porcentagem de diabéticos por milhar (normalizado).\n",
            "O RMSE do modelo árvore de decisão usando max_leaf_nodes=53 e max_depth=19 foi de 0.000004 porcentagem de diabéticos por milhar (normalizado).\n",
            "O RMSE do modelo árvore de decisão usando max_leaf_nodes=53 e max_depth=20 foi de 0.000004 porcentagem de diabéticos por milhar (normalizado).\n",
            "O RMSE do modelo árvore de decisão usando max_leaf_nodes=54 e max_depth=None foi de 0.000004 porcentagem de diabéticos por milhar (normalizado).\n",
            "O RMSE do modelo árvore de decisão usando max_leaf_nodes=54 e max_depth=3 foi de 0.000006 porcentagem de diabéticos por milhar (normalizado).\n",
            "O RMSE do modelo árvore de decisão usando max_leaf_nodes=54 e max_depth=4 foi de 0.000006 porcentagem de diabéticos por milhar (normalizado).\n",
            "O RMSE do modelo árvore de decisão usando max_leaf_nodes=54 e max_depth=5 foi de 0.000004 porcentagem de diabéticos por milhar (normalizado).\n",
            "O RMSE do modelo árvore de decisão usando max_leaf_nodes=54 e max_depth=6 foi de 0.000004 porcentagem de diabéticos por milhar (normalizado).\n",
            "O RMSE do modelo árvore de decisão usando max_leaf_nodes=54 e max_depth=7 foi de 0.000004 porcentagem de diabéticos por milhar (normalizado).\n",
            "O RMSE do modelo árvore de decisão usando max_leaf_nodes=54 e max_depth=8 foi de 0.000004 porcentagem de diabéticos por milhar (normalizado).\n",
            "O RMSE do modelo árvore de decisão usando max_leaf_nodes=54 e max_depth=9 foi de 0.000004 porcentagem de diabéticos por milhar (normalizado).\n",
            "O RMSE do modelo árvore de decisão usando max_leaf_nodes=54 e max_depth=10 foi de 0.000004 porcentagem de diabéticos por milhar (normalizado).\n",
            "O RMSE do modelo árvore de decisão usando max_leaf_nodes=54 e max_depth=11 foi de 0.000004 porcentagem de diabéticos por milhar (normalizado).\n",
            "O RMSE do modelo árvore de decisão usando max_leaf_nodes=54 e max_depth=12 foi de 0.000004 porcentagem de diabéticos por milhar (normalizado).\n",
            "O RMSE do modelo árvore de decisão usando max_leaf_nodes=54 e max_depth=13 foi de 0.000004 porcentagem de diabéticos por milhar (normalizado).\n",
            "O RMSE do modelo árvore de decisão usando max_leaf_nodes=54 e max_depth=14 foi de 0.000004 porcentagem de diabéticos por milhar (normalizado).\n",
            "O RMSE do modelo árvore de decisão usando max_leaf_nodes=54 e max_depth=15 foi de 0.000004 porcentagem de diabéticos por milhar (normalizado).\n",
            "O RMSE do modelo árvore de decisão usando max_leaf_nodes=54 e max_depth=16 foi de 0.000004 porcentagem de diabéticos por milhar (normalizado).\n",
            "O RMSE do modelo árvore de decisão usando max_leaf_nodes=54 e max_depth=17 foi de 0.000004 porcentagem de diabéticos por milhar (normalizado).\n",
            "O RMSE do modelo árvore de decisão usando max_leaf_nodes=54 e max_depth=18 foi de 0.000004 porcentagem de diabéticos por milhar (normalizado).\n",
            "O RMSE do modelo árvore de decisão usando max_leaf_nodes=54 e max_depth=19 foi de 0.000004 porcentagem de diabéticos por milhar (normalizado).\n",
            "O RMSE do modelo árvore de decisão usando max_leaf_nodes=54 e max_depth=20 foi de 0.000004 porcentagem de diabéticos por milhar (normalizado).\n",
            "O RMSE do modelo árvore de decisão usando max_leaf_nodes=55 e max_depth=None foi de 0.000004 porcentagem de diabéticos por milhar (normalizado).\n",
            "O RMSE do modelo árvore de decisão usando max_leaf_nodes=55 e max_depth=3 foi de 0.000006 porcentagem de diabéticos por milhar (normalizado).\n",
            "O RMSE do modelo árvore de decisão usando max_leaf_nodes=55 e max_depth=4 foi de 0.000006 porcentagem de diabéticos por milhar (normalizado).\n",
            "O RMSE do modelo árvore de decisão usando max_leaf_nodes=55 e max_depth=5 foi de 0.000004 porcentagem de diabéticos por milhar (normalizado).\n",
            "O RMSE do modelo árvore de decisão usando max_leaf_nodes=55 e max_depth=6 foi de 0.000004 porcentagem de diabéticos por milhar (normalizado).\n",
            "O RMSE do modelo árvore de decisão usando max_leaf_nodes=55 e max_depth=7 foi de 0.000004 porcentagem de diabéticos por milhar (normalizado).\n",
            "O RMSE do modelo árvore de decisão usando max_leaf_nodes=55 e max_depth=8 foi de 0.000004 porcentagem de diabéticos por milhar (normalizado).\n",
            "O RMSE do modelo árvore de decisão usando max_leaf_nodes=55 e max_depth=9 foi de 0.000004 porcentagem de diabéticos por milhar (normalizado).\n",
            "O RMSE do modelo árvore de decisão usando max_leaf_nodes=55 e max_depth=10 foi de 0.000004 porcentagem de diabéticos por milhar (normalizado).\n",
            "O RMSE do modelo árvore de decisão usando max_leaf_nodes=55 e max_depth=11 foi de 0.000004 porcentagem de diabéticos por milhar (normalizado).\n",
            "O RMSE do modelo árvore de decisão usando max_leaf_nodes=55 e max_depth=12 foi de 0.000004 porcentagem de diabéticos por milhar (normalizado).\n",
            "O RMSE do modelo árvore de decisão usando max_leaf_nodes=55 e max_depth=13 foi de 0.000004 porcentagem de diabéticos por milhar (normalizado).\n",
            "O RMSE do modelo árvore de decisão usando max_leaf_nodes=55 e max_depth=14 foi de 0.000004 porcentagem de diabéticos por milhar (normalizado).\n",
            "O RMSE do modelo árvore de decisão usando max_leaf_nodes=55 e max_depth=15 foi de 0.000004 porcentagem de diabéticos por milhar (normalizado).\n",
            "O RMSE do modelo árvore de decisão usando max_leaf_nodes=55 e max_depth=16 foi de 0.000004 porcentagem de diabéticos por milhar (normalizado).\n",
            "O RMSE do modelo árvore de decisão usando max_leaf_nodes=55 e max_depth=17 foi de 0.000004 porcentagem de diabéticos por milhar (normalizado).\n",
            "O RMSE do modelo árvore de decisão usando max_leaf_nodes=55 e max_depth=18 foi de 0.000004 porcentagem de diabéticos por milhar (normalizado).\n",
            "O RMSE do modelo árvore de decisão usando max_leaf_nodes=55 e max_depth=19 foi de 0.000004 porcentagem de diabéticos por milhar (normalizado).\n",
            "O RMSE do modelo árvore de decisão usando max_leaf_nodes=55 e max_depth=20 foi de 0.000004 porcentagem de diabéticos por milhar (normalizado).\n",
            "O RMSE do modelo árvore de decisão usando max_leaf_nodes=56 e max_depth=None foi de 0.000004 porcentagem de diabéticos por milhar (normalizado).\n",
            "O RMSE do modelo árvore de decisão usando max_leaf_nodes=56 e max_depth=3 foi de 0.000006 porcentagem de diabéticos por milhar (normalizado).\n",
            "O RMSE do modelo árvore de decisão usando max_leaf_nodes=56 e max_depth=4 foi de 0.000006 porcentagem de diabéticos por milhar (normalizado).\n",
            "O RMSE do modelo árvore de decisão usando max_leaf_nodes=56 e max_depth=5 foi de 0.000004 porcentagem de diabéticos por milhar (normalizado).\n",
            "O RMSE do modelo árvore de decisão usando max_leaf_nodes=56 e max_depth=6 foi de 0.000004 porcentagem de diabéticos por milhar (normalizado).\n",
            "O RMSE do modelo árvore de decisão usando max_leaf_nodes=56 e max_depth=7 foi de 0.000004 porcentagem de diabéticos por milhar (normalizado).\n",
            "O RMSE do modelo árvore de decisão usando max_leaf_nodes=56 e max_depth=8 foi de 0.000004 porcentagem de diabéticos por milhar (normalizado).\n",
            "O RMSE do modelo árvore de decisão usando max_leaf_nodes=56 e max_depth=9 foi de 0.000004 porcentagem de diabéticos por milhar (normalizado).\n",
            "O RMSE do modelo árvore de decisão usando max_leaf_nodes=56 e max_depth=10 foi de 0.000004 porcentagem de diabéticos por milhar (normalizado).\n",
            "O RMSE do modelo árvore de decisão usando max_leaf_nodes=56 e max_depth=11 foi de 0.000004 porcentagem de diabéticos por milhar (normalizado).\n",
            "O RMSE do modelo árvore de decisão usando max_leaf_nodes=56 e max_depth=12 foi de 0.000004 porcentagem de diabéticos por milhar (normalizado).\n",
            "O RMSE do modelo árvore de decisão usando max_leaf_nodes=56 e max_depth=13 foi de 0.000004 porcentagem de diabéticos por milhar (normalizado).\n",
            "O RMSE do modelo árvore de decisão usando max_leaf_nodes=56 e max_depth=14 foi de 0.000004 porcentagem de diabéticos por milhar (normalizado).\n",
            "O RMSE do modelo árvore de decisão usando max_leaf_nodes=56 e max_depth=15 foi de 0.000004 porcentagem de diabéticos por milhar (normalizado).\n",
            "O RMSE do modelo árvore de decisão usando max_leaf_nodes=56 e max_depth=16 foi de 0.000004 porcentagem de diabéticos por milhar (normalizado).\n",
            "O RMSE do modelo árvore de decisão usando max_leaf_nodes=56 e max_depth=17 foi de 0.000004 porcentagem de diabéticos por milhar (normalizado).\n",
            "O RMSE do modelo árvore de decisão usando max_leaf_nodes=56 e max_depth=18 foi de 0.000004 porcentagem de diabéticos por milhar (normalizado).\n",
            "O RMSE do modelo árvore de decisão usando max_leaf_nodes=56 e max_depth=19 foi de 0.000004 porcentagem de diabéticos por milhar (normalizado).\n",
            "O RMSE do modelo árvore de decisão usando max_leaf_nodes=56 e max_depth=20 foi de 0.000004 porcentagem de diabéticos por milhar (normalizado).\n",
            "O RMSE do modelo árvore de decisão usando max_leaf_nodes=57 e max_depth=None foi de 0.000004 porcentagem de diabéticos por milhar (normalizado).\n",
            "O RMSE do modelo árvore de decisão usando max_leaf_nodes=57 e max_depth=3 foi de 0.000006 porcentagem de diabéticos por milhar (normalizado).\n",
            "O RMSE do modelo árvore de decisão usando max_leaf_nodes=57 e max_depth=4 foi de 0.000006 porcentagem de diabéticos por milhar (normalizado).\n",
            "O RMSE do modelo árvore de decisão usando max_leaf_nodes=57 e max_depth=5 foi de 0.000004 porcentagem de diabéticos por milhar (normalizado).\n",
            "O RMSE do modelo árvore de decisão usando max_leaf_nodes=57 e max_depth=6 foi de 0.000004 porcentagem de diabéticos por milhar (normalizado).\n",
            "O RMSE do modelo árvore de decisão usando max_leaf_nodes=57 e max_depth=7 foi de 0.000004 porcentagem de diabéticos por milhar (normalizado).\n",
            "O RMSE do modelo árvore de decisão usando max_leaf_nodes=57 e max_depth=8 foi de 0.000004 porcentagem de diabéticos por milhar (normalizado).\n",
            "O RMSE do modelo árvore de decisão usando max_leaf_nodes=57 e max_depth=9 foi de 0.000004 porcentagem de diabéticos por milhar (normalizado).\n",
            "O RMSE do modelo árvore de decisão usando max_leaf_nodes=57 e max_depth=10 foi de 0.000004 porcentagem de diabéticos por milhar (normalizado).\n",
            "O RMSE do modelo árvore de decisão usando max_leaf_nodes=57 e max_depth=11 foi de 0.000004 porcentagem de diabéticos por milhar (normalizado).\n",
            "O RMSE do modelo árvore de decisão usando max_leaf_nodes=57 e max_depth=12 foi de 0.000004 porcentagem de diabéticos por milhar (normalizado).\n",
            "O RMSE do modelo árvore de decisão usando max_leaf_nodes=57 e max_depth=13 foi de 0.000004 porcentagem de diabéticos por milhar (normalizado).\n",
            "O RMSE do modelo árvore de decisão usando max_leaf_nodes=57 e max_depth=14 foi de 0.000004 porcentagem de diabéticos por milhar (normalizado).\n",
            "O RMSE do modelo árvore de decisão usando max_leaf_nodes=57 e max_depth=15 foi de 0.000004 porcentagem de diabéticos por milhar (normalizado).\n",
            "O RMSE do modelo árvore de decisão usando max_leaf_nodes=57 e max_depth=16 foi de 0.000004 porcentagem de diabéticos por milhar (normalizado).\n",
            "O RMSE do modelo árvore de decisão usando max_leaf_nodes=57 e max_depth=17 foi de 0.000004 porcentagem de diabéticos por milhar (normalizado).\n",
            "O RMSE do modelo árvore de decisão usando max_leaf_nodes=57 e max_depth=18 foi de 0.000004 porcentagem de diabéticos por milhar (normalizado).\n",
            "O RMSE do modelo árvore de decisão usando max_leaf_nodes=57 e max_depth=19 foi de 0.000004 porcentagem de diabéticos por milhar (normalizado).\n",
            "O RMSE do modelo árvore de decisão usando max_leaf_nodes=57 e max_depth=20 foi de 0.000004 porcentagem de diabéticos por milhar (normalizado).\n",
            "O RMSE do modelo árvore de decisão usando max_leaf_nodes=58 e max_depth=None foi de 0.000004 porcentagem de diabéticos por milhar (normalizado).\n",
            "O RMSE do modelo árvore de decisão usando max_leaf_nodes=58 e max_depth=3 foi de 0.000006 porcentagem de diabéticos por milhar (normalizado).\n",
            "O RMSE do modelo árvore de decisão usando max_leaf_nodes=58 e max_depth=4 foi de 0.000006 porcentagem de diabéticos por milhar (normalizado).\n",
            "O RMSE do modelo árvore de decisão usando max_leaf_nodes=58 e max_depth=5 foi de 0.000004 porcentagem de diabéticos por milhar (normalizado).\n",
            "O RMSE do modelo árvore de decisão usando max_leaf_nodes=58 e max_depth=6 foi de 0.000004 porcentagem de diabéticos por milhar (normalizado).\n",
            "O RMSE do modelo árvore de decisão usando max_leaf_nodes=58 e max_depth=7 foi de 0.000004 porcentagem de diabéticos por milhar (normalizado).\n",
            "O RMSE do modelo árvore de decisão usando max_leaf_nodes=58 e max_depth=8 foi de 0.000004 porcentagem de diabéticos por milhar (normalizado).\n",
            "O RMSE do modelo árvore de decisão usando max_leaf_nodes=58 e max_depth=9 foi de 0.000004 porcentagem de diabéticos por milhar (normalizado).\n",
            "O RMSE do modelo árvore de decisão usando max_leaf_nodes=58 e max_depth=10 foi de 0.000004 porcentagem de diabéticos por milhar (normalizado).\n",
            "O RMSE do modelo árvore de decisão usando max_leaf_nodes=58 e max_depth=11 foi de 0.000004 porcentagem de diabéticos por milhar (normalizado).\n",
            "O RMSE do modelo árvore de decisão usando max_leaf_nodes=58 e max_depth=12 foi de 0.000004 porcentagem de diabéticos por milhar (normalizado).\n",
            "O RMSE do modelo árvore de decisão usando max_leaf_nodes=58 e max_depth=13 foi de 0.000004 porcentagem de diabéticos por milhar (normalizado).\n",
            "O RMSE do modelo árvore de decisão usando max_leaf_nodes=58 e max_depth=14 foi de 0.000004 porcentagem de diabéticos por milhar (normalizado).\n",
            "O RMSE do modelo árvore de decisão usando max_leaf_nodes=58 e max_depth=15 foi de 0.000004 porcentagem de diabéticos por milhar (normalizado).\n",
            "O RMSE do modelo árvore de decisão usando max_leaf_nodes=58 e max_depth=16 foi de 0.000004 porcentagem de diabéticos por milhar (normalizado).\n",
            "O RMSE do modelo árvore de decisão usando max_leaf_nodes=58 e max_depth=17 foi de 0.000004 porcentagem de diabéticos por milhar (normalizado).\n",
            "O RMSE do modelo árvore de decisão usando max_leaf_nodes=58 e max_depth=18 foi de 0.000004 porcentagem de diabéticos por milhar (normalizado).\n",
            "O RMSE do modelo árvore de decisão usando max_leaf_nodes=58 e max_depth=19 foi de 0.000004 porcentagem de diabéticos por milhar (normalizado).\n",
            "O RMSE do modelo árvore de decisão usando max_leaf_nodes=58 e max_depth=20 foi de 0.000004 porcentagem de diabéticos por milhar (normalizado).\n",
            "O RMSE do modelo árvore de decisão usando max_leaf_nodes=59 e max_depth=None foi de 0.000004 porcentagem de diabéticos por milhar (normalizado).\n",
            "O RMSE do modelo árvore de decisão usando max_leaf_nodes=59 e max_depth=3 foi de 0.000006 porcentagem de diabéticos por milhar (normalizado).\n",
            "O RMSE do modelo árvore de decisão usando max_leaf_nodes=59 e max_depth=4 foi de 0.000006 porcentagem de diabéticos por milhar (normalizado).\n",
            "O RMSE do modelo árvore de decisão usando max_leaf_nodes=59 e max_depth=5 foi de 0.000004 porcentagem de diabéticos por milhar (normalizado).\n",
            "O RMSE do modelo árvore de decisão usando max_leaf_nodes=59 e max_depth=6 foi de 0.000004 porcentagem de diabéticos por milhar (normalizado).\n",
            "O RMSE do modelo árvore de decisão usando max_leaf_nodes=59 e max_depth=7 foi de 0.000004 porcentagem de diabéticos por milhar (normalizado).\n",
            "O RMSE do modelo árvore de decisão usando max_leaf_nodes=59 e max_depth=8 foi de 0.000004 porcentagem de diabéticos por milhar (normalizado).\n",
            "O RMSE do modelo árvore de decisão usando max_leaf_nodes=59 e max_depth=9 foi de 0.000004 porcentagem de diabéticos por milhar (normalizado).\n",
            "O RMSE do modelo árvore de decisão usando max_leaf_nodes=59 e max_depth=10 foi de 0.000004 porcentagem de diabéticos por milhar (normalizado).\n",
            "O RMSE do modelo árvore de decisão usando max_leaf_nodes=59 e max_depth=11 foi de 0.000004 porcentagem de diabéticos por milhar (normalizado).\n",
            "O RMSE do modelo árvore de decisão usando max_leaf_nodes=59 e max_depth=12 foi de 0.000004 porcentagem de diabéticos por milhar (normalizado).\n",
            "O RMSE do modelo árvore de decisão usando max_leaf_nodes=59 e max_depth=13 foi de 0.000004 porcentagem de diabéticos por milhar (normalizado).\n",
            "O RMSE do modelo árvore de decisão usando max_leaf_nodes=59 e max_depth=14 foi de 0.000004 porcentagem de diabéticos por milhar (normalizado).\n",
            "O RMSE do modelo árvore de decisão usando max_leaf_nodes=59 e max_depth=15 foi de 0.000004 porcentagem de diabéticos por milhar (normalizado).\n",
            "O RMSE do modelo árvore de decisão usando max_leaf_nodes=59 e max_depth=16 foi de 0.000004 porcentagem de diabéticos por milhar (normalizado).\n",
            "O RMSE do modelo árvore de decisão usando max_leaf_nodes=59 e max_depth=17 foi de 0.000004 porcentagem de diabéticos por milhar (normalizado).\n",
            "O RMSE do modelo árvore de decisão usando max_leaf_nodes=59 e max_depth=18 foi de 0.000004 porcentagem de diabéticos por milhar (normalizado).\n",
            "O RMSE do modelo árvore de decisão usando max_leaf_nodes=59 e max_depth=19 foi de 0.000004 porcentagem de diabéticos por milhar (normalizado).\n",
            "O RMSE do modelo árvore de decisão usando max_leaf_nodes=59 e max_depth=20 foi de 0.000004 porcentagem de diabéticos por milhar (normalizado).\n",
            "O RMSE do modelo árvore de decisão usando max_leaf_nodes=60 e max_depth=None foi de 0.000004 porcentagem de diabéticos por milhar (normalizado).\n",
            "O RMSE do modelo árvore de decisão usando max_leaf_nodes=60 e max_depth=3 foi de 0.000006 porcentagem de diabéticos por milhar (normalizado).\n",
            "O RMSE do modelo árvore de decisão usando max_leaf_nodes=60 e max_depth=4 foi de 0.000006 porcentagem de diabéticos por milhar (normalizado).\n",
            "O RMSE do modelo árvore de decisão usando max_leaf_nodes=60 e max_depth=5 foi de 0.000004 porcentagem de diabéticos por milhar (normalizado).\n",
            "O RMSE do modelo árvore de decisão usando max_leaf_nodes=60 e max_depth=6 foi de 0.000004 porcentagem de diabéticos por milhar (normalizado).\n",
            "O RMSE do modelo árvore de decisão usando max_leaf_nodes=60 e max_depth=7 foi de 0.000004 porcentagem de diabéticos por milhar (normalizado).\n",
            "O RMSE do modelo árvore de decisão usando max_leaf_nodes=60 e max_depth=8 foi de 0.000004 porcentagem de diabéticos por milhar (normalizado).\n",
            "O RMSE do modelo árvore de decisão usando max_leaf_nodes=60 e max_depth=9 foi de 0.000004 porcentagem de diabéticos por milhar (normalizado).\n",
            "O RMSE do modelo árvore de decisão usando max_leaf_nodes=60 e max_depth=10 foi de 0.000004 porcentagem de diabéticos por milhar (normalizado).\n",
            "O RMSE do modelo árvore de decisão usando max_leaf_nodes=60 e max_depth=11 foi de 0.000004 porcentagem de diabéticos por milhar (normalizado).\n",
            "O RMSE do modelo árvore de decisão usando max_leaf_nodes=60 e max_depth=12 foi de 0.000004 porcentagem de diabéticos por milhar (normalizado).\n",
            "O RMSE do modelo árvore de decisão usando max_leaf_nodes=60 e max_depth=13 foi de 0.000004 porcentagem de diabéticos por milhar (normalizado).\n",
            "O RMSE do modelo árvore de decisão usando max_leaf_nodes=60 e max_depth=14 foi de 0.000004 porcentagem de diabéticos por milhar (normalizado).\n",
            "O RMSE do modelo árvore de decisão usando max_leaf_nodes=60 e max_depth=15 foi de 0.000004 porcentagem de diabéticos por milhar (normalizado).\n",
            "O RMSE do modelo árvore de decisão usando max_leaf_nodes=60 e max_depth=16 foi de 0.000004 porcentagem de diabéticos por milhar (normalizado).\n",
            "O RMSE do modelo árvore de decisão usando max_leaf_nodes=60 e max_depth=17 foi de 0.000004 porcentagem de diabéticos por milhar (normalizado).\n",
            "O RMSE do modelo árvore de decisão usando max_leaf_nodes=60 e max_depth=18 foi de 0.000004 porcentagem de diabéticos por milhar (normalizado).\n",
            "O RMSE do modelo árvore de decisão usando max_leaf_nodes=60 e max_depth=19 foi de 0.000004 porcentagem de diabéticos por milhar (normalizado).\n",
            "O RMSE do modelo árvore de decisão usando max_leaf_nodes=60 e max_depth=20 foi de 0.000004 porcentagem de diabéticos por milhar (normalizado).\n"
          ]
        }
      ],
      "source": [
        "from itertools import product\n",
        "\n",
        "num_folhas = list(range(30,61))\n",
        "num_profundidade = list(range(3, 21))\n",
        "\n",
        "NUM_FOLHAS = [None, 4]\n",
        "NUM_PROFUNDIDADE = [None]\n",
        "\n",
        "for nu_folhas in num_folhas:\n",
        "    NUM_FOLHAS.append(nu_folhas)\n",
        "for nu_profundidade in num_profundidade:\n",
        "    NUM_PROFUNDIDADE.append(nu_profundidade)\n",
        "    \n",
        "combinacoes = []\n",
        "for i in NUM_PROFUNDIDADE:\n",
        "    for j in NUM_FOLHAS:\n",
        "        tupla = (j, i)\n",
        "        combinacoes.append(tupla)\n",
        "    \n",
        "RMSEs_dt = []\n",
        "\n",
        "for n_folhas, n_profundidade in product(NUM_FOLHAS, NUM_PROFUNDIDADE):\n",
        "    modelo_dt = DecisionTreeRegressor(\n",
        "        max_leaf_nodes=n_folhas,\n",
        "        max_depth=n_profundidade,\n",
        "        splitter=\"best\",\n",
        "        random_state=Semente_Aleatoria,\n",
        "    )\n",
        "\n",
        "    modelo_dt.fit(X_treino, y_treino)\n",
        "\n",
        "    y_verdadeiro = y_teste\n",
        "    y_previsao = modelo_dt.predict(X_teste)\n",
        "    RMSE = mean_squared_error(y_verdadeiro, y_previsao, squared=False)\n",
        "    RMSEs_dt.append(RMSE)\n",
        "\n",
        "    print(\n",
        "        f\"O RMSE do modelo árvore de decisão usando max_leaf_nodes={n_folhas} \"\n",
        "        f\"e max_depth={n_profundidade} foi de {RMSE:8f} porcentagem de diabéticos por milhar (normalizado).\"\n",
        "    )"
      ]
    },
    {
      "cell_type": "code",
      "execution_count": null,
      "metadata": {
        "id": "qeuBGpyoTTOX",
        "colab": {
          "base_uri": "https://localhost:8080/",
          "height": 926
        },
        "outputId": "33ea3d0b-7d9e-49df-ed5a-29232b751b33"
      },
      "outputs": [
        {
          "output_type": "display_data",
          "data": {
            "text/plain": [
              "<Figure size 1500x1200 with 1 Axes>"
            ],
            "image/png": "[encoded data removed]"
          },
          "metadata": {
            "needs_background": "light"
          }
        }
      ],
      "source": [
        "from matplotlib import pyplot as plt\n",
        "from sklearn import tree\n",
        "\n",
        "# cria e treina o modelo\n",
        "modelo_dt = DecisionTreeRegressor(\n",
        "    max_leaf_nodes=10,\n",
        "    random_state=Semente_Aleatoria,\n",
        ")\n",
        "modelo_dt.fit(X_treino, y_treino)\n",
        "\n",
        "# cria os objetos de figura e eixo\n",
        "fig, axe = plt.subplots(\n",
        "    ncols=1,\n",
        "    nrows=1,\n",
        "    figsize=(10, 8),\n",
        "    dpi=150,\n",
        ")\n",
        "\n",
        "# plota o grafo da árvore de decisão\n",
        "tree.plot_tree(\n",
        "    modelo_dt,\n",
        "    feature_names=features,\n",
        "    ax=axe,\n",
        "    impurity=False,\n",
        "    filled=True,\n",
        "    proportion=True,\n",
        "    precision=8,\n",
        ")\n",
        "\n",
        "# mostra o plot para o usuário\n",
        "plt.show()"
      ]
    },
    {
      "cell_type": "code",
      "execution_count": null,
      "metadata": {
        "id": "LhgsiHhTwLFy",
        "colab": {
          "base_uri": "https://localhost:8080/"
        },
        "outputId": "1e81c8ef-1f95-4b22-db3a-5deb65ea1001"
      },
      "outputs": [
        {
          "output_type": "stream",
          "name": "stdout",
          "text": [
            "|--- kcal_medio <= 2420.50000000\n",
            "|   |--- kcal_medio <= 2392.50000000\n",
            "|   |   |--- populacao_geral <= 15600262.50000000\n",
            "|   |   |   |--- value: [0.00001222]\n",
            "|   |   |--- populacao_geral >  15600262.50000000\n",
            "|   |   |   |--- value: [0.00002321]\n",
            "|   |--- kcal_medio >  2392.50000000\n",
            "|   |   |--- per_crian_cinc_soprep <= 11.34999990\n",
            "|   |   |   |--- value: [0.00004520]\n",
            "|   |   |--- per_crian_cinc_soprep >  11.34999990\n",
            "|   |   |   |--- diabeticos <= 1455.04998779\n",
            "|   |   |   |   |--- value: [0.00003330]\n",
            "|   |   |   |--- diabeticos >  1455.04998779\n",
            "|   |   |   |   |--- value: [0.00003878]\n",
            "|--- kcal_medio >  2420.50000000\n",
            "|   |--- idh <= 0.82400000\n",
            "|   |   |--- ano <= 2010.50000000\n",
            "|   |   |   |--- value: [0.00005990]\n",
            "|   |   |--- ano >  2010.50000000\n",
            "|   |   |   |--- idh <= 0.75450000\n",
            "|   |   |   |   |--- value: [0.00006506]\n",
            "|   |   |   |--- idh >  0.75450000\n",
            "|   |   |   |   |--- value: [0.00007150]\n",
            "|   |--- idh >  0.82400000\n",
            "|   |   |--- ano <= 2016.00000000\n",
            "|   |   |   |--- value: [0.00007858]\n",
            "|   |   |--- ano >  2016.00000000\n",
            "|   |   |   |--- value: [0.00008650]\n",
            "\n"
          ]
        }
      ],
      "source": [
        "from sklearn.tree import export_text\n",
        "\n",
        "texto_dt = export_text(\n",
        "    modelo_dt,\n",
        "    feature_names=features,\n",
        "    decimals=8,\n",
        ")\n",
        "\n",
        "print(texto_dt)"
      ]
    },
    {
      "cell_type": "code",
      "execution_count": null,
      "metadata": {
        "id": "SEFrRp4cBhHp",
        "colab": {
          "base_uri": "https://localhost:8080/"
        },
        "outputId": "3e6be2ad-d790-4a9f-df3e-c2383cec86c7"
      },
      "outputs": [
        {
          "output_type": "stream",
          "name": "stdout",
          "text": [
            "O MSE da árvore de decisão normalizada foi de 1.545108909199807e-11\n"
          ]
        }
      ],
      "source": [
        "#A métrica MSE consiste em elevar o valor do RMSE, portanto,\n",
        "\n",
        "MSE_arv_dec_norm = (RMSE)**2\n",
        "\n",
        "print(\"O MSE da árvore de decisão normalizada foi de\", MSE_arv_dec_norm)"
      ]
    },
    {
      "cell_type": "code",
      "source": [
        "from sklearn.inspection import permutation_importance\n",
        "\n",
        "N_REPETICOES = 10\n",
        "\n",
        "\n",
        "def R2_1param_dt(modelo, x, y):\n",
        "    \"\"\"Computa o coef. de determinação quando hip. alt. não tem coef. linear.\"\"\"\n",
        "    y_pred_dt = modelo.predict(x).ravel()\n",
        "    y_true_dt = (np.array(y)).ravel()\n",
        "    return 1 - sum((y_true_dt - y_pred_dt) ** 2) / sum(y_true_dt**2)\n",
        "\n",
        "\n",
        "X_local_dt = X_treino\n",
        "y_local_dt = y_treino\n",
        "\n",
        "R2_dt = R2_1param_dt(modelo_dt, X_local_dt, y_local_dt)\n",
        "print(f\"O R^2 da previsão é de {R2_dt}\")\n",
        "\n",
        "# Aqui que calculamos a importância das features\n",
        "r_dt = permutation_importance(\n",
        "    modelo_dt,\n",
        "    X_local_dt,\n",
        "    y_local_dt,\n",
        "    n_repeats=N_REPETICOES,\n",
        "    random_state=Semente_Aleatoria,\n",
        "    scoring=R2_1param_dt,\n",
        ")\n",
        "\n",
        "print()\n",
        "\n",
        "# Aqui nós exibimos os resultados obtidos\n",
        "for i in r_dt.importances_mean.argsort()[::-1]:\n",
        "    if r_dt.importances_mean[i] - 2 * r_dt.importances_std[i] > 0:\n",
        "        print(f\"{features[i]:<8}\"\n",
        "              f\"{r_dt.importances_mean[i]:.8f}\"\n",
        "              f\" +/- {r_dt.importances_std[i]:.8f}\")"
      ],
      "metadata": {
        "id": "QIzqz_LhUHtR",
        "colab": {
          "base_uri": "https://localhost:8080/"
        },
        "outputId": "a61def79-e470-4dd8-e75b-d5a2e1222558"
      },
      "execution_count": null,
      "outputs": [
        {
          "output_type": "stream",
          "name": "stdout",
          "text": [
            "O R^2 da previsão é de 0.9974789266893591\n",
            "\n",
            "kcal_medio0.21496187 +/- 0.03543050\n",
            "idh     0.01347926 +/- 0.00344016\n",
            "per_crian_cinc_soprep0.00588370 +/- 0.00180117\n",
            "ano     0.00536964 +/- 0.00142468\n",
            "populacao_geral0.00171107 +/- 0.00009450\n",
            "diabeticos0.00136490 +/- 0.00031524\n"
          ]
        }
      ]
    },
    {
      "cell_type": "code",
      "source": [
        "X_local_t_dt = X_teste\n",
        "y_local_t_dt = y_teste\n",
        "\n",
        "R2_t_dt = R2_1param_dt(modelo_dt, X_local_t_dt, y_local_t_dt)\n",
        "print(f\"O R^2 da previsão é de {R2_t_dt}\")\n",
        "\n",
        "# Aqui que calculamos a importância das features\n",
        "r_dt = permutation_importance(\n",
        "    modelo_dt,\n",
        "    X_local_t_dt,\n",
        "    y_local_t_dt,\n",
        "    n_repeats=N_REPETICOES,\n",
        "    random_state=Semente_Aleatoria,\n",
        "    scoring=R2_1param_dt,\n",
        ")\n",
        "\n",
        "print()\n",
        "\n",
        "# Aqui nós exibimos os resultados obtidos\n",
        "for i in r_dt.importances_mean.argsort()[::-1]:\n",
        "    if r_dt.importances_mean[i] - 2 * r_dt.importances_std[i] > 0:\n",
        "        print(f\"{features[i]:<8}\"\n",
        "              f\"{r_dt.importances_mean[i]:.8f}\"\n",
        "              f\" +/- {r_dt.importances_std[i]:.8f}\")"
      ],
      "metadata": {
        "colab": {
          "base_uri": "https://localhost:8080/"
        },
        "id": "t2nXNyLgHnac",
        "outputId": "6f5b042c-b385-4b88-9625-ef9142edd805"
      },
      "execution_count": null,
      "outputs": [
        {
          "output_type": "stream",
          "name": "stdout",
          "text": [
            "O R^2 da previsão é de 0.9908659733542596\n",
            "\n",
            "kcal_medio0.18971026 +/- 0.08936033\n",
            "per_crian_cinc_soprep0.01379863 +/- 0.00534625\n",
            "ano     0.00914363 +/- 0.00333661\n"
          ]
        }
      ]
    },
    {
      "cell_type": "code",
      "source": [],
      "metadata": {
        "id": "acjr8gz-H0WJ"
      },
      "execution_count": null,
      "outputs": []
    },
    {
      "cell_type": "markdown",
      "source": [
        "#### **Floresta de decisões**"
      ],
      "metadata": {
        "id": "n539tVRNNQhY"
      }
    },
    {
      "cell_type": "code",
      "source": [
        "from sklearn.ensemble import RandomForestRegressor\n",
        "\n",
        "# Alterando o formato do target\n",
        "\n",
        "print(y_treino.shape, y_teste.shape)\n",
        "y_treino = y_treino.ravel()\n",
        "y_teste = y_teste.ravel()\n",
        "print(y_treino.shape, y_teste.shape)\n",
        "\n",
        "# Cria o modelo\n",
        "modelo_rf = RandomForestRegressor(random_state = Semente_Aleatoria)\n",
        "\n",
        "# treino o modelo\n",
        "modelo_rf.fit(X_treino, y_treino)\n",
        "\n",
        "#realiza uma previsão usando o modelo treinado\n",
        "previsão = modelo_rf.predict(X_teste)\n",
        "print()\n",
        "print(previsão)"
      ],
      "metadata": {
        "id": "cqsoWJXCN3VA",
        "colab": {
          "base_uri": "https://localhost:8080/"
        },
        "outputId": "bef8fc0e-e61d-4aa5-e7fc-ecfca1041fde"
      },
      "execution_count": null,
      "outputs": [
        {
          "output_type": "stream",
          "name": "stdout",
          "text": [
            "(51, 1) (9, 1)\n",
            "(51,) (9,)\n",
            "\n",
            "[8.36160207e-05 6.17553300e-05 4.92166294e-05 2.35728693e-05\n",
            " 7.20414585e-05 3.71682279e-05 6.89638565e-05 2.22654753e-05\n",
            " 2.90267692e-05]\n"
          ]
        }
      ]
    },
    {
      "cell_type": "code",
      "source": [
        "from sklearn.metrics import mean_squared_error\n",
        "\n",
        "y_verdadeiro = y_verdadeiro\n",
        "y_previsao = modelo_rf.predict(X_teste)\n",
        "\n",
        "RMSE_floresta = mean_squared_error(y_verdadeiro, y_previsao, squared=False)\n",
        "\n",
        "print(f\"O RMSE do modelo floresta de decisão foi de {RMSE_floresta}\")"
      ],
      "metadata": {
        "id": "0gwQGe8CNXoF",
        "colab": {
          "base_uri": "https://localhost:8080/"
        },
        "outputId": "0dbb6d9f-36bc-42e5-8423-77dcc741d20b"
      },
      "execution_count": null,
      "outputs": [
        {
          "output_type": "stream",
          "name": "stdout",
          "text": [
            "O RMSE do modelo floresta de decisão foi de 4.681965224262618e-06\n"
          ]
        }
      ]
    },
    {
      "cell_type": "markdown",
      "source": [
        "------\n",
        "Partindo análise dos resultados obtidos acima, é possível chegar a conclusão de que o menor erro provém da floresta com 305 árvores, com o número de folhas igual a none  e profundidade sendo igual a 8."
      ],
      "metadata": {
        "id": "bI24fCu9DG_f"
      }
    },
    {
      "cell_type": "markdown",
      "source": [
        "#### **Definindo os hiperparâmetros:**"
      ],
      "metadata": {
        "id": "pfscfblfU2YT"
      }
    },
    {
      "cell_type": "code",
      "source": [
        "from itertools import product\n",
        "\n",
        "Num_arvores = [15, 225, 305] #Número de árvores\n",
        "Num_folhas = [None, 5] #Número de folhas nas árvores\n",
        "Num_profundidade = [None, 8] #Número de profundidade\n",
        "\n",
        "for n_folhas, n_profundidade, n_arvores in product(\n",
        "    Num_folhas, Num_profundidade, Num_arvores\n",
        "):\n",
        "  modelo_rf = RandomForestRegressor(\n",
        "      n_estimators = n_arvores,\n",
        "      max_leaf_nodes = n_folhas,\n",
        "      max_depth = n_profundidade,\n",
        "      random_state = Semente_Aleatoria,\n",
        "      n_jobs=4,\n",
        "  )\n",
        "\n",
        "  modelo_rf.fit(X_treino, y_treino)\n",
        "\n",
        "  y_verdadeiro = y_teste\n",
        "  y_previsao = modelo_rf.predict(X_teste)\n",
        "\n",
        "  RMSE_floresta_hip = mean_squared_error(y_verdadeiro, y_previsao, squared=False)\n",
        "\n",
        "  print(\n",
        "      f\"O RMSE do modelo RF usando \"\n",
        "      f\"n_estimators={n_arvores} max_leaf_nodes={n_folhas}\"\n",
        "      f\"e max_depth={n_profundidade} foi de {RMSE_floresta_hip:.12f}\"\n",
        "  )"
      ],
      "metadata": {
        "id": "zfn_B26HU6cf",
        "colab": {
          "base_uri": "https://localhost:8080/"
        },
        "outputId": "78acdcd5-62c6-4897-9a05-13b4dc64e8be"
      },
      "execution_count": null,
      "outputs": [
        {
          "output_type": "stream",
          "name": "stdout",
          "text": [
            "O RMSE do modelo RF usando n_estimators=15 max_leaf_nodes=Nonee max_depth=None foi de 0.000004687157\n",
            "O RMSE do modelo RF usando n_estimators=225 max_leaf_nodes=Nonee max_depth=None foi de 0.000004488521\n",
            "O RMSE do modelo RF usando n_estimators=300 max_leaf_nodes=Nonee max_depth=None foi de 0.000004438302\n",
            "O RMSE do modelo RF usando n_estimators=15 max_leaf_nodes=Nonee max_depth=8 foi de 0.000004687157\n",
            "O RMSE do modelo RF usando n_estimators=225 max_leaf_nodes=Nonee max_depth=8 foi de 0.000004489079\n",
            "O RMSE do modelo RF usando n_estimators=300 max_leaf_nodes=Nonee max_depth=8 foi de 0.000004431181\n",
            "O RMSE do modelo RF usando n_estimators=15 max_leaf_nodes=5e max_depth=None foi de 0.000005929510\n",
            "O RMSE do modelo RF usando n_estimators=225 max_leaf_nodes=5e max_depth=None foi de 0.000005224587\n",
            "O RMSE do modelo RF usando n_estimators=300 max_leaf_nodes=5e max_depth=None foi de 0.000005247976\n",
            "O RMSE do modelo RF usando n_estimators=15 max_leaf_nodes=5e max_depth=8 foi de 0.000005929510\n",
            "O RMSE do modelo RF usando n_estimators=225 max_leaf_nodes=5e max_depth=8 foi de 0.000005224587\n",
            "O RMSE do modelo RF usando n_estimators=300 max_leaf_nodes=5e max_depth=8 foi de 0.000005247976\n"
          ]
        }
      ]
    },
    {
      "cell_type": "markdown",
      "source": [
        "### Avaliando a importância dos features:"
      ],
      "metadata": {
        "id": "jFf9BpPcC8jF"
      }
    },
    {
      "cell_type": "code",
      "source": [
        "\n",
        "import numpy as np \n",
        "\n",
        "importancia = modelo_rf.feature_importances_\n",
        "desvio_padrao = np.std(\n",
        "    [arvore.feature_importances_ for arvore in modelo_rf.estimators_], axis=0\n",
        ")\n",
        "\n",
        "serie_importancia = pd.Series(importancia, index= features)\n",
        "\n",
        "fig, axe = plt.subplots()\n",
        "serie_importancia.plot.bar(yerr=desvio_padrao, ax=axe)\n",
        "axe.set_ylabel(\"Redução média da impureza\")\n",
        "plt.show()"
      ],
      "metadata": {
        "id": "wvqi4zCHZT6T",
        "colab": {
          "base_uri": "https://localhost:8080/",
          "height": 366
        },
        "outputId": "00cd30d3-4566-4b9c-dbfa-48462fca4750"
      },
      "execution_count": null,
      "outputs": [
        {
          "output_type": "display_data",
          "data": {
            "text/plain": [
              "<Figure size 432x288 with 1 Axes>"
            ],
            "image/png": "[encoded data removed]"
          },
          "metadata": {
            "needs_background": "light"
          }
        }
      ]
    },
    {
      "cell_type": "markdown",
      "source": [
        "Pela análise do gráfico é possível perceber que a feature de kcal médio consumido é tem a importância mais relevante no treino. Algo bom de se perceber é a baixa relevância na designação dos países, o que já era de se esperar."
      ],
      "metadata": {
        "id": "DE_-pBQ4DBdV"
      }
    },
    {
      "cell_type": "markdown",
      "source": [
        "##### Análise usando os dados de treino:"
      ],
      "metadata": {
        "id": "InLspdDNDKfQ"
      }
    },
    {
      "cell_type": "code",
      "source": [
        "\n",
        "from sklearn.inspection import permutation_importance\n",
        "\n",
        "N_REPETICOES = 10\n",
        "\n",
        "\n",
        "def R2_1param(modelo, x, y):\n",
        "    \"\"\"Computa o coef. de determinação quando hip. alt. não tem coef. linear.\"\"\"\n",
        "    y_pred = modelo.predict(x).ravel()\n",
        "    y_true = (np.array(y)).ravel()\n",
        "    return 1 - sum((y_true - y_pred) ** 2) / sum(y_true**2)\n",
        "\n",
        "\n",
        "X_local = X_treino\n",
        "y_local = y_treino\n",
        "\n",
        "R2 = R2_1param(modelo_rf, X_local, y_local)\n",
        "print(f\"O R^2 da previsão é de {R2}\")\n",
        "\n",
        "# Aqui que calculamos a importância das features\n",
        "r = permutation_importance(\n",
        "    modelo_rf,\n",
        "    X_local,\n",
        "    y_local,\n",
        "    n_repeats = N_REPETICOES,\n",
        "    random_state = Semente_Aleatoria,\n",
        "    scoring=R2_1param,\n",
        ")\n",
        "\n",
        "print()\n",
        "\n",
        "# Aqui nós exibimos os resultados obtidos\n",
        "for i in r.importances_mean.argsort()[::-1]:\n",
        "    if r.importances_mean[i] - 2 * r.importances_std[i] > 0:\n",
        "        print(f\"{features[i]:<8}\"\n",
        "              f\"{r.importances_mean[i]:.12f}\"\n",
        "              f\" +/- {r.importances_std[i]:.12f}\")"
      ],
      "metadata": {
        "id": "j0guaWPaDDzM",
        "colab": {
          "base_uri": "https://localhost:8080/"
        },
        "outputId": "8c3c0021-8163-400b-a52c-b5240103defc"
      },
      "execution_count": null,
      "outputs": [
        {
          "output_type": "stream",
          "name": "stdout",
          "text": [
            "O R^2 da previsão é de 0.9952021908390783\n",
            "\n",
            "kcal_medio0.222459699513 +/- 0.037373822032\n",
            "idh     0.009935807980 +/- 0.001863920480\n",
            "ano     0.005372968751 +/- 0.000838395811\n",
            "per_crian_cinc_soprep0.000907833782 +/- 0.000261794991\n",
            "diabeticos0.000263930219 +/- 0.000042960799\n",
            "populacao_geral0.000250964523 +/- 0.000054170328\n",
            "Argentina0.000032399170 +/- 0.000015254069\n",
            "Brasil  0.000006113253 +/- 0.000002814116\n"
          ]
        }
      ]
    },
    {
      "cell_type": "markdown",
      "source": [
        "-------\n",
        "Pela análise da métrica R^2 pode-se perceber que o modelo da árvore de decisões está muito melhor que o baseline chegando a um valor próximo de 1. Ademais, pela análise dos features, repete-se o fato de que o as kcal consumidas em média pelas pessoas tem a maior importância."
      ],
      "metadata": {
        "id": "Fo0vfnIFDPt3"
      }
    },
    {
      "cell_type": "markdown",
      "source": [
        "##### Análise usando os dados de teste (generalização do modelo):\n"
      ],
      "metadata": {
        "id": "f6WI9oDJDVCP"
      }
    },
    {
      "cell_type": "code",
      "source": [
        "X_local = X_teste\n",
        "y_local = y_teste\n",
        "\n",
        "R2 = R2_1param(modelo_rf, X_local, y_local)\n",
        "print(f\"O R^2 da previsão é de {R2}\")\n",
        "\n",
        "# Aqui que calculamos a importância das features\n",
        "r = permutation_importance(\n",
        "    modelo_rf,\n",
        "    X_local,\n",
        "    y_local,\n",
        "    n_repeats=N_REPETICOES,\n",
        "    random_state=Semente_Aleatoria,\n",
        "    scoring=R2_1param,\n",
        ")\n",
        "\n",
        "print()\n",
        "\n",
        "# Aqui nós exibimos os resultados obtidos\n",
        "for i in r.importances_mean.argsort()[::-1]:\n",
        "    if r.importances_mean[i] - 2 * r.importances_std[i] > 0:\n",
        "        print(f\"{features[i]:<8}\"\n",
        "              f\"{r.importances_mean[i]:.3f}\"\n",
        "              f\" +/- {r.importances_std[i]:.3f}\")"
      ],
      "metadata": {
        "id": "OsHg1gf0DSOl",
        "colab": {
          "base_uri": "https://localhost:8080/"
        },
        "outputId": "b0cd5983-f616-4259-a01f-3b588e246371"
      },
      "execution_count": null,
      "outputs": [
        {
          "output_type": "stream",
          "name": "stdout",
          "text": [
            "O R^2 da previsão é de 0.9907410855135198\n",
            "\n",
            "kcal_medio0.201 +/- 0.084\n"
          ]
        }
      ]
    },
    {
      "cell_type": "markdown",
      "source": [
        "------------\n",
        "Aqui pode-se perceber que o modelo não está sofrendo sobreajuste, pois não há grades diferenças nos valores levantados na análise dos dados de treino e de teste."
      ],
      "metadata": {
        "id": "l-3zTLAsDa4L"
      }
    },
    {
      "cell_type": "markdown",
      "source": [
        "#### Algo muito importante na ciência de dados é o tempo que cada código leva para rodar, e quanto menor esse tempo, cruzadamente com o valor do erro estimado, devem propor o melhor modelo possível. Sendo assim a baixo foi feito o cálculo do tempo levado para o código revelar a importância das features."
      ],
      "metadata": {
        "id": "Tpzb3MXtJW81"
      }
    },
    {
      "cell_type": "code",
      "source": [
        "from sklearn.inspection import permutation_importance\n",
        "import time\n",
        "\n",
        "start_time = time.time()\n",
        "result = permutation_importance(\n",
        "    modelo_rf, X_teste, y_teste, n_repeats=10, random_state=42, n_jobs=2\n",
        ")\n",
        "elapsed_time = time.time() - start_time\n",
        "print(f\"Elapsed time to compute the importances: {elapsed_time:.3f} seconds\")\n",
        "\n",
        "forest_importances = pd.Series(result.importances_mean, index=features)"
      ],
      "metadata": {
        "id": "cF7k3zSgJ11_",
        "colab": {
          "base_uri": "https://localhost:8080/"
        },
        "outputId": "80cabbe4-eafd-4e15-cbe8-f88883a6e248"
      },
      "execution_count": null,
      "outputs": [
        {
          "output_type": "stream",
          "name": "stdout",
          "text": [
            "Elapsed time to compute the importances: 6.809 seconds\n"
          ]
        }
      ]
    },
    {
      "cell_type": "markdown",
      "source": [
        "#### **Comparando os desempenhos dos modelos de regressão**"
      ],
      "metadata": {
        "id": "lxMOsmBbOh7Z"
      }
    },
    {
      "cell_type": "markdown",
      "source": [
        "Dentre todos os modelos treinados, o que se saiu melhor foi o modelo de árvore de decisão, em que os valores de R^2 de teste e de treino foram os mais próximos de 1.\\\n",
        "Os hiperparâmetros da arvore de decisão que testamos e geraram o melhor resultado foram: \n",
        "- max_leaf_nodes - 41\n",
        "- max_depth - 7\n",
        "- splitter - \"best\"\n",
        "\n",
        "O modelo de floresta de decisões foi o segundo melhor, tendo apenas uma pequena diferença entre o primeiro citado, o que  nos surpreendeu, pois esperávamos que a floresta de decisões, por ser mais complexa, gerasse o melhor resultado.\\\n",
        "Os hiperparâmetros da floresta de decisões que testamos e geraram o melhor resultado foram: \n",
        "- Profundidade - 8 \n",
        "- Número de árvores - 305 \n",
        "- Número de ramos - 5 "
      ],
      "metadata": {
        "id": "peOM7C5BOast"
      }
    },
    {
      "cell_type": "markdown",
      "source": [
        "#### **Treinando um Classificador com KNN**"
      ],
      "metadata": {
        "id": "9fxKHbSl2SHU"
      }
    },
    {
      "cell_type": "code",
      "source": [
        "''''\n",
        "from sklearn.model_selection import train_test_split\n",
        "\n",
        "Tam_Teste = 0.15\n",
        "Semente_Aleatoria = 623119\n",
        "dataset_name = \"df_atualizado\"\n",
        "features = ['ano', 'idh', 'populacao_geral', 'per_crian_cinc_soprep',\n",
        "       'kcal_medio', 'diabeticos', 'Argentina', 'Brasil','Chile']\n",
        "target = ['diabetes_normalizado']\n",
        "\n",
        "\n",
        "indices = df_atualizado.index\n",
        "indices_treino, indices_teste = train_test_split(indices, test_size = Tam_Teste, random_state=Semente_Aleatoria)\n",
        "\n",
        "df_treino = df_atualizado.loc[indices_treino]\n",
        "df_teste = df_atualizado.loc[indices_teste]\n",
        "\n",
        "X_treino = df_treino.reindex(features, axis=1).values\n",
        "y_treino = df_treino.reindex(target, axis=1).values.ravel()\n",
        "X_teste = df_teste.reindex(features, axis=1).values\n",
        "y_teste = df_teste.reindex(target, axis=1).values.ravel()\n",
        "\n",
        "print(\"Treino:\")\n",
        "print(df_treino)\n",
        "print()\n",
        "print(\"Teste:\")\n",
        "print(df_teste)\n",
        "'''"
      ],
      "metadata": {
        "id": "20eWbkdU2csh",
        "colab": {
          "base_uri": "https://localhost:8080/",
          "height": 122
        },
        "outputId": "298fc1e1-b3bb-4e28-e65d-b11b21a2757c"
      },
      "execution_count": null,
      "outputs": [
        {
          "output_type": "execute_result",
          "data": {
            "text/plain": [
              "'\\'\\nfrom sklearn.model_selection import train_test_split\\n\\nTam_Teste = 0.15\\nSemente_Aleatoria = 623119\\ndataset_name = \"df_atualizado\"\\nfeatures = [\\'ano\\', \\'idh\\', \\'populacao_geral\\', \\'per_crian_cinc_soprep\\',\\n       \\'kcal_medio\\', \\'diabeticos\\', \\'Argentina\\', \\'Brasil\\',\\'Chile\\']\\ntarget = [\\'diabetes_normalizado\\']\\n\\n\\nindices = df_atualizado.index\\nindices_treino, indices_teste = train_test_split(indices, test_size = Tam_Teste, random_state=Semente_Aleatoria)\\n\\ndf_treino = df_atualizado.loc[indices_treino]\\ndf_teste = df_atualizado.loc[indices_teste]\\n\\nX_treino = df_treino.reindex(features, axis=1).values\\ny_treino = df_treino.reindex(target, axis=1).values.ravel()\\nX_teste = df_teste.reindex(features, axis=1).values\\ny_teste = df_teste.reindex(target, axis=1).values.ravel()\\n\\nprint(\"Treino:\")\\nprint(df_treino)\\nprint()\\nprint(\"Teste:\")\\nprint(df_teste)\\n'"
            ],
            "application/vnd.google.colaboratory.intrinsic+json": {
              "type": "string"
            }
          },
          "metadata": {},
          "execution_count": 53
        }
      ]
    },
    {
      "cell_type": "code",
      "source": [
        "from sklearn import preprocessing\n",
        "from sklearn import utils\n",
        "\n",
        "#convert y values to categorical values\n",
        "lab = preprocessing.LabelEncoder()\n",
        "y_transformed = lab.fit_transform(y_treino)\n",
        "'''\n",
        "#view transformed values\n",
        "print(y_transformed)\n",
        "'''"
      ],
      "metadata": {
        "id": "OX_b2SHc2UNG",
        "colab": {
          "base_uri": "https://localhost:8080/",
          "height": 35
        },
        "outputId": "4fa407af-a463-4040-8514-7074d479aa4e"
      },
      "execution_count": null,
      "outputs": [
        {
          "output_type": "execute_result",
          "data": {
            "text/plain": [
              "'\\n#view transformed values\\nprint(y_transformed)\\n'"
            ],
            "application/vnd.google.colaboratory.intrinsic+json": {
              "type": "string"
            }
          },
          "metadata": {},
          "execution_count": 54
        }
      ]
    },
    {
      "cell_type": "code",
      "source": [
        "from sklearn.neighbors import KNeighborsClassifier\n",
        "\n",
        "# criando o modelo:\n",
        "modelo_knn = KNeighborsClassifier()\n",
        "\n",
        "#treinando o modelo:\n",
        "modelo_knn.fit(X_treino, y_transformed)\n",
        "\n",
        "# realizando uma previsão usando o modelo treinado:\n",
        "previsao = modelo_knn.predict(X_teste)\n",
        "print(previsao)"
      ],
      "metadata": {
        "id": "91_IGj9K2XQS",
        "colab": {
          "base_uri": "https://localhost:8080/"
        },
        "outputId": "c46e32f6-103c-49b1-883b-4e10ef3889c9"
      },
      "execution_count": null,
      "outputs": [
        {
          "output_type": "stream",
          "name": "stdout",
          "text": [
            "[45 26 15  4 38 13 35  2  1]\n"
          ]
        }
      ]
    },
    {
      "cell_type": "code",
      "source": [],
      "metadata": {
        "id": "7wl0BN942ZuO"
      },
      "execution_count": null,
      "outputs": []
    }
  ],
  "metadata": {
    "colab": {
      "collapsed_sections": [
        "w8LMHclFCI2g",
        "vRCIE8jv8C1s",
        "LbgyWeSiLDDm"
      ],
      "provenance": [],
      "include_colab_link": true
    },
    "kernelspec": {
      "display_name": "Python 3",
      "name": "python3"
    },
    "language_info": {
      "name": "python"
    }
  },
  "nbformat": 4,
  "nbformat_minor": 0
}