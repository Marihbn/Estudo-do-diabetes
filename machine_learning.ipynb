{
  "nbformat": 4,
  "nbformat_minor": 0,
  "metadata": {
    "colab": {
      "name": "machine_learning.ipynb",
      "provenance": [],
      "collapsed_sections": [],
      "include_colab_link": true
    },
    "kernelspec": {
      "name": "python3",
      "display_name": "Python 3"
    },
    "language_info": {
      "name": "python"
    }
  },
  "cells": [
    {
      "cell_type": "markdown",
      "metadata": {
        "id": "view-in-github",
        "colab_type": "text"
      },
      "source": [
        "<a href=\"https://colab.research.google.com/github/barbaraperez/Estudo-do-diabetes/blob/main/machine_learning.ipynb\" target=\"_parent\"><img src=\"https://colab.research.google.com/assets/colab-badge.svg\" alt=\"Open In Colab\"/></a>"
      ]
    },
    {
      "cell_type": "markdown",
      "source": [
        "Configurações i:"
      ],
      "metadata": {
        "id": "OUfshbhZ2PXd"
      }
    },
    {
      "cell_type": "code",
      "execution_count": null,
      "metadata": {
        "id": "NOv82S-GQtjh"
      },
      "outputs": [],
      "source": [
        "## importando bibliotecas principais\n",
        "import pandas as pd \n",
        "import matplotlib.pyplot as plt\n",
        "import seaborn as sns\n"
      ]
    },
    {
      "cell_type": "code",
      "source": [
        "url = \"https://github.com/barbaraperez/Estudo-do-diabetes/blob/main/datateste_diabetes1.4.xlsx?raw=true\" # salva o link da nossa tabela de dados armazenados em arquivo xlsx no github em uma variável\n",
        "df = pd.read_excel(url, header=0) #pede para o pandas criar um dataframe com esses dados"
      ],
      "metadata": {
        "id": "GMJ7YISJxilp"
      },
      "execution_count": null,
      "outputs": []
    },
    {
      "cell_type": "code",
      "source": [
        "print(df.shape) ## número de linhas e colunas dos nossos dados"
      ],
      "metadata": {
        "colab": {
          "base_uri": "https://localhost:8080/"
        },
        "id": "jXVSBNXH4GeP",
        "outputId": "05bcedb2-ad73-4081-d3b6-6afc0afe0966"
      },
      "execution_count": null,
      "outputs": [
        {
          "output_type": "stream",
          "name": "stdout",
          "text": [
            "(66, 7)\n"
          ]
        }
      ]
    },
    {
      "cell_type": "code",
      "source": [
        "print(df.dtypes) ## tipo dos dados de cada coluna"
      ],
      "metadata": {
        "id": "H_3Ebz8c4HA5",
        "colab": {
          "base_uri": "https://localhost:8080/"
        },
        "outputId": "2a687d1e-2334-4af4-f124-208ab167e35c"
      },
      "execution_count": null,
      "outputs": [
        {
          "output_type": "stream",
          "name": "stdout",
          "text": [
            "ano                        int64\n",
            "pais                      object\n",
            "idh                      float64\n",
            "populacao_geral            int64\n",
            "per_crian_cinc_soprep    float64\n",
            "kcal_medio                 int64\n",
            "diabeticos               float64\n",
            "dtype: object\n"
          ]
        }
      ]
    },
    {
      "cell_type": "code",
      "source": [
        "print(df.describe()) ## estatísticas descritivas dos dados"
      ],
      "metadata": {
        "colab": {
          "base_uri": "https://localhost:8080/"
        },
        "id": "JgatCJbF16YZ",
        "outputId": "85e2d14d-56ec-4cc6-e0cf-00136840af64"
      },
      "execution_count": null,
      "outputs": [
        {
          "output_type": "stream",
          "name": "stdout",
          "text": [
            "               ano        idh  populacao_geral  per_crian_cinc_soprep  \\\n",
            "count    66.000000  60.000000     6.600000e+01              63.000000   \n",
            "mean   2010.500000   0.784750     8.186593e+07               9.909524   \n",
            "std       6.392905   0.050022     7.962523e+07               2.392037   \n",
            "min    2000.000000   0.685000     1.052200e+04               6.200000   \n",
            "25%    2005.000000   0.756000     1.802928e+07               7.100000   \n",
            "50%    2010.500000   0.787500     4.063562e+07              10.600000   \n",
            "75%    2016.000000   0.830250     1.834572e+08              12.050000   \n",
            "max    2021.000000   0.851000     2.139934e+08              12.900000   \n",
            "\n",
            "        kcal_medio    diabeticos  \n",
            "count    66.000000     66.000000  \n",
            "mean   2415.045455   4531.775606  \n",
            "std      21.913418   5240.595637  \n",
            "min    2367.000000    131.100000  \n",
            "25%    2398.750000   1176.600000  \n",
            "50%    2414.000000   1638.750000  \n",
            "75%    2433.000000   7955.975000  \n",
            "max    2448.000000  15733.600000  \n"
          ]
        }
      ]
    },
    {
      "cell_type": "code",
      "source": [
        "df.head ## 5 primeiras linhas e 5 últimas linhas"
      ],
      "metadata": {
        "colab": {
          "base_uri": "https://localhost:8080/"
        },
        "id": "JsJSytO-7MQ2",
        "outputId": "1adc9d32-0687-4d33-e075-3ff8526f1ee4"
      },
      "execution_count": null,
      "outputs": [
        {
          "output_type": "execute_result",
          "data": {
            "text/plain": [
              "<bound method NDFrame.head of      ano    pais    idh  populacao_geral  per_crian_cinc_soprep  kcal_medio  \\\n",
              "0   2021  Brasil    NaN        213993441                    NaN        2447   \n",
              "1   2020  Brasil    NaN        212559409                    7.3        2448   \n",
              "2   2019  Brasil  0.765        211049519                    7.2        2447   \n",
              "3   2018  Brasil  0.762        209469320                    7.2        2447   \n",
              "4   2017  Brasil  0.761        207833825                    7.1        2446   \n",
              "..   ...     ...    ...              ...                    ...         ...   \n",
              "61  2004   Chile  0.785         16014972                   11.4        2403   \n",
              "62  2003   Chile  0.776         15849649                   11.5        2397   \n",
              "63  2002   Chile  0.769         15684413                   11.5        2391   \n",
              "64  2001   Chile  0.767         15516112                   11.4        2386   \n",
              "65  2000   Chile  0.756         15342350                   11.3        2378   \n",
              "\n",
              "    diabeticos  \n",
              "0     15733.60  \n",
              "1     15619.00  \n",
              "2     15456.00  \n",
              "3     15246.00  \n",
              "4     14988.00  \n",
              "..         ...  \n",
              "61      570.29  \n",
              "62      466.29  \n",
              "63      358.42  \n",
              "64      246.69  \n",
              "65      131.10  \n",
              "\n",
              "[66 rows x 7 columns]>"
            ]
          },
          "metadata": {},
          "execution_count": 110
        }
      ]
    },
    {
      "cell_type": "code",
      "source": [
        "print(df.index)\n",
        "print()\n",
        "print(df.columns)"
      ],
      "metadata": {
        "colab": {
          "base_uri": "https://localhost:8080/"
        },
        "id": "B12graRtSt94",
        "outputId": "3cfc9e4e-a2d7-4801-9842-14d1b4314949"
      },
      "execution_count": null,
      "outputs": [
        {
          "output_type": "stream",
          "name": "stdout",
          "text": [
            "RangeIndex(start=0, stop=66, step=1)\n",
            "\n",
            "Index(['ano', 'pais', 'idh', 'populacao_geral', 'per_crian_cinc_soprep',\n",
            "       'kcal_medio', 'diabeticos'],\n",
            "      dtype='object')\n"
          ]
        }
      ]
    },
    {
      "cell_type": "markdown",
      "source": [
        "Como vemos acima, as linhas são identificadas por números inteiros de 0 até 66 e as colunas são identificadas por strings, sendo elas:\n",
        "\n",
        "-   `ano`: ano relativo aqueles dados;\n",
        "-   `pais`: país de origem daqueles dados;\n",
        "-   `idh`: Índice de Desenvolvimento Humano daquele país naquele determinado ano;\n",
        "-   `populacao_geral`: número absoluto de pessoas\n",
        "-   `per_crian_cinc_soprep`: porcentagem de crianças com 5 anos ou menos que estão com sobrepeso em determinado país em determinado ano\n",
        "-   `kcal_medio`: necessidade calóriga média em kcal ingerida por dia por pessoas de determinado país em determinado ano\n",
        "-   `´diabeticos`: número de indivíduos diabéticos em milhar de determinado país a cada ano."
      ],
      "metadata": {
        "id": "HM37zpl9PCST"
      }
    },
    {
      "cell_type": "code",
      "source": [
        "#Removendo as linhas correspondentes aos anos de 2021 e 2020\n",
        "df_limpo = df.drop([2021, 2020], axis=0)\n",
        "print(df_limpo)"
      ],
      "metadata": {
        "id": "fb4_YP_avinq",
        "colab": {
          "base_uri": "https://localhost:8080/",
          "height": 863
        },
        "outputId": "0054be9a-5bfe-4c63-d2c1-e7ae3c049faf"
      },
      "execution_count": null,
      "outputs": [
        {
          "output_type": "error",
          "ename": "KeyError",
          "evalue": "ignored",
          "traceback": [
            "\u001b[0;31m---------------------------------------------------------------------------\u001b[0m",
            "\u001b[0;31mKeyError\u001b[0m                                  Traceback (most recent call last)",
            "\u001b[0;32m<ipython-input-112-3b3a176ee6fb>\u001b[0m in \u001b[0;36m<module>\u001b[0;34m\u001b[0m\n\u001b[1;32m      1\u001b[0m \u001b[0;31m#Removendo as linhas correspondentes aos anos de 2021 e 2020\u001b[0m\u001b[0;34m\u001b[0m\u001b[0;34m\u001b[0m\u001b[0;34m\u001b[0m\u001b[0m\n\u001b[0;32m----> 2\u001b[0;31m \u001b[0mdf_limpo\u001b[0m \u001b[0;34m=\u001b[0m \u001b[0mdf\u001b[0m\u001b[0;34m.\u001b[0m\u001b[0mdrop\u001b[0m\u001b[0;34m(\u001b[0m\u001b[0;34m[\u001b[0m\u001b[0;36m2021\u001b[0m\u001b[0;34m,\u001b[0m \u001b[0;36m2020\u001b[0m\u001b[0;34m]\u001b[0m\u001b[0;34m,\u001b[0m \u001b[0maxis\u001b[0m\u001b[0;34m=\u001b[0m\u001b[0;36m0\u001b[0m\u001b[0;34m)\u001b[0m\u001b[0;34m\u001b[0m\u001b[0;34m\u001b[0m\u001b[0m\n\u001b[0m\u001b[1;32m      3\u001b[0m \u001b[0mprint\u001b[0m\u001b[0;34m(\u001b[0m\u001b[0mdf_limpo\u001b[0m\u001b[0;34m)\u001b[0m\u001b[0;34m\u001b[0m\u001b[0;34m\u001b[0m\u001b[0m\n",
            "\u001b[0;32m/usr/local/lib/python3.7/dist-packages/pandas/util/_decorators.py\u001b[0m in \u001b[0;36mwrapper\u001b[0;34m(*args, **kwargs)\u001b[0m\n\u001b[1;32m    309\u001b[0m                     \u001b[0mstacklevel\u001b[0m\u001b[0;34m=\u001b[0m\u001b[0mstacklevel\u001b[0m\u001b[0;34m,\u001b[0m\u001b[0;34m\u001b[0m\u001b[0;34m\u001b[0m\u001b[0m\n\u001b[1;32m    310\u001b[0m                 )\n\u001b[0;32m--> 311\u001b[0;31m             \u001b[0;32mreturn\u001b[0m \u001b[0mfunc\u001b[0m\u001b[0;34m(\u001b[0m\u001b[0;34m*\u001b[0m\u001b[0margs\u001b[0m\u001b[0;34m,\u001b[0m \u001b[0;34m**\u001b[0m\u001b[0mkwargs\u001b[0m\u001b[0;34m)\u001b[0m\u001b[0;34m\u001b[0m\u001b[0;34m\u001b[0m\u001b[0m\n\u001b[0m\u001b[1;32m    312\u001b[0m \u001b[0;34m\u001b[0m\u001b[0m\n\u001b[1;32m    313\u001b[0m         \u001b[0;32mreturn\u001b[0m \u001b[0mwrapper\u001b[0m\u001b[0;34m\u001b[0m\u001b[0;34m\u001b[0m\u001b[0m\n",
            "\u001b[0;32m/usr/local/lib/python3.7/dist-packages/pandas/core/frame.py\u001b[0m in \u001b[0;36mdrop\u001b[0;34m(self, labels, axis, index, columns, level, inplace, errors)\u001b[0m\n\u001b[1;32m   4911\u001b[0m             \u001b[0mlevel\u001b[0m\u001b[0;34m=\u001b[0m\u001b[0mlevel\u001b[0m\u001b[0;34m,\u001b[0m\u001b[0;34m\u001b[0m\u001b[0;34m\u001b[0m\u001b[0m\n\u001b[1;32m   4912\u001b[0m             \u001b[0minplace\u001b[0m\u001b[0;34m=\u001b[0m\u001b[0minplace\u001b[0m\u001b[0;34m,\u001b[0m\u001b[0;34m\u001b[0m\u001b[0;34m\u001b[0m\u001b[0m\n\u001b[0;32m-> 4913\u001b[0;31m             \u001b[0merrors\u001b[0m\u001b[0;34m=\u001b[0m\u001b[0merrors\u001b[0m\u001b[0;34m,\u001b[0m\u001b[0;34m\u001b[0m\u001b[0;34m\u001b[0m\u001b[0m\n\u001b[0m\u001b[1;32m   4914\u001b[0m         )\n\u001b[1;32m   4915\u001b[0m \u001b[0;34m\u001b[0m\u001b[0m\n",
            "\u001b[0;32m/usr/local/lib/python3.7/dist-packages/pandas/core/generic.py\u001b[0m in \u001b[0;36mdrop\u001b[0;34m(self, labels, axis, index, columns, level, inplace, errors)\u001b[0m\n\u001b[1;32m   4148\u001b[0m         \u001b[0;32mfor\u001b[0m \u001b[0maxis\u001b[0m\u001b[0;34m,\u001b[0m \u001b[0mlabels\u001b[0m \u001b[0;32min\u001b[0m \u001b[0maxes\u001b[0m\u001b[0;34m.\u001b[0m\u001b[0mitems\u001b[0m\u001b[0;34m(\u001b[0m\u001b[0;34m)\u001b[0m\u001b[0;34m:\u001b[0m\u001b[0;34m\u001b[0m\u001b[0;34m\u001b[0m\u001b[0m\n\u001b[1;32m   4149\u001b[0m             \u001b[0;32mif\u001b[0m \u001b[0mlabels\u001b[0m \u001b[0;32mis\u001b[0m \u001b[0;32mnot\u001b[0m \u001b[0;32mNone\u001b[0m\u001b[0;34m:\u001b[0m\u001b[0;34m\u001b[0m\u001b[0;34m\u001b[0m\u001b[0m\n\u001b[0;32m-> 4150\u001b[0;31m                 \u001b[0mobj\u001b[0m \u001b[0;34m=\u001b[0m \u001b[0mobj\u001b[0m\u001b[0;34m.\u001b[0m\u001b[0m_drop_axis\u001b[0m\u001b[0;34m(\u001b[0m\u001b[0mlabels\u001b[0m\u001b[0;34m,\u001b[0m \u001b[0maxis\u001b[0m\u001b[0;34m,\u001b[0m \u001b[0mlevel\u001b[0m\u001b[0;34m=\u001b[0m\u001b[0mlevel\u001b[0m\u001b[0;34m,\u001b[0m \u001b[0merrors\u001b[0m\u001b[0;34m=\u001b[0m\u001b[0merrors\u001b[0m\u001b[0;34m)\u001b[0m\u001b[0;34m\u001b[0m\u001b[0;34m\u001b[0m\u001b[0m\n\u001b[0m\u001b[1;32m   4151\u001b[0m \u001b[0;34m\u001b[0m\u001b[0m\n\u001b[1;32m   4152\u001b[0m         \u001b[0;32mif\u001b[0m \u001b[0minplace\u001b[0m\u001b[0;34m:\u001b[0m\u001b[0;34m\u001b[0m\u001b[0;34m\u001b[0m\u001b[0m\n",
            "\u001b[0;32m/usr/local/lib/python3.7/dist-packages/pandas/core/generic.py\u001b[0m in \u001b[0;36m_drop_axis\u001b[0;34m(self, labels, axis, level, errors)\u001b[0m\n\u001b[1;32m   4183\u001b[0m                 \u001b[0mnew_axis\u001b[0m \u001b[0;34m=\u001b[0m \u001b[0maxis\u001b[0m\u001b[0;34m.\u001b[0m\u001b[0mdrop\u001b[0m\u001b[0;34m(\u001b[0m\u001b[0mlabels\u001b[0m\u001b[0;34m,\u001b[0m \u001b[0mlevel\u001b[0m\u001b[0;34m=\u001b[0m\u001b[0mlevel\u001b[0m\u001b[0;34m,\u001b[0m \u001b[0merrors\u001b[0m\u001b[0;34m=\u001b[0m\u001b[0merrors\u001b[0m\u001b[0;34m)\u001b[0m\u001b[0;34m\u001b[0m\u001b[0;34m\u001b[0m\u001b[0m\n\u001b[1;32m   4184\u001b[0m             \u001b[0;32melse\u001b[0m\u001b[0;34m:\u001b[0m\u001b[0;34m\u001b[0m\u001b[0;34m\u001b[0m\u001b[0m\n\u001b[0;32m-> 4185\u001b[0;31m                 \u001b[0mnew_axis\u001b[0m \u001b[0;34m=\u001b[0m \u001b[0maxis\u001b[0m\u001b[0;34m.\u001b[0m\u001b[0mdrop\u001b[0m\u001b[0;34m(\u001b[0m\u001b[0mlabels\u001b[0m\u001b[0;34m,\u001b[0m \u001b[0merrors\u001b[0m\u001b[0;34m=\u001b[0m\u001b[0merrors\u001b[0m\u001b[0;34m)\u001b[0m\u001b[0;34m\u001b[0m\u001b[0;34m\u001b[0m\u001b[0m\n\u001b[0m\u001b[1;32m   4186\u001b[0m             \u001b[0mresult\u001b[0m \u001b[0;34m=\u001b[0m \u001b[0mself\u001b[0m\u001b[0;34m.\u001b[0m\u001b[0mreindex\u001b[0m\u001b[0;34m(\u001b[0m\u001b[0;34m**\u001b[0m\u001b[0;34m{\u001b[0m\u001b[0maxis_name\u001b[0m\u001b[0;34m:\u001b[0m \u001b[0mnew_axis\u001b[0m\u001b[0;34m}\u001b[0m\u001b[0;34m)\u001b[0m\u001b[0;34m\u001b[0m\u001b[0;34m\u001b[0m\u001b[0m\n\u001b[1;32m   4187\u001b[0m \u001b[0;34m\u001b[0m\u001b[0m\n",
            "\u001b[0;32m/usr/local/lib/python3.7/dist-packages/pandas/core/indexes/base.py\u001b[0m in \u001b[0;36mdrop\u001b[0;34m(self, labels, errors)\u001b[0m\n\u001b[1;32m   6015\u001b[0m         \u001b[0;32mif\u001b[0m \u001b[0mmask\u001b[0m\u001b[0;34m.\u001b[0m\u001b[0many\u001b[0m\u001b[0;34m(\u001b[0m\u001b[0;34m)\u001b[0m\u001b[0;34m:\u001b[0m\u001b[0;34m\u001b[0m\u001b[0;34m\u001b[0m\u001b[0m\n\u001b[1;32m   6016\u001b[0m             \u001b[0;32mif\u001b[0m \u001b[0merrors\u001b[0m \u001b[0;34m!=\u001b[0m \u001b[0;34m\"ignore\"\u001b[0m\u001b[0;34m:\u001b[0m\u001b[0;34m\u001b[0m\u001b[0;34m\u001b[0m\u001b[0m\n\u001b[0;32m-> 6017\u001b[0;31m                 \u001b[0;32mraise\u001b[0m \u001b[0mKeyError\u001b[0m\u001b[0;34m(\u001b[0m\u001b[0;34mf\"{labels[mask]} not found in axis\"\u001b[0m\u001b[0;34m)\u001b[0m\u001b[0;34m\u001b[0m\u001b[0;34m\u001b[0m\u001b[0m\n\u001b[0m\u001b[1;32m   6018\u001b[0m             \u001b[0mindexer\u001b[0m \u001b[0;34m=\u001b[0m \u001b[0mindexer\u001b[0m\u001b[0;34m[\u001b[0m\u001b[0;34m~\u001b[0m\u001b[0mmask\u001b[0m\u001b[0;34m]\u001b[0m\u001b[0;34m\u001b[0m\u001b[0;34m\u001b[0m\u001b[0m\n\u001b[1;32m   6019\u001b[0m         \u001b[0;32mreturn\u001b[0m \u001b[0mself\u001b[0m\u001b[0;34m.\u001b[0m\u001b[0mdelete\u001b[0m\u001b[0;34m(\u001b[0m\u001b[0mindexer\u001b[0m\u001b[0;34m)\u001b[0m\u001b[0;34m\u001b[0m\u001b[0;34m\u001b[0m\u001b[0m\n",
            "\u001b[0;31mKeyError\u001b[0m: '[2021 2020] not found in axis'"
          ]
        }
      ]
    },
    {
      "cell_type": "code",
      "source": [
        "# matriz de covariancia\n",
        "#df_covariance = df_dataset.cov()\n",
        "\n",
        "# matriz de correlação\n",
        "#df_correlation = df_dataset.corr()\n",
        "\n",
        "#print('Matriz de covariância: ')\n",
        "#display(df_covariance)\n",
        "\n",
        "#print('\\n\\nMatriz de correlação: ')\n",
        "#display(df_correlation)"
      ],
      "metadata": {
        "id": "5xf6dvej07ab"
      },
      "execution_count": null,
      "outputs": []
    },
    {
      "cell_type": "code",
      "source": [
        "print(df)"
      ],
      "metadata": {
        "id": "47DLsYPZzP9H",
        "outputId": "7e50f94d-fb49-43f7-9c66-5dc1ca134812",
        "colab": {
          "base_uri": "https://localhost:8080/"
        }
      },
      "execution_count": null,
      "outputs": [
        {
          "output_type": "stream",
          "name": "stdout",
          "text": [
            "     ano    pais    idh  populacao_geral  per_crian_cinc_soprep  kcal_medio  \\\n",
            "0   2021  Brasil    NaN        213993441                    NaN        2447   \n",
            "1   2020  Brasil    NaN        212559409                    7.3        2448   \n",
            "2   2019  Brasil  0.765        211049519                    7.2        2447   \n",
            "3   2018  Brasil  0.762        209469320                    7.2        2447   \n",
            "4   2017  Brasil  0.761        207833825                    7.1        2446   \n",
            "..   ...     ...    ...              ...                    ...         ...   \n",
            "61  2004   Chile  0.785         16014972                   11.4        2403   \n",
            "62  2003   Chile  0.776         15849649                   11.5        2397   \n",
            "63  2002   Chile  0.769         15684413                   11.5        2391   \n",
            "64  2001   Chile  0.767         15516112                   11.4        2386   \n",
            "65  2000   Chile  0.756         15342350                   11.3        2378   \n",
            "\n",
            "    diabeticos  \n",
            "0     15733.60  \n",
            "1     15619.00  \n",
            "2     15456.00  \n",
            "3     15246.00  \n",
            "4     14988.00  \n",
            "..         ...  \n",
            "61      570.29  \n",
            "62      466.29  \n",
            "63      358.42  \n",
            "64      246.69  \n",
            "65      131.10  \n",
            "\n",
            "[66 rows x 7 columns]\n"
          ]
        }
      ]
    },
    {
      "cell_type": "markdown",
      "source": [
        "Essas linhas referentes a 2020 e 2021 serão removidas porque, durante esses anos, enfrentou-se uma pandemia mundial de COVID-19, assim, os números e condições se diferem muito da realidade analisada em outros anos, logo, é preciso eliminá-las para que o modelo não seja mau influenciado."
      ],
      "metadata": {
        "id": "9w_ify-os92k"
      }
    },
    {
      "cell_type": "markdown",
      "source": [
        "Testes de Gráficos:"
      ],
      "metadata": {
        "id": "vRCIE8jv8C1s"
      }
    },
    {
      "cell_type": "code",
      "source": [
        "df.plot('ano', 'idh', kind = 'scatter')"
      ],
      "metadata": {
        "id": "ZGn7MWxd8HN3"
      },
      "execution_count": null,
      "outputs": []
    },
    {
      "cell_type": "code",
      "source": [
        "#define index column\n",
        "df.set_index('ano', inplace=True)\n",
        "\n",
        "#group data by product and display sales as line chart\n",
        "df.groupby('pais')['idh'].plot(legend=True)"
      ],
      "metadata": {
        "id": "3EWVH5eRWK4G"
      },
      "execution_count": null,
      "outputs": []
    },
    {
      "cell_type": "code",
      "source": [
        "#define index column\n",
        "df.set_index('ano', inplace=True)\n",
        "\n",
        "#group data by product and display sales as line chart\n",
        "df.groupby('pais')['kcal_medio'].plot(legend=True)"
      ],
      "metadata": {
        "id": "y0RD7m87vQfS"
      },
      "execution_count": null,
      "outputs": []
    },
    {
      "cell_type": "markdown",
      "source": [
        "Com os gráficos acima, podemos perceber que o comportamento do Chile e da Argentina são bem semelhantes, enquanto o comportamento do Brasil se diferencia bastante em relação a eles."
      ],
      "metadata": {
        "id": "LGuwOf8dZHbZ"
      }
    },
    {
      "cell_type": "code",
      "source": [
        ""
      ],
      "metadata": {
        "id": "ioJZCsFuUhkz"
      },
      "execution_count": null,
      "outputs": []
    },
    {
      "cell_type": "code",
      "source": [
        ""
      ],
      "metadata": {
        "id": "EjDJkPL3tEIu"
      },
      "execution_count": null,
      "outputs": []
    }
  ]
}